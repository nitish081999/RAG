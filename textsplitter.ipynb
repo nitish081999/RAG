{
 "cells": [
  {
   "cell_type": "markdown",
   "id": "7bb60824-5d67-4011-a577-269e5f3796ad",
   "metadata": {},
   "source": [
    "# Recursively split by character\n"
   ]
  },
  {
   "cell_type": "code",
   "execution_count": 5,
   "id": "61473f7f-ed6b-41f6-ba37-1f825d98ab89",
   "metadata": {},
   "outputs": [],
   "source": [
    "!pip install -qU langchain-text-splitters"
   ]
  },
  {
   "cell_type": "code",
   "execution_count": 6,
   "id": "6f7aae13-39ee-4bac-b2c8-b24bd65e6929",
   "metadata": {},
   "outputs": [],
   "source": [
    "with open('./state_of_the_union.txt') as f:\n",
    "    state_of_the_union=f.read()"
   ]
  },
  {
   "cell_type": "code",
   "execution_count": 7,
   "id": "3241add6-3bcd-48e1-b1eb-67345802feda",
   "metadata": {},
   "outputs": [],
   "source": [
    "from langchain_text_splitters import RecursiveCharacterTextSplitter"
   ]
  },
  {
   "cell_type": "code",
   "execution_count": 8,
   "id": "1c1ddfdf-7303-43bf-926b-05460e3fb000",
   "metadata": {},
   "outputs": [],
   "source": [
    "text_splitter=RecursiveCharacterTextSplitter(\n",
    "    chunk_size=100,\n",
    "    chunk_overlap=20,\n",
    "    length_function=len,\n",
    "    is_separator_regex=False\n",
    ")"
   ]
  },
  {
   "cell_type": "code",
   "execution_count": 9,
   "id": "0b0d285e-e52e-487d-8b74-d2f60c2055a8",
   "metadata": {},
   "outputs": [],
   "source": [
    "texts=text_splitter.create_documents([state_of_the_union])"
   ]
  },
  {
   "cell_type": "code",
   "execution_count": 12,
   "id": "c9af217e-8967-4c06-81e6-9df09e9252aa",
   "metadata": {},
   "outputs": [
    {
     "data": {
      "text/plain": [
       "('Madame Speaker, Vice President Biden, members of Congress, distinguished guests, and fellow',\n",
       " Document(page_content='guests, and fellow Americans:'))"
      ]
     },
     "execution_count": 12,
     "metadata": {},
     "output_type": "execute_result"
    }
   ],
   "source": [
    "texts[0].page_content,texts[1]"
   ]
  },
  {
   "cell_type": "code",
   "execution_count": null,
   "id": "352e1616-6ce8-437e-b224-abcbe7da08fc",
   "metadata": {},
   "outputs": [],
   "source": []
  },
  {
   "cell_type": "code",
   "execution_count": null,
   "id": "93a0f2d2-34c9-4be0-b9b2-4c797376fd73",
   "metadata": {},
   "outputs": [],
   "source": []
  }
 ],
 "metadata": {
  "kernelspec": {
   "display_name": "Python 3 (ipykernel)",
   "language": "python",
   "name": "python3"
  },
  "language_info": {
   "codemirror_mode": {
    "name": "ipython",
    "version": 3
   },
   "file_extension": ".py",
   "mimetype": "text/x-python",
   "name": "python",
   "nbconvert_exporter": "python",
   "pygments_lexer": "ipython3",
   "version": "3.11.9"
  },
  "widgets": {
   "application/vnd.jupyter.widget-state+json": {
    "state": {},
    "version_major": 2,
    "version_minor": 0
   }
  }
 },
 "nbformat": 4,
 "nbformat_minor": 5
}
