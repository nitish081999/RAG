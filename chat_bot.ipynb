{
 "cells": [
  {
   "cell_type": "code",
   "execution_count": 1,
   "id": "0c82df1d-36f2-4c8e-89e7-d1bf0ee2abc9",
   "metadata": {},
   "outputs": [],
   "source": [
    "import os\n",
    "import openai\n",
    "from dotenv import load_dotenv\n",
    "import nest_asyncio"
   ]
  },
  {
   "cell_type": "code",
   "execution_count": 2,
   "id": "a1ea714b-c8d0-4485-9c28-7ef542654ed0",
   "metadata": {},
   "outputs": [],
   "source": [
    "load_dotenv()\n",
    "nest_asyncio.apply()\n",
    "OPENAI_API_KEY=os.getenv('OPENAI_API_KEY')"
   ]
  },
  {
   "cell_type": "markdown",
   "id": "5d53048e-d371-4682-afdc-b91e3cc47c41",
   "metadata": {},
   "source": [
    "# Ingest Data"
   ]
  },
  {
   "cell_type": "code",
   "execution_count": 6,
   "id": "e6df4609-d216-495d-adb1-2bce94ca6bd5",
   "metadata": {},
   "outputs": [
    {
     "name": "stdout",
     "output_type": "stream",
     "text": [
      "mkdir: cannot create directory ‘data’: File exists\n",
      "--2024-08-15 13:34:44--  https://www.dropbox.com/s/948jr9cfs7fgj99/UBER.zip?dl=1\n",
      "Resolving www.dropbox.com (www.dropbox.com)... 2620:100:6031:18::a27d:5112, 162.125.81.18\n",
      "Connecting to www.dropbox.com (www.dropbox.com)|2620:100:6031:18::a27d:5112|:443... connected.\n",
      "HTTP request sent, awaiting response... 302 Found\n",
      "Location: https://www.dropbox.com/scl/fi/vetj6tgcux8e309swquxs/UBER.zip?rlkey=oy4vx60rplorounkh9wh2waux&dl=1 [following]\n",
      "--2024-08-15 13:34:45--  https://www.dropbox.com/scl/fi/vetj6tgcux8e309swquxs/UBER.zip?rlkey=oy4vx60rplorounkh9wh2waux&dl=1\n",
      "Reusing existing connection to [www.dropbox.com]:443.\n",
      "HTTP request sent, awaiting response... 302 Found\n",
      "Location: https://uc3cf7b63d84829ebba363145277.dl.dropboxusercontent.com/cd/0/inline/CYoDbjFTacz1N_xOuoQ9Lfk3VEIVFM9eW9cBJhsM-DCaNz1TJ4V-UodKOCSou5hfDfubrQPAHg-Eq-y3A4102bNeI4IX7fsinm18rf--CjB69pT7zeHe6SThkOLA7RPoPzc/file?dl=1# [following]\n",
      "--2024-08-15 13:34:46--  https://uc3cf7b63d84829ebba363145277.dl.dropboxusercontent.com/cd/0/inline/CYoDbjFTacz1N_xOuoQ9Lfk3VEIVFM9eW9cBJhsM-DCaNz1TJ4V-UodKOCSou5hfDfubrQPAHg-Eq-y3A4102bNeI4IX7fsinm18rf--CjB69pT7zeHe6SThkOLA7RPoPzc/file?dl=1\n",
      "Resolving uc3cf7b63d84829ebba363145277.dl.dropboxusercontent.com (uc3cf7b63d84829ebba363145277.dl.dropboxusercontent.com)... 2620:100:6031:15::a27d:510f, 162.125.81.15\n",
      "Connecting to uc3cf7b63d84829ebba363145277.dl.dropboxusercontent.com (uc3cf7b63d84829ebba363145277.dl.dropboxusercontent.com)|2620:100:6031:15::a27d:510f|:443... connected.\n",
      "HTTP request sent, awaiting response... 302 Found\n",
      "Location: /cd/0/inline2/CYqdy7NaKAh-DgnxcnkYkXBi8dKPHswHfamPBxEMcQzarOCRIFbC8AZqhOD2pM5lGLSKxZUszWHQ6ajOkbf3cUL8CZ71iOTaRYWj2Hywc3gb3Oz5MdqyKLsVIGF9uXvSbPvRO06Mj4ajBJB87WNOrS-WknWN8s-i1DwobRaaVZoKZUIZpzaUID0jOekegnDZZl6KtDJuwNryg3HIJNCCWUMtUhllaS1ZkawvIIiXogHDSB5eN-4sLyaN-RFFwBGCgVOklJg7EgcFjkzj_FTsPyUMkzOovG2BllwhLvk-PlrKEQYktVSbKeuUfBvOxiC-GsGgmhdD8PkjXSXKm6y4H-YzScBTQHfw3vFi0S4pq_WkJw/file?dl=1 [following]\n",
      "--2024-08-15 13:34:48--  https://uc3cf7b63d84829ebba363145277.dl.dropboxusercontent.com/cd/0/inline2/CYqdy7NaKAh-DgnxcnkYkXBi8dKPHswHfamPBxEMcQzarOCRIFbC8AZqhOD2pM5lGLSKxZUszWHQ6ajOkbf3cUL8CZ71iOTaRYWj2Hywc3gb3Oz5MdqyKLsVIGF9uXvSbPvRO06Mj4ajBJB87WNOrS-WknWN8s-i1DwobRaaVZoKZUIZpzaUID0jOekegnDZZl6KtDJuwNryg3HIJNCCWUMtUhllaS1ZkawvIIiXogHDSB5eN-4sLyaN-RFFwBGCgVOklJg7EgcFjkzj_FTsPyUMkzOovG2BllwhLvk-PlrKEQYktVSbKeuUfBvOxiC-GsGgmhdD8PkjXSXKm6y4H-YzScBTQHfw3vFi0S4pq_WkJw/file?dl=1\n",
      "Reusing existing connection to [uc3cf7b63d84829ebba363145277.dl.dropboxusercontent.com]:443.\n",
      "HTTP request sent, awaiting response... 200 OK\n",
      "Length: 1820227 (1.7M) [application/binary]\n",
      "Saving to: ‘data/UBER.zip’\n",
      "\n",
      "data/UBER.zip       100%[===================>]   1.74M  1.24MB/s    in 1.4s    \n",
      "\n",
      "2024-08-15 13:34:50 (1.24 MB/s) - ‘data/UBER.zip’ saved [1820227/1820227]\n",
      "\n",
      "Archive:  data/UBER.zip\n",
      "   creating: data/UBER/\n",
      "  inflating: data/UBER/UBER_2021.html  \n",
      "  inflating: data/__MACOSX/UBER/._UBER_2021.html  \n",
      "  inflating: data/UBER/UBER_2020.html  \n",
      "  inflating: data/__MACOSX/UBER/._UBER_2020.html  \n",
      "  inflating: data/UBER/UBER_2019.html  \n",
      "  inflating: data/__MACOSX/UBER/._UBER_2019.html  \n",
      "  inflating: data/UBER/UBER_2022.html  \n",
      "  inflating: data/__MACOSX/UBER/._UBER_2022.html  \n"
     ]
    }
   ],
   "source": [
    "# NOTE: the code examples assume you're operating within a Jupyter notebook.\n",
    "# download files\n",
    "!mkdir data\n",
    "!wget \"https://www.dropbox.com/s/948jr9cfs7fgj99/UBER.zip?dl=1\" -O data/UBER.zip\n",
    "!unzip data/UBER.zip -d data"
   ]
  },
  {
   "cell_type": "code",
   "execution_count": 3,
   "id": "ce9aced8-2e8f-409a-bb85-b1c42b902cdf",
   "metadata": {},
   "outputs": [
    {
     "name": "stdout",
     "output_type": "stream",
     "text": [
      "Requirement already satisfied: llama-hub in /home/nitish/anaconda3/envs/RAG/lib/python3.11/site-packages (0.0.79.post1)\n",
      "Requirement already satisfied: unstructured in /home/nitish/anaconda3/envs/RAG/lib/python3.11/site-packages (0.15.1)\n",
      "Collecting unstructured\n",
      "  Downloading unstructured-0.15.3-py3-none-any.whl.metadata (29 kB)\n",
      "Requirement already satisfied: html2text in /home/nitish/anaconda3/envs/RAG/lib/python3.11/site-packages (from llama-hub) (2024.2.26)\n",
      "Requirement already satisfied: llama-index>=0.9.41 in /home/nitish/anaconda3/envs/RAG/lib/python3.11/site-packages (from llama-hub) (0.10.65)\n",
      "Requirement already satisfied: psutil in /home/nitish/anaconda3/envs/RAG/lib/python3.11/site-packages (from llama-hub) (5.9.0)\n",
      "Requirement already satisfied: pyaml<24.0.0,>=23.9.7 in /home/nitish/anaconda3/envs/RAG/lib/python3.11/site-packages (from llama-hub) (23.12.0)\n",
      "Requirement already satisfied: retrying in /home/nitish/anaconda3/envs/RAG/lib/python3.11/site-packages (from llama-hub) (1.3.4)\n",
      "Requirement already satisfied: chardet in /home/nitish/anaconda3/envs/RAG/lib/python3.11/site-packages (from unstructured) (5.2.0)\n",
      "Requirement already satisfied: filetype in /home/nitish/anaconda3/envs/RAG/lib/python3.11/site-packages (from unstructured) (1.2.0)\n",
      "Requirement already satisfied: python-magic in /home/nitish/anaconda3/envs/RAG/lib/python3.11/site-packages (from unstructured) (0.4.27)\n",
      "Requirement already satisfied: lxml in /home/nitish/anaconda3/envs/RAG/lib/python3.11/site-packages (from unstructured) (5.3.0)\n",
      "Requirement already satisfied: nltk in /home/nitish/anaconda3/envs/RAG/lib/python3.11/site-packages (from unstructured) (3.8.1)\n",
      "Requirement already satisfied: tabulate in /home/nitish/anaconda3/envs/RAG/lib/python3.11/site-packages (from unstructured) (0.9.0)\n",
      "Requirement already satisfied: requests in /home/nitish/anaconda3/envs/RAG/lib/python3.11/site-packages (from unstructured) (2.32.3)\n",
      "Requirement already satisfied: beautifulsoup4 in /home/nitish/anaconda3/envs/RAG/lib/python3.11/site-packages (from unstructured) (4.12.3)\n",
      "Requirement already satisfied: emoji in /home/nitish/anaconda3/envs/RAG/lib/python3.11/site-packages (from unstructured) (2.12.1)\n",
      "Requirement already satisfied: dataclasses-json in /home/nitish/anaconda3/envs/RAG/lib/python3.11/site-packages (from unstructured) (0.6.7)\n",
      "Requirement already satisfied: python-iso639 in /home/nitish/anaconda3/envs/RAG/lib/python3.11/site-packages (from unstructured) (2024.4.27)\n",
      "Requirement already satisfied: langdetect in /home/nitish/anaconda3/envs/RAG/lib/python3.11/site-packages (from unstructured) (1.0.9)\n",
      "Requirement already satisfied: numpy<2 in /home/nitish/anaconda3/envs/RAG/lib/python3.11/site-packages (from unstructured) (1.26.4)\n",
      "Requirement already satisfied: rapidfuzz in /home/nitish/anaconda3/envs/RAG/lib/python3.11/site-packages (from unstructured) (3.9.6)\n",
      "Requirement already satisfied: backoff in /home/nitish/anaconda3/envs/RAG/lib/python3.11/site-packages (from unstructured) (2.2.1)\n",
      "Requirement already satisfied: typing-extensions in /home/nitish/anaconda3/envs/RAG/lib/python3.11/site-packages (from unstructured) (4.11.0)\n",
      "Requirement already satisfied: unstructured-client in /home/nitish/anaconda3/envs/RAG/lib/python3.11/site-packages (from unstructured) (0.25.5)\n",
      "Requirement already satisfied: wrapt in /home/nitish/anaconda3/envs/RAG/lib/python3.11/site-packages (from unstructured) (1.16.0)\n",
      "Requirement already satisfied: tqdm in /home/nitish/anaconda3/envs/RAG/lib/python3.11/site-packages (from unstructured) (4.66.5)\n",
      "Requirement already satisfied: llama-index-agent-openai<0.3.0,>=0.1.4 in /home/nitish/anaconda3/envs/RAG/lib/python3.11/site-packages (from llama-index>=0.9.41->llama-hub) (0.2.9)\n",
      "Requirement already satisfied: llama-index-cli<0.2.0,>=0.1.2 in /home/nitish/anaconda3/envs/RAG/lib/python3.11/site-packages (from llama-index>=0.9.41->llama-hub) (0.1.13)\n",
      "Collecting llama-index-core<0.11.0,>=0.10.65 (from llama-index>=0.9.41->llama-hub)\n",
      "  Using cached llama_index_core-0.10.65-py3-none-any.whl.metadata (2.4 kB)\n",
      "Requirement already satisfied: llama-index-embeddings-openai<0.2.0,>=0.1.5 in /home/nitish/anaconda3/envs/RAG/lib/python3.11/site-packages (from llama-index>=0.9.41->llama-hub) (0.1.11)\n",
      "Requirement already satisfied: llama-index-indices-managed-llama-cloud>=0.2.0 in /home/nitish/anaconda3/envs/RAG/lib/python3.11/site-packages (from llama-index>=0.9.41->llama-hub) (0.2.7)\n",
      "Requirement already satisfied: llama-index-legacy<0.10.0,>=0.9.48 in /home/nitish/anaconda3/envs/RAG/lib/python3.11/site-packages (from llama-index>=0.9.41->llama-hub) (0.9.48)\n",
      "Requirement already satisfied: llama-index-llms-openai<0.2.0,>=0.1.27 in /home/nitish/anaconda3/envs/RAG/lib/python3.11/site-packages (from llama-index>=0.9.41->llama-hub) (0.1.29)\n",
      "Requirement already satisfied: llama-index-multi-modal-llms-openai<0.2.0,>=0.1.3 in /home/nitish/anaconda3/envs/RAG/lib/python3.11/site-packages (from llama-index>=0.9.41->llama-hub) (0.1.9)\n",
      "Requirement already satisfied: llama-index-program-openai<0.2.0,>=0.1.3 in /home/nitish/anaconda3/envs/RAG/lib/python3.11/site-packages (from llama-index>=0.9.41->llama-hub) (0.1.7)\n",
      "Requirement already satisfied: llama-index-question-gen-openai<0.2.0,>=0.1.2 in /home/nitish/anaconda3/envs/RAG/lib/python3.11/site-packages (from llama-index>=0.9.41->llama-hub) (0.1.3)\n",
      "Requirement already satisfied: llama-index-readers-file<0.2.0,>=0.1.4 in /home/nitish/anaconda3/envs/RAG/lib/python3.11/site-packages (from llama-index>=0.9.41->llama-hub) (0.1.33)\n",
      "Requirement already satisfied: llama-index-readers-llama-parse>=0.1.2 in /home/nitish/anaconda3/envs/RAG/lib/python3.11/site-packages (from llama-index>=0.9.41->llama-hub) (0.1.6)\n",
      "Requirement already satisfied: PyYAML in /home/nitish/anaconda3/envs/RAG/lib/python3.11/site-packages (from pyaml<24.0.0,>=23.9.7->llama-hub) (6.0.1)\n",
      "Requirement already satisfied: soupsieve>1.2 in /home/nitish/anaconda3/envs/RAG/lib/python3.11/site-packages (from beautifulsoup4->unstructured) (2.5)\n",
      "Requirement already satisfied: marshmallow<4.0.0,>=3.18.0 in /home/nitish/anaconda3/envs/RAG/lib/python3.11/site-packages (from dataclasses-json->unstructured) (3.21.3)\n",
      "Requirement already satisfied: typing-inspect<1,>=0.4.0 in /home/nitish/anaconda3/envs/RAG/lib/python3.11/site-packages (from dataclasses-json->unstructured) (0.9.0)\n",
      "Requirement already satisfied: six in /home/nitish/anaconda3/envs/RAG/lib/python3.11/site-packages (from langdetect->unstructured) (1.16.0)\n",
      "Requirement already satisfied: click in /home/nitish/anaconda3/envs/RAG/lib/python3.11/site-packages (from nltk->unstructured) (8.1.7)\n",
      "Requirement already satisfied: joblib in /home/nitish/anaconda3/envs/RAG/lib/python3.11/site-packages (from nltk->unstructured) (1.4.2)\n",
      "Requirement already satisfied: regex>=2021.8.3 in /home/nitish/anaconda3/envs/RAG/lib/python3.11/site-packages (from nltk->unstructured) (2024.7.24)\n",
      "Requirement already satisfied: charset-normalizer<4,>=2 in /home/nitish/anaconda3/envs/RAG/lib/python3.11/site-packages (from requests->unstructured) (3.3.2)\n",
      "Requirement already satisfied: idna<4,>=2.5 in /home/nitish/anaconda3/envs/RAG/lib/python3.11/site-packages (from requests->unstructured) (3.7)\n",
      "Requirement already satisfied: urllib3<3,>=1.21.1 in /home/nitish/anaconda3/envs/RAG/lib/python3.11/site-packages (from requests->unstructured) (2.2.2)\n",
      "Requirement already satisfied: certifi>=2017.4.17 in /home/nitish/anaconda3/envs/RAG/lib/python3.11/site-packages (from requests->unstructured) (2024.7.4)\n",
      "Requirement already satisfied: deepdiff>=6.0 in /home/nitish/anaconda3/envs/RAG/lib/python3.11/site-packages (from unstructured-client->unstructured) (7.0.1)\n",
      "Requirement already satisfied: httpx>=0.27.0 in /home/nitish/anaconda3/envs/RAG/lib/python3.11/site-packages (from unstructured-client->unstructured) (0.27.0)\n",
      "Requirement already satisfied: jsonpath-python>=1.0.6 in /home/nitish/anaconda3/envs/RAG/lib/python3.11/site-packages (from unstructured-client->unstructured) (1.0.6)\n",
      "Requirement already satisfied: mypy-extensions>=1.0.0 in /home/nitish/anaconda3/envs/RAG/lib/python3.11/site-packages (from unstructured-client->unstructured) (1.0.0)\n",
      "Requirement already satisfied: nest-asyncio>=1.6.0 in /home/nitish/anaconda3/envs/RAG/lib/python3.11/site-packages (from unstructured-client->unstructured) (1.6.0)\n",
      "Requirement already satisfied: packaging>=23.1 in /home/nitish/anaconda3/envs/RAG/lib/python3.11/site-packages (from unstructured-client->unstructured) (24.1)\n",
      "Requirement already satisfied: pypdf>=4.0 in /home/nitish/anaconda3/envs/RAG/lib/python3.11/site-packages (from unstructured-client->unstructured) (4.3.1)\n",
      "Requirement already satisfied: python-dateutil>=2.8.2 in /home/nitish/anaconda3/envs/RAG/lib/python3.11/site-packages (from unstructured-client->unstructured) (2.9.0.post0)\n",
      "Requirement already satisfied: requests-toolbelt>=1.0.0 in /home/nitish/anaconda3/envs/RAG/lib/python3.11/site-packages (from unstructured-client->unstructured) (1.0.0)\n",
      "Requirement already satisfied: ordered-set<4.2.0,>=4.1.0 in /home/nitish/anaconda3/envs/RAG/lib/python3.11/site-packages (from deepdiff>=6.0->unstructured-client->unstructured) (4.1.0)\n",
      "Requirement already satisfied: anyio in /home/nitish/anaconda3/envs/RAG/lib/python3.11/site-packages (from httpx>=0.27.0->unstructured-client->unstructured) (4.2.0)\n",
      "Requirement already satisfied: httpcore==1.* in /home/nitish/anaconda3/envs/RAG/lib/python3.11/site-packages (from httpx>=0.27.0->unstructured-client->unstructured) (1.0.5)\n",
      "Requirement already satisfied: sniffio in /home/nitish/anaconda3/envs/RAG/lib/python3.11/site-packages (from httpx>=0.27.0->unstructured-client->unstructured) (1.3.0)\n",
      "Requirement already satisfied: h11<0.15,>=0.13 in /home/nitish/anaconda3/envs/RAG/lib/python3.11/site-packages (from httpcore==1.*->httpx>=0.27.0->unstructured-client->unstructured) (0.14.0)\n",
      "Requirement already satisfied: openai>=1.14.0 in /home/nitish/anaconda3/envs/RAG/lib/python3.11/site-packages (from llama-index-agent-openai<0.3.0,>=0.1.4->llama-index>=0.9.41->llama-hub) (1.40.6)\n",
      "Requirement already satisfied: SQLAlchemy>=1.4.49 in /home/nitish/anaconda3/envs/RAG/lib/python3.11/site-packages (from SQLAlchemy[asyncio]>=1.4.49->llama-index-core<0.11.0,>=0.10.65->llama-index>=0.9.41->llama-hub) (2.0.32)\n",
      "Requirement already satisfied: aiohttp<4.0.0,>=3.8.6 in /home/nitish/anaconda3/envs/RAG/lib/python3.11/site-packages (from llama-index-core<0.11.0,>=0.10.65->llama-index>=0.9.41->llama-hub) (3.10.3)\n",
      "Requirement already satisfied: deprecated>=1.2.9.3 in /home/nitish/anaconda3/envs/RAG/lib/python3.11/site-packages (from llama-index-core<0.11.0,>=0.10.65->llama-index>=0.9.41->llama-hub) (1.2.14)\n",
      "Requirement already satisfied: dirtyjson<2.0.0,>=1.0.8 in /home/nitish/anaconda3/envs/RAG/lib/python3.11/site-packages (from llama-index-core<0.11.0,>=0.10.65->llama-index>=0.9.41->llama-hub) (1.0.8)\n",
      "Requirement already satisfied: fsspec>=2023.5.0 in /home/nitish/anaconda3/envs/RAG/lib/python3.11/site-packages (from llama-index-core<0.11.0,>=0.10.65->llama-index>=0.9.41->llama-hub) (2024.6.1)\n",
      "Requirement already satisfied: networkx>=3.0 in /home/nitish/anaconda3/envs/RAG/lib/python3.11/site-packages (from llama-index-core<0.11.0,>=0.10.65->llama-index>=0.9.41->llama-hub) (3.3)\n",
      "INFO: pip is looking at multiple versions of llama-index-core to determine which version is compatible with other requirements. This could take a while.\n",
      "Collecting llama-index-cli<0.2.0,>=0.1.2 (from llama-index>=0.9.41->llama-hub)\n",
      "  Using cached llama_index_cli-0.1.13-py3-none-any.whl.metadata (1.5 kB)\n",
      "Collecting llama-index-agent-openai<0.3.0,>=0.1.4 (from llama-index>=0.9.41->llama-hub)\n",
      "  Using cached llama_index_agent_openai-0.2.9-py3-none-any.whl.metadata (729 bytes)\n",
      "Collecting llama-index>=0.9.41 (from llama-hub)\n",
      "  Using cached llama_index-0.10.65-py3-none-any.whl.metadata (11 kB)\n",
      "  Downloading llama_index-0.10.64-py3-none-any.whl.metadata (11 kB)\n",
      "Requirement already satisfied: llama-index-core<0.11.0,>=0.10.64 in /home/nitish/anaconda3/envs/RAG/lib/python3.11/site-packages (from llama-index>=0.9.41->llama-hub) (0.10.64)\n",
      "Requirement already satisfied: pandas in /home/nitish/anaconda3/envs/RAG/lib/python3.11/site-packages (from llama-index-core<0.11.0,>=0.10.64->llama-index>=0.9.41->llama-hub) (2.2.2)\n",
      "Requirement already satisfied: pillow>=9.0.0 in /home/nitish/anaconda3/envs/RAG/lib/python3.11/site-packages (from llama-index-core<0.11.0,>=0.10.64->llama-index>=0.9.41->llama-hub) (10.4.0)\n",
      "Requirement already satisfied: tenacity!=8.4.0,<9.0.0,>=8.2.0 in /home/nitish/anaconda3/envs/RAG/lib/python3.11/site-packages (from llama-index-core<0.11.0,>=0.10.64->llama-index>=0.9.41->llama-hub) (8.5.0)\n",
      "Requirement already satisfied: tiktoken>=0.3.3 in /home/nitish/anaconda3/envs/RAG/lib/python3.11/site-packages (from llama-index-core<0.11.0,>=0.10.64->llama-index>=0.9.41->llama-hub) (0.7.0)\n",
      "Requirement already satisfied: llama-cloud>=0.0.11 in /home/nitish/anaconda3/envs/RAG/lib/python3.11/site-packages (from llama-index-indices-managed-llama-cloud>=0.2.0->llama-index>=0.9.41->llama-hub) (0.0.13)\n",
      "Requirement already satisfied: striprtf<0.0.27,>=0.0.26 in /home/nitish/anaconda3/envs/RAG/lib/python3.11/site-packages (from llama-index-readers-file<0.2.0,>=0.1.4->llama-index>=0.9.41->llama-hub) (0.0.26)\n",
      "Requirement already satisfied: llama-parse>=0.4.0 in /home/nitish/anaconda3/envs/RAG/lib/python3.11/site-packages (from llama-index-readers-llama-parse>=0.1.2->llama-index>=0.9.41->llama-hub) (0.4.9)\n",
      "Requirement already satisfied: aiohappyeyeballs>=2.3.0 in /home/nitish/anaconda3/envs/RAG/lib/python3.11/site-packages (from aiohttp<4.0.0,>=3.8.6->llama-index-core<0.11.0,>=0.10.65->llama-index>=0.9.41->llama-hub) (2.3.5)\n",
      "Requirement already satisfied: aiosignal>=1.1.2 in /home/nitish/anaconda3/envs/RAG/lib/python3.11/site-packages (from aiohttp<4.0.0,>=3.8.6->llama-index-core<0.11.0,>=0.10.65->llama-index>=0.9.41->llama-hub) (1.3.1)\n",
      "Requirement already satisfied: attrs>=17.3.0 in /home/nitish/anaconda3/envs/RAG/lib/python3.11/site-packages (from aiohttp<4.0.0,>=3.8.6->llama-index-core<0.11.0,>=0.10.65->llama-index>=0.9.41->llama-hub) (23.1.0)\n",
      "Requirement already satisfied: frozenlist>=1.1.1 in /home/nitish/anaconda3/envs/RAG/lib/python3.11/site-packages (from aiohttp<4.0.0,>=3.8.6->llama-index-core<0.11.0,>=0.10.65->llama-index>=0.9.41->llama-hub) (1.4.1)\n",
      "Requirement already satisfied: multidict<7.0,>=4.5 in /home/nitish/anaconda3/envs/RAG/lib/python3.11/site-packages (from aiohttp<4.0.0,>=3.8.6->llama-index-core<0.11.0,>=0.10.65->llama-index>=0.9.41->llama-hub) (6.0.5)\n",
      "Requirement already satisfied: yarl<2.0,>=1.0 in /home/nitish/anaconda3/envs/RAG/lib/python3.11/site-packages (from aiohttp<4.0.0,>=3.8.6->llama-index-core<0.11.0,>=0.10.65->llama-index>=0.9.41->llama-hub) (1.9.4)\n",
      "Requirement already satisfied: pydantic>=1.10 in /home/nitish/anaconda3/envs/RAG/lib/python3.11/site-packages (from llama-cloud>=0.0.11->llama-index-indices-managed-llama-cloud>=0.2.0->llama-index>=0.9.41->llama-hub) (2.8.2)\n",
      "Requirement already satisfied: distro<2,>=1.7.0 in /home/nitish/anaconda3/envs/RAG/lib/python3.11/site-packages (from openai>=1.14.0->llama-index-agent-openai<0.3.0,>=0.1.4->llama-index>=0.9.41->llama-hub) (1.9.0)\n",
      "Requirement already satisfied: jiter<1,>=0.4.0 in /home/nitish/anaconda3/envs/RAG/lib/python3.11/site-packages (from openai>=1.14.0->llama-index-agent-openai<0.3.0,>=0.1.4->llama-index>=0.9.41->llama-hub) (0.5.0)\n",
      "Requirement already satisfied: greenlet!=0.4.17 in /home/nitish/anaconda3/envs/RAG/lib/python3.11/site-packages (from SQLAlchemy>=1.4.49->SQLAlchemy[asyncio]>=1.4.49->llama-index-core<0.11.0,>=0.10.65->llama-index>=0.9.41->llama-hub) (3.0.3)\n",
      "Requirement already satisfied: pytz>=2020.1 in /home/nitish/anaconda3/envs/RAG/lib/python3.11/site-packages (from pandas->llama-index-core<0.11.0,>=0.10.64->llama-index>=0.9.41->llama-hub) (2024.1)\n",
      "Requirement already satisfied: tzdata>=2022.7 in /home/nitish/anaconda3/envs/RAG/lib/python3.11/site-packages (from pandas->llama-index-core<0.11.0,>=0.10.64->llama-index>=0.9.41->llama-hub) (2024.1)\n",
      "Requirement already satisfied: annotated-types>=0.4.0 in /home/nitish/anaconda3/envs/RAG/lib/python3.11/site-packages (from pydantic>=1.10->llama-cloud>=0.0.11->llama-index-indices-managed-llama-cloud>=0.2.0->llama-index>=0.9.41->llama-hub) (0.7.0)\n",
      "Requirement already satisfied: pydantic-core==2.20.1 in /home/nitish/anaconda3/envs/RAG/lib/python3.11/site-packages (from pydantic>=1.10->llama-cloud>=0.0.11->llama-index-indices-managed-llama-cloud>=0.2.0->llama-index>=0.9.41->llama-hub) (2.20.1)\n",
      "Downloading unstructured-0.15.3-py3-none-any.whl (2.1 MB)\n",
      "\u001b[2K   \u001b[38;2;114;156;31m━━━━━━━━━━━━━━━━━━━━━━━━━━━━━━━━━━━━━━━━\u001b[0m \u001b[32m2.1/2.1 MB\u001b[0m \u001b[31m2.3 MB/s\u001b[0m eta \u001b[36m0:00:00\u001b[0m[31m2.4 MB/s\u001b[0m eta \u001b[36m0:00:01\u001b[0m\n",
      "\u001b[?25hDownloading llama_index-0.10.64-py3-none-any.whl (6.8 kB)\n",
      "Installing collected packages: unstructured, llama-index\n",
      "  Attempting uninstall: unstructured\n",
      "    Found existing installation: unstructured 0.15.1\n",
      "    Uninstalling unstructured-0.15.1:\n",
      "      Successfully uninstalled unstructured-0.15.1\n",
      "  Attempting uninstall: llama-index\n",
      "    Found existing installation: llama-index 0.10.65\n",
      "    Uninstalling llama-index-0.10.65:\n",
      "      Successfully uninstalled llama-index-0.10.65\n",
      "Successfully installed llama-index-0.10.64 unstructured-0.15.3\n"
     ]
    }
   ],
   "source": [
    "!pip install llama-hub unstructured --upgrade"
   ]
  },
  {
   "cell_type": "code",
   "execution_count": 3,
   "id": "4a9eaca1-7281-4972-a0b0-b906025bb76b",
   "metadata": {},
   "outputs": [],
   "source": [
    "from llama_index.readers.file import UnstructuredReader\n",
    "from pathlib import Path\n",
    "import nltk"
   ]
  },
  {
   "cell_type": "code",
   "execution_count": 5,
   "id": "d80cabda-d5e4-4130-b1e0-2bc513e34fb7",
   "metadata": {},
   "outputs": [],
   "source": [
    "years=[2022,2021,2020,2019]\n",
    "nltk.data.path.append('/home/nitish/nltk_data')\n",
    "loader=UnstructuredReader()\n",
    "doc_set={}\n",
    "all_docs=[]\n",
    "\n",
    "for year in years:\n",
    "    year_docs=loader.load_data(file=Path(f'./data/UBER/UBER_{year}.html'),split_documents=False)\n",
    "    #insert metadata into each year\n",
    "    for d in year_docs:\n",
    "        d.metadata={'year':year}\n",
    "    doc_set[year]=year_docs\n",
    "    all_docs.extend(year_docs)"
   ]
  },
  {
   "cell_type": "markdown",
   "id": "b2568e30-8ff3-4fd7-a818-9bb0e3d6b92a",
   "metadata": {},
   "source": [
    "# Setting up Vector Indices for each year"
   ]
  },
  {
   "cell_type": "code",
   "execution_count": 7,
   "id": "3cb4bd6a-66b4-4c74-801f-666c59c807fe",
   "metadata": {},
   "outputs": [],
   "source": [
    "from llama_index.core import VectorStoreIndex,StorageContext\n",
    "from llama_index.core import Settings\n",
    "\n",
    "Settings.chunk_size=512\n",
    "\n",
    "index_set={}\n",
    "\n",
    "\n",
    "for year in years:\n",
    "    storage_context=StorageContext.from_defaults()\n",
    "    cur_index=VectorStoreIndex.from_documents(\n",
    "        doc_set[year],\n",
    "        storage_context=storage_context\n",
    "    )\n",
    "    index_set[year]=cur_index\n",
    "    storage_context.persist(persist_dir=f'./storage/{year}')"
   ]
  },
  {
   "cell_type": "code",
   "execution_count": 9,
   "id": "87bcf2eb-f80c-412d-be6c-80a84bf5a9c2",
   "metadata": {},
   "outputs": [],
   "source": [
    "from llama_index.core import load_index_from_storage\n",
    "\n",
    "\n",
    "index_set = {}\n",
    "\n",
    "for year in years:\n",
    "    storage_context=StorageContext.from_defaults(\n",
    "        persist_dir=f'./storage/{year}'\n",
    "    )\n",
    "    cur_index=load_index_from_storage(storage_context)\n",
    "    index_set[year]=cur_index"
   ]
  },
  {
   "cell_type": "code",
   "execution_count": 10,
   "id": "bd5f665d-b0e3-41e8-b020-f42af0ae9bbc",
   "metadata": {},
   "outputs": [],
   "source": [
    "from llama_index.core.tools import QueryEngineTool,ToolMetadata\n",
    "\n",
    "individual_query_engine_tools=[\n",
    "    QueryEngineTool(\n",
    "        query_engine=index_set[year].as_query_engine(),\n",
    "        metadata=ToolMetadata(\n",
    "            name=f'vector_index_{year}',\n",
    "            description=f'useful for when you want to answer queries about the {year} SEC 10-K for Uber'\n",
    "        )\n",
    "    )\n",
    "    for year in years\n",
    "]"
   ]
  },
  {
   "cell_type": "code",
   "execution_count": 11,
   "id": "4c08971f-d7b3-490c-a0f1-229f3467a6ee",
   "metadata": {},
   "outputs": [],
   "source": [
    "from llama_index.llms.openai import OpenAI\n",
    "from llama_index.core.query_engine import SubQuestionQueryEngine\n",
    "\n",
    "query_engine=SubQuestionQueryEngine.from_defaults(\n",
    "    query_engine_tools=individual_query_engine_tools,\n",
    "    llm=OpenAI(model='gpt-3.5-turbo')\n",
    ")"
   ]
  },
  {
   "cell_type": "markdown",
   "id": "ddfa1ff0-687e-435e-97e4-fd41828496a7",
   "metadata": {},
   "source": [
    "# Setting up the Chatbot Agent"
   ]
  },
  {
   "cell_type": "code",
   "execution_count": 12,
   "id": "57a0e68b-f4cb-4162-bcca-0a51999547d4",
   "metadata": {},
   "outputs": [],
   "source": [
    "query_engine_tool=QueryEngineTool(\n",
    "    query_engine=query_engine,\n",
    "    metadata=ToolMetadata(\n",
    "        name='sub_question_query_engine',\n",
    "        description='useful for when you want to answer queries that require analyzing multiple SEC 10-k documents for Uber',\n",
    "        \n",
    "    )\n",
    ")"
   ]
  },
  {
   "cell_type": "code",
   "execution_count": 13,
   "id": "2385f8eb-4b37-4154-8293-d736c8d472e8",
   "metadata": {},
   "outputs": [],
   "source": [
    "tools=individual_query_engine_tools+[query_engine_tool]"
   ]
  },
  {
   "cell_type": "code",
   "execution_count": 14,
   "id": "08e3e550-e217-4b2d-948e-81bac3277344",
   "metadata": {},
   "outputs": [],
   "source": [
    "from llama_index.agent.openai import OpenAIAgent\n",
    "\n",
    "agent=OpenAIAgent.from_tools(tools,verbose=True)"
   ]
  },
  {
   "cell_type": "code",
   "execution_count": 15,
   "id": "51ee8848-5a5b-4019-bd0a-50ac7b5577ce",
   "metadata": {},
   "outputs": [
    {
     "name": "stdout",
     "output_type": "stream",
     "text": [
      "Added user message to memory: Hi, i am Nitish\n",
      "Hello Nitish! How can I assist you today?\n"
     ]
    }
   ],
   "source": [
    "response=agent.chat('Hi, i am Nitish')\n",
    "print(str(response))"
   ]
  },
  {
   "cell_type": "code",
   "execution_count": 16,
   "id": "6dcb7e4b-6d6c-4015-8529-d1b5473805dd",
   "metadata": {},
   "outputs": [
    {
     "name": "stdout",
     "output_type": "stream",
     "text": [
      "Added user message to memory: What were some of the biggest risk factors in 2020 for Uber?\n",
      "=== Calling Function ===\n",
      "Calling function: vector_index_2020 with args: {\"input\":\"biggest risk factors\"}\n",
      "Got output: The biggest risk factors include the adverse effects of the COVID-19 pandemic on the business, potential reclassification of Drivers, intense competition in the mobility, delivery, and logistics industries, significant losses incurred since inception with uncertain profitability, the need to lower fares and offer incentives to remain competitive, and the reliance on large metropolitan areas for a significant percentage of Gross Bookings which are susceptible to economic, social, and regulatory conditions.\n",
      "========================\n",
      "\n",
      "In 2020, some of the biggest risk factors for Uber included the adverse effects of the COVID-19 pandemic on the business, potential reclassification of Drivers, intense competition in the mobility, delivery, and logistics industries, significant losses incurred since inception with uncertain profitability, the need to lower fares and offer incentives to remain competitive, and the reliance on large metropolitan areas for a significant percentage of Gross Bookings which are susceptible to economic, social, and regulatory conditions.\n"
     ]
    }
   ],
   "source": [
    "response = agent.chat(\n",
    "    \"What were some of the biggest risk factors in 2020 for Uber?\"\n",
    ")\n",
    "print(str(response))"
   ]
  },
  {
   "cell_type": "code",
   "execution_count": 18,
   "id": "97fc56c3-c627-4063-8e12-a393277df68c",
   "metadata": {},
   "outputs": [
    {
     "name": "stdout",
     "output_type": "stream",
     "text": [
      "Added user message to memory: Compare/contrast the risk factors described in the Uber 10-K across years. Give answer in bullet points.\n",
      "=== Calling Function ===\n",
      "Calling function: sub_question_query_engine with args: {\"input\":\"Compare and contrast the risk factors described in the Uber 10-K across years\"}\n",
      "Generated 4 sub questions.\n",
      "\u001b[1;3;38;2;237;90;200m[vector_index_2022] Q: What are the risk factors described in the 2022 SEC 10-K for Uber?\n",
      "\u001b[0m\u001b[1;3;38;2;90;149;237m[vector_index_2021] Q: What are the risk factors described in the 2021 SEC 10-K for Uber?\n",
      "\u001b[0m\u001b[1;3;38;2;11;159;203m[vector_index_2020] Q: What are the risk factors described in the 2020 SEC 10-K for Uber?\n",
      "\u001b[0m\u001b[1;3;38;2;155;135;227m[vector_index_2019] Q: What are the risk factors described in the 2019 SEC 10-K for Uber?\n",
      "\u001b[0m\u001b[1;3;38;2;237;90;200m[vector_index_2022] A: The risk factors described in the 2022 SEC 10-K for Uber include the potential adverse impact on their business if Drivers were classified as employees, workers, or quasi-employees instead of independent contractors, intense competition in the mobility, delivery, and logistics industries, the need to lower fares or service fees to remain competitive in certain markets, offering Driver incentives and consumer discounts, incurring significant losses since inception, expecting operating expenses to increase significantly in the future, and uncertainty regarding achieving or maintaining profitability.\n",
      "\u001b[0m\u001b[1;3;38;2;11;159;203m[vector_index_2020] A: The risk factors described in the 2020 SEC 10-K for Uber include the adverse effects of the COVID-19 pandemic and related mitigation actions on the business, the potential adverse impact if Drivers were classified as employees instead of independent contractors, intense competition in the mobility, delivery, and logistics industries, the need to lower fares or service fees to remain competitive, and the significant losses incurred since inception with uncertainty about achieving profitability in the future.\n",
      "\u001b[0m\u001b[1;3;38;2;155;135;227m[vector_index_2019] A: The risk factors described in the 2019 SEC 10-K for Uber include potential adverse effects on business due to criminal activity or misconduct by platform users, impact of high rates of violent crime in certain regions on drivers and consumers, public reporting of safety incidents affecting business and financial results, potential liability claims for accidents or incidents caused by platform users, limitations of insurance coverage, costs associated with investigating and defending against claims, and risks associated with substantial investments in new offerings and technologies with uncertain benefits.\n",
      "\u001b[0m\u001b[1;3;38;2;90;149;237m[vector_index_2021] A: The risk factors described in the 2021 SEC 10-K for Uber include the adverse effects of the COVID-19 pandemic and related mitigation actions on the business, potential adverse impact if Drivers were classified differently, intense competition in the mobility, delivery, and logistics industries, the need to lower fares or service fees to remain competitive, and the company's history of significant losses and the expectation of increasing operating expenses without guaranteed profitability.\n",
      "\u001b[0mGot output: The risk factors described in the Uber 10-K across the years show a consistent focus on challenges related to the classification of Drivers, intense competition in the mobility, delivery, and logistics industries, the need to adjust fares or service fees to stay competitive, the company's history of significant losses, and the uncertainty surrounding achieving profitability. However, the 2019 SEC 10-K uniquely highlights risks related to criminal activity or misconduct by platform users, violent crime rates in certain regions, safety incident reporting, liability claims, insurance coverage limitations, costs of defending against claims, and risks associated with investments in new offerings and technologies.\n",
      "========================\n",
      "\n",
      "Here is a comparison of the risk factors described in the Uber 10-K across different years:\n",
      "\n",
      "- **Consistent Risk Factors (2020 and 2021):**\n",
      "  - Adverse effects of the COVID-19 pandemic on the business.\n",
      "  - Potential reclassification of Drivers impacting operations.\n",
      "  - Intense competition in the mobility, delivery, and logistics industries.\n",
      "  - Need to lower fares or service fees to remain competitive.\n",
      "  - History of significant losses with uncertain profitability.\n",
      "\n",
      "- **Unique Risk Factors in 2019:**\n",
      "  - Risks related to criminal activity or misconduct by platform users.\n",
      "  - Concerns about violent crime rates in certain regions.\n",
      "  - Safety incident reporting and associated liabilities.\n",
      "  - Liability claims and insurance coverage limitations.\n",
      "  - Costs of defending against claims.\n",
      "  - Risks associated with investments in new offerings and technologies.\n",
      "\n",
      "Overall, while some risk factors remain consistent across the years, the 2019 SEC 10-K uniquely highlights additional risks related to criminal activity, safety incidents, liability claims, and investments in new technologies.\n"
     ]
    }
   ],
   "source": [
    "cross_query_str = \"Compare/contrast the risk factors described in the Uber 10-K across years. Give answer in bullet points.\"\n",
    "\n",
    "response = agent.chat(cross_query_str)\n",
    "print(str(response))"
   ]
  },
  {
   "cell_type": "code",
   "execution_count": null,
   "id": "9e9efca9-5d57-4879-84da-f27379ce8c1b",
   "metadata": {},
   "outputs": [],
   "source": []
  }
 ],
 "metadata": {
  "kernelspec": {
   "display_name": "Python 3 (ipykernel)",
   "language": "python",
   "name": "python3"
  },
  "language_info": {
   "codemirror_mode": {
    "name": "ipython",
    "version": 3
   },
   "file_extension": ".py",
   "mimetype": "text/x-python",
   "name": "python",
   "nbconvert_exporter": "python",
   "pygments_lexer": "ipython3",
   "version": "3.11.9"
  }
 },
 "nbformat": 4,
 "nbformat_minor": 5
}
