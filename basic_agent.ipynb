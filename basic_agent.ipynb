{
 "cells": [
  {
   "cell_type": "code",
   "execution_count": 1,
   "id": "0daebc06-b460-4adb-a3ea-2e3faaa7fbd0",
   "metadata": {},
   "outputs": [],
   "source": [
    "import llama_index\n",
    "from dotenv import load_dotenv\n",
    "import os"
   ]
  },
  {
   "cell_type": "code",
   "execution_count": 2,
   "id": "33ef512c-cdf9-44fe-b6c2-987d9e7b6e63",
   "metadata": {},
   "outputs": [],
   "source": [
    "load_dotenv()\n",
    "\n",
    "OPENAI_API_KEY=os.getenv('OPENAI_API_KEY')"
   ]
  },
  {
   "cell_type": "code",
   "execution_count": 3,
   "id": "af9f8ee9-e9a3-4cc7-96b1-c386cd5f2893",
   "metadata": {},
   "outputs": [],
   "source": [
    "#Bring in dependencies\n",
    "\n",
    "from llama_index.core.agent import ReActAgent\n",
    "from llama_index.llms.openai import OpenAI\n",
    "from llama_index.core.tools import FunctionTool"
   ]
  },
  {
   "cell_type": "markdown",
   "id": "ca3291a0-cb21-44f7-a394-356d178adebf",
   "metadata": {},
   "source": [
    "# Create basic tools"
   ]
  },
  {
   "cell_type": "code",
   "execution_count": 4,
   "id": "fc6aabf4-9ba2-43be-b96d-bdb270110fab",
   "metadata": {},
   "outputs": [],
   "source": [
    "def multiply(a: float,b: float)-> float:\n",
    "    \"\"\"Multiply two numbers and return the product\"\"\"\n",
    "    return a*b\n",
    "\n",
    "multiply_tool=FunctionTool.from_defaults(fn=multiply)\n",
    "\n",
    "def add(a: float,b: float)-> float:\n",
    "    \"\"\"Add two numbers and return the sum\"\"\"\n",
    "    return a+b\n",
    "\n",
    "add_tool=FunctionTool.from_defaults(fn=add)\n"
   ]
  },
  {
   "cell_type": "markdown",
   "id": "1177ae27-829c-4df5-81b0-81d7398c87cc",
   "metadata": {},
   "source": [
    "As you can see, these are regular vanilla Python functions. The docstring comments provide metadata to the agent about what the tool does: if your LLM is having trouble figuring out which tool to use, these docstrings are what you should tweak first.\n",
    "\n",
    "After each function is defined we create FunctionTool objects from these functions, which wrap them in a way that the agent can understand."
   ]
  },
  {
   "cell_type": "markdown",
   "id": "95d5e99d-c11a-4743-8e4b-f1e0da4aa9b0",
   "metadata": {},
   "source": [
    "# Initialize the LLM"
   ]
  },
  {
   "cell_type": "code",
   "execution_count": 5,
   "id": "5292f193-0492-4229-a5f8-ed084ae23f05",
   "metadata": {},
   "outputs": [],
   "source": [
    "llm = OpenAI(model=\"gpt-3.5-turbo\", temperature=0)"
   ]
  },
  {
   "cell_type": "markdown",
   "id": "66ca92ab-4a76-4a84-81c4-e70cd8dd99d1",
   "metadata": {},
   "source": [
    "# Initialize the agent"
   ]
  },
  {
   "cell_type": "code",
   "execution_count": 6,
   "id": "31b27fe3-24d5-4560-881b-c063cb14117b",
   "metadata": {},
   "outputs": [],
   "source": [
    "agent = ReActAgent.from_tools([multiply_tool, add_tool], llm=llm, verbose=True)"
   ]
  },
  {
   "cell_type": "code",
   "execution_count": 30,
   "id": "06954aca-adcc-4e59-8bcd-d49c06e35b93",
   "metadata": {},
   "outputs": [
    {
     "name": "stdout",
     "output_type": "stream",
     "text": [
      "> Running step e121913b-29a9-4b8b-b2e9-53637027f9f9. Step input: What is 20+(2*4)? Use a tool to calculate every step.\n",
      "\u001b[1;3;38;5;200mThought: The current language of the user is: English. I need to use a tool to help me answer the question.\n",
      "Action: add\n",
      "Action Input: {'a': 20, 'b': 8}\n",
      "\u001b[0m\u001b[1;3;34mObservation: 28\n",
      "\u001b[0m> Running step 68246538-80ef-4c75-800a-0a474b8d4058. Step input: None\n",
      "\u001b[1;3;38;5;200mThought: I can answer without using any more tools. I'll use the user's language to answer\n",
      "Answer: 20 + (2 * 4) = 20 + 8 = 28\n",
      "\u001b[0m"
     ]
    }
   ],
   "source": [
    "response = agent.chat(\"What is 20+(2*4)? Use a tool to calculate every step.\")"
   ]
  },
  {
   "cell_type": "markdown",
   "id": "ff8d1d19-94cd-4557-a583-a7bd7ab918c4",
   "metadata": {},
   "source": [
    "# Switch to local agent"
   ]
  },
  {
   "cell_type": "code",
   "execution_count": 31,
   "id": "bb80e294-2035-4d30-918d-9ef6071fd1d5",
   "metadata": {},
   "outputs": [],
   "source": [
    "#!pip install llama-index-llms-ollama"
   ]
  },
  {
   "cell_type": "code",
   "execution_count": 32,
   "id": "a501d79c-f6a1-4df9-be87-c0956642ccd6",
   "metadata": {},
   "outputs": [],
   "source": [
    "#from llama_index.llms.ollama import Ollama"
   ]
  },
  {
   "cell_type": "code",
   "execution_count": 34,
   "id": "3cc12096-50a7-49eb-b325-095a1a96d192",
   "metadata": {},
   "outputs": [],
   "source": [
    "# llm = Ollama(model=\"mixtral:8x7b\", request_timeout=120.0)\n",
    "# agent = ReActAgent.from_tools([multiply_tool, add_tool], llm=llm, verbose=True)\n",
    "# response = agent.chat(\"What is 20+(2*4)? Use a tool to calculate every step.\")"
   ]
  },
  {
   "cell_type": "markdown",
   "id": "978bda90-46c5-450a-913d-8ad1b524a9ad",
   "metadata": {},
   "source": [
    "# Adding RAG to an agent"
   ]
  },
  {
   "cell_type": "code",
   "execution_count": 7,
   "id": "9c9e169e-6ad9-452a-a216-2437d2ee4fac",
   "metadata": {},
   "outputs": [],
   "source": [
    "from llama_index.core import SimpleDirectoryReader, VectorStoreIndex, Settings"
   ]
  },
  {
   "cell_type": "code",
   "execution_count": 8,
   "id": "43cb6efe-4635-49b6-9746-ebe5472ff922",
   "metadata": {},
   "outputs": [],
   "source": [
    "Settings.llm = OpenAI(model=\"gpt-3.5-turbo\", temperature=0)"
   ]
  },
  {
   "cell_type": "code",
   "execution_count": 9,
   "id": "5d9a263f-cbea-4946-9d3e-e974bbc8b500",
   "metadata": {},
   "outputs": [],
   "source": [
    "documents = SimpleDirectoryReader(\"./data\").load_data()\n",
    "index = VectorStoreIndex.from_documents(documents)\n",
    "query_engine = index.as_query_engine()"
   ]
  },
  {
   "cell_type": "markdown",
   "id": "67535a46-9703-42f8-a229-43116f2fadf6",
   "metadata": {},
   "source": [
    "# Add a query engine tool"
   ]
  },
  {
   "cell_type": "code",
   "execution_count": 10,
   "id": "58a356bc-6587-4640-8080-0077187dee5d",
   "metadata": {},
   "outputs": [],
   "source": [
    "from llama_index.core.tools import QueryEngineTool"
   ]
  },
  {
   "cell_type": "code",
   "execution_count": 46,
   "id": "0f9dd803-0625-4959-a640-105dd4a5c93d",
   "metadata": {},
   "outputs": [],
   "source": [
    "paper_tool=QueryEngineTool.from_defaults(\n",
    "    query_engine,\n",
    "    name='attention all you need',\n",
    "    description='A RAG engine with advance knowledge of attention all you need'\n",
    ")"
   ]
  },
  {
   "cell_type": "code",
   "execution_count": 47,
   "id": "6c867cf1-0057-43cf-990e-ac075da1d947",
   "metadata": {},
   "outputs": [
    {
     "name": "stdout",
     "output_type": "stream",
     "text": [
      "> Running step 2c6dcaf5-4d63-4f69-a44a-44c3bf71222b. Step input: What is attention ? use paper_tool for query\n",
      "\u001b[1;3;38;5;200mThought: The current language of the user is: English. I need to use a tool to help me answer the question.\n",
      "Action: attention\n",
      "Action Input: {'input': 'What is attention?'}\n",
      "\u001b[0m\u001b[1;3;34mObservation: Error: No such tool named `attention`.\n",
      "\u001b[0m> Running step f895d2ef-ebd3-40d6-9361-ca488add9077. Step input: None\n",
      "\u001b[1;3;38;5;200mThought: I cannot answer the question with the provided tools.\n",
      "Answer: I cannot answer the question with the provided tools.\n",
      "\u001b[0mI cannot answer the question with the provided tools.\n"
     ]
    }
   ],
   "source": [
    "agent=ReActAgent.from_tools([multiply_tool,add_tool,paper_tool],verbose=True)\n",
    "\n",
    "response=agent.chat('What is attention ? use paper_tool for query')\n",
    "\n",
    "print(response)"
   ]
  },
  {
   "cell_type": "markdown",
   "id": "0f34592f-ff3a-4002-a2e9-7edb269f7985",
   "metadata": {},
   "source": [
    "# Advance tools"
   ]
  },
  {
   "cell_type": "code",
   "execution_count": 11,
   "id": "941f74c9-2b0a-46a1-b16f-bdcedff80313",
   "metadata": {},
   "outputs": [
    {
     "name": "stdout",
     "output_type": "stream",
     "text": [
      "Collecting llama-index-tools-yahoo-finance\n",
      "  Using cached llama_index_tools_yahoo_finance-0.1.1-py3-none-any.whl.metadata (1.8 kB)\n",
      "Requirement already satisfied: llama-index-core<0.11.0,>=0.10.0 in /home/nitish/anaconda3/envs/RAG/lib/python3.11/site-packages (from llama-index-tools-yahoo-finance) (0.10.65)\n",
      "Collecting yfinance<0.3.0,>=0.2.36 (from llama-index-tools-yahoo-finance)\n",
      "  Using cached yfinance-0.2.41-py2.py3-none-any.whl.metadata (11 kB)\n",
      "Requirement already satisfied: PyYAML>=6.0.1 in /home/nitish/anaconda3/envs/RAG/lib/python3.11/site-packages (from llama-index-core<0.11.0,>=0.10.0->llama-index-tools-yahoo-finance) (6.0.1)\n",
      "Requirement already satisfied: SQLAlchemy>=1.4.49 in /home/nitish/anaconda3/envs/RAG/lib/python3.11/site-packages (from SQLAlchemy[asyncio]>=1.4.49->llama-index-core<0.11.0,>=0.10.0->llama-index-tools-yahoo-finance) (2.0.32)\n",
      "Requirement already satisfied: aiohttp<4.0.0,>=3.8.6 in /home/nitish/anaconda3/envs/RAG/lib/python3.11/site-packages (from llama-index-core<0.11.0,>=0.10.0->llama-index-tools-yahoo-finance) (3.10.3)\n",
      "Requirement already satisfied: dataclasses-json in /home/nitish/anaconda3/envs/RAG/lib/python3.11/site-packages (from llama-index-core<0.11.0,>=0.10.0->llama-index-tools-yahoo-finance) (0.6.7)\n",
      "Requirement already satisfied: deprecated>=1.2.9.3 in /home/nitish/anaconda3/envs/RAG/lib/python3.11/site-packages (from llama-index-core<0.11.0,>=0.10.0->llama-index-tools-yahoo-finance) (1.2.14)\n",
      "Requirement already satisfied: dirtyjson<2.0.0,>=1.0.8 in /home/nitish/anaconda3/envs/RAG/lib/python3.11/site-packages (from llama-index-core<0.11.0,>=0.10.0->llama-index-tools-yahoo-finance) (1.0.8)\n",
      "Requirement already satisfied: fsspec>=2023.5.0 in /home/nitish/anaconda3/envs/RAG/lib/python3.11/site-packages (from llama-index-core<0.11.0,>=0.10.0->llama-index-tools-yahoo-finance) (2024.6.1)\n",
      "Requirement already satisfied: httpx in /home/nitish/anaconda3/envs/RAG/lib/python3.11/site-packages (from llama-index-core<0.11.0,>=0.10.0->llama-index-tools-yahoo-finance) (0.27.0)\n",
      "Requirement already satisfied: nest-asyncio<2.0.0,>=1.5.8 in /home/nitish/anaconda3/envs/RAG/lib/python3.11/site-packages (from llama-index-core<0.11.0,>=0.10.0->llama-index-tools-yahoo-finance) (1.6.0)\n",
      "Requirement already satisfied: networkx>=3.0 in /home/nitish/anaconda3/envs/RAG/lib/python3.11/site-packages (from llama-index-core<0.11.0,>=0.10.0->llama-index-tools-yahoo-finance) (3.3)\n",
      "Requirement already satisfied: nltk>=3.8.2 in /home/nitish/anaconda3/envs/RAG/lib/python3.11/site-packages (from llama-index-core<0.11.0,>=0.10.0->llama-index-tools-yahoo-finance) (3.8.2)\n",
      "Requirement already satisfied: numpy<2.0.0 in /home/nitish/anaconda3/envs/RAG/lib/python3.11/site-packages (from llama-index-core<0.11.0,>=0.10.0->llama-index-tools-yahoo-finance) (1.26.4)\n",
      "Requirement already satisfied: openai>=1.1.0 in /home/nitish/anaconda3/envs/RAG/lib/python3.11/site-packages (from llama-index-core<0.11.0,>=0.10.0->llama-index-tools-yahoo-finance) (1.40.6)\n",
      "Requirement already satisfied: pandas in /home/nitish/anaconda3/envs/RAG/lib/python3.11/site-packages (from llama-index-core<0.11.0,>=0.10.0->llama-index-tools-yahoo-finance) (2.2.2)\n",
      "Requirement already satisfied: pillow>=9.0.0 in /home/nitish/anaconda3/envs/RAG/lib/python3.11/site-packages (from llama-index-core<0.11.0,>=0.10.0->llama-index-tools-yahoo-finance) (10.4.0)\n",
      "Requirement already satisfied: requests>=2.31.0 in /home/nitish/anaconda3/envs/RAG/lib/python3.11/site-packages (from llama-index-core<0.11.0,>=0.10.0->llama-index-tools-yahoo-finance) (2.32.3)\n",
      "Requirement already satisfied: tenacity!=8.4.0,<9.0.0,>=8.2.0 in /home/nitish/anaconda3/envs/RAG/lib/python3.11/site-packages (from llama-index-core<0.11.0,>=0.10.0->llama-index-tools-yahoo-finance) (8.5.0)\n",
      "Requirement already satisfied: tiktoken>=0.3.3 in /home/nitish/anaconda3/envs/RAG/lib/python3.11/site-packages (from llama-index-core<0.11.0,>=0.10.0->llama-index-tools-yahoo-finance) (0.7.0)\n",
      "Requirement already satisfied: tqdm<5.0.0,>=4.66.1 in /home/nitish/anaconda3/envs/RAG/lib/python3.11/site-packages (from llama-index-core<0.11.0,>=0.10.0->llama-index-tools-yahoo-finance) (4.66.5)\n",
      "Requirement already satisfied: typing-extensions>=4.5.0 in /home/nitish/anaconda3/envs/RAG/lib/python3.11/site-packages (from llama-index-core<0.11.0,>=0.10.0->llama-index-tools-yahoo-finance) (4.11.0)\n",
      "Requirement already satisfied: typing-inspect>=0.8.0 in /home/nitish/anaconda3/envs/RAG/lib/python3.11/site-packages (from llama-index-core<0.11.0,>=0.10.0->llama-index-tools-yahoo-finance) (0.9.0)\n",
      "Requirement already satisfied: wrapt in /home/nitish/anaconda3/envs/RAG/lib/python3.11/site-packages (from llama-index-core<0.11.0,>=0.10.0->llama-index-tools-yahoo-finance) (1.16.0)\n",
      "Collecting multitasking>=0.0.7 (from yfinance<0.3.0,>=0.2.36->llama-index-tools-yahoo-finance)\n",
      "  Using cached multitasking-0.0.11-py3-none-any.whl.metadata (5.5 kB)\n",
      "Requirement already satisfied: lxml>=4.9.1 in /home/nitish/anaconda3/envs/RAG/lib/python3.11/site-packages (from yfinance<0.3.0,>=0.2.36->llama-index-tools-yahoo-finance) (5.3.0)\n",
      "Requirement already satisfied: platformdirs>=2.0.0 in /home/nitish/anaconda3/envs/RAG/lib/python3.11/site-packages (from yfinance<0.3.0,>=0.2.36->llama-index-tools-yahoo-finance) (3.10.0)\n",
      "Requirement already satisfied: pytz>=2022.5 in /home/nitish/anaconda3/envs/RAG/lib/python3.11/site-packages (from yfinance<0.3.0,>=0.2.36->llama-index-tools-yahoo-finance) (2024.1)\n",
      "Collecting frozendict>=2.3.4 (from yfinance<0.3.0,>=0.2.36->llama-index-tools-yahoo-finance)\n",
      "  Downloading frozendict-2.4.4-py311-none-any.whl.metadata (23 kB)\n",
      "Collecting peewee>=3.16.2 (from yfinance<0.3.0,>=0.2.36->llama-index-tools-yahoo-finance)\n",
      "  Using cached peewee-3.17.6-cp311-cp311-linux_x86_64.whl\n",
      "Requirement already satisfied: beautifulsoup4>=4.11.1 in /home/nitish/anaconda3/envs/RAG/lib/python3.11/site-packages (from yfinance<0.3.0,>=0.2.36->llama-index-tools-yahoo-finance) (4.12.3)\n",
      "Collecting html5lib>=1.1 (from yfinance<0.3.0,>=0.2.36->llama-index-tools-yahoo-finance)\n",
      "  Using cached html5lib-1.1-py2.py3-none-any.whl.metadata (16 kB)\n",
      "Requirement already satisfied: aiohappyeyeballs>=2.3.0 in /home/nitish/anaconda3/envs/RAG/lib/python3.11/site-packages (from aiohttp<4.0.0,>=3.8.6->llama-index-core<0.11.0,>=0.10.0->llama-index-tools-yahoo-finance) (2.3.5)\n",
      "Requirement already satisfied: aiosignal>=1.1.2 in /home/nitish/anaconda3/envs/RAG/lib/python3.11/site-packages (from aiohttp<4.0.0,>=3.8.6->llama-index-core<0.11.0,>=0.10.0->llama-index-tools-yahoo-finance) (1.3.1)\n",
      "Requirement already satisfied: attrs>=17.3.0 in /home/nitish/anaconda3/envs/RAG/lib/python3.11/site-packages (from aiohttp<4.0.0,>=3.8.6->llama-index-core<0.11.0,>=0.10.0->llama-index-tools-yahoo-finance) (23.1.0)\n",
      "Requirement already satisfied: frozenlist>=1.1.1 in /home/nitish/anaconda3/envs/RAG/lib/python3.11/site-packages (from aiohttp<4.0.0,>=3.8.6->llama-index-core<0.11.0,>=0.10.0->llama-index-tools-yahoo-finance) (1.4.1)\n",
      "Requirement already satisfied: multidict<7.0,>=4.5 in /home/nitish/anaconda3/envs/RAG/lib/python3.11/site-packages (from aiohttp<4.0.0,>=3.8.6->llama-index-core<0.11.0,>=0.10.0->llama-index-tools-yahoo-finance) (6.0.5)\n",
      "Requirement already satisfied: yarl<2.0,>=1.0 in /home/nitish/anaconda3/envs/RAG/lib/python3.11/site-packages (from aiohttp<4.0.0,>=3.8.6->llama-index-core<0.11.0,>=0.10.0->llama-index-tools-yahoo-finance) (1.9.4)\n",
      "Requirement already satisfied: soupsieve>1.2 in /home/nitish/anaconda3/envs/RAG/lib/python3.11/site-packages (from beautifulsoup4>=4.11.1->yfinance<0.3.0,>=0.2.36->llama-index-tools-yahoo-finance) (2.5)\n",
      "Requirement already satisfied: six>=1.9 in /home/nitish/anaconda3/envs/RAG/lib/python3.11/site-packages (from html5lib>=1.1->yfinance<0.3.0,>=0.2.36->llama-index-tools-yahoo-finance) (1.16.0)\n",
      "Requirement already satisfied: webencodings in /home/nitish/anaconda3/envs/RAG/lib/python3.11/site-packages (from html5lib>=1.1->yfinance<0.3.0,>=0.2.36->llama-index-tools-yahoo-finance) (0.5.1)\n",
      "Requirement already satisfied: click in /home/nitish/anaconda3/envs/RAG/lib/python3.11/site-packages (from nltk>=3.8.2->llama-index-core<0.11.0,>=0.10.0->llama-index-tools-yahoo-finance) (8.1.7)\n",
      "Requirement already satisfied: joblib in /home/nitish/anaconda3/envs/RAG/lib/python3.11/site-packages (from nltk>=3.8.2->llama-index-core<0.11.0,>=0.10.0->llama-index-tools-yahoo-finance) (1.4.2)\n",
      "Requirement already satisfied: regex>=2021.8.3 in /home/nitish/anaconda3/envs/RAG/lib/python3.11/site-packages (from nltk>=3.8.2->llama-index-core<0.11.0,>=0.10.0->llama-index-tools-yahoo-finance) (2024.7.24)\n",
      "Requirement already satisfied: anyio<5,>=3.5.0 in /home/nitish/anaconda3/envs/RAG/lib/python3.11/site-packages (from openai>=1.1.0->llama-index-core<0.11.0,>=0.10.0->llama-index-tools-yahoo-finance) (4.2.0)\n",
      "Requirement already satisfied: distro<2,>=1.7.0 in /home/nitish/anaconda3/envs/RAG/lib/python3.11/site-packages (from openai>=1.1.0->llama-index-core<0.11.0,>=0.10.0->llama-index-tools-yahoo-finance) (1.9.0)\n",
      "Requirement already satisfied: jiter<1,>=0.4.0 in /home/nitish/anaconda3/envs/RAG/lib/python3.11/site-packages (from openai>=1.1.0->llama-index-core<0.11.0,>=0.10.0->llama-index-tools-yahoo-finance) (0.5.0)\n",
      "Requirement already satisfied: pydantic<3,>=1.9.0 in /home/nitish/anaconda3/envs/RAG/lib/python3.11/site-packages (from openai>=1.1.0->llama-index-core<0.11.0,>=0.10.0->llama-index-tools-yahoo-finance) (2.8.2)\n",
      "Requirement already satisfied: sniffio in /home/nitish/anaconda3/envs/RAG/lib/python3.11/site-packages (from openai>=1.1.0->llama-index-core<0.11.0,>=0.10.0->llama-index-tools-yahoo-finance) (1.3.0)\n",
      "Requirement already satisfied: certifi in /home/nitish/anaconda3/envs/RAG/lib/python3.11/site-packages (from httpx->llama-index-core<0.11.0,>=0.10.0->llama-index-tools-yahoo-finance) (2024.7.4)\n",
      "Requirement already satisfied: httpcore==1.* in /home/nitish/anaconda3/envs/RAG/lib/python3.11/site-packages (from httpx->llama-index-core<0.11.0,>=0.10.0->llama-index-tools-yahoo-finance) (1.0.5)\n",
      "Requirement already satisfied: idna in /home/nitish/anaconda3/envs/RAG/lib/python3.11/site-packages (from httpx->llama-index-core<0.11.0,>=0.10.0->llama-index-tools-yahoo-finance) (3.7)\n",
      "Requirement already satisfied: h11<0.15,>=0.13 in /home/nitish/anaconda3/envs/RAG/lib/python3.11/site-packages (from httpcore==1.*->httpx->llama-index-core<0.11.0,>=0.10.0->llama-index-tools-yahoo-finance) (0.14.0)\n",
      "Requirement already satisfied: python-dateutil>=2.8.2 in /home/nitish/anaconda3/envs/RAG/lib/python3.11/site-packages (from pandas->llama-index-core<0.11.0,>=0.10.0->llama-index-tools-yahoo-finance) (2.9.0.post0)\n",
      "Requirement already satisfied: tzdata>=2022.7 in /home/nitish/anaconda3/envs/RAG/lib/python3.11/site-packages (from pandas->llama-index-core<0.11.0,>=0.10.0->llama-index-tools-yahoo-finance) (2024.1)\n",
      "Requirement already satisfied: charset-normalizer<4,>=2 in /home/nitish/anaconda3/envs/RAG/lib/python3.11/site-packages (from requests>=2.31.0->llama-index-core<0.11.0,>=0.10.0->llama-index-tools-yahoo-finance) (3.3.2)\n",
      "Requirement already satisfied: urllib3<3,>=1.21.1 in /home/nitish/anaconda3/envs/RAG/lib/python3.11/site-packages (from requests>=2.31.0->llama-index-core<0.11.0,>=0.10.0->llama-index-tools-yahoo-finance) (2.2.2)\n",
      "Requirement already satisfied: greenlet!=0.4.17 in /home/nitish/anaconda3/envs/RAG/lib/python3.11/site-packages (from SQLAlchemy>=1.4.49->SQLAlchemy[asyncio]>=1.4.49->llama-index-core<0.11.0,>=0.10.0->llama-index-tools-yahoo-finance) (3.0.3)\n",
      "Requirement already satisfied: mypy-extensions>=0.3.0 in /home/nitish/anaconda3/envs/RAG/lib/python3.11/site-packages (from typing-inspect>=0.8.0->llama-index-core<0.11.0,>=0.10.0->llama-index-tools-yahoo-finance) (1.0.0)\n",
      "Requirement already satisfied: marshmallow<4.0.0,>=3.18.0 in /home/nitish/anaconda3/envs/RAG/lib/python3.11/site-packages (from dataclasses-json->llama-index-core<0.11.0,>=0.10.0->llama-index-tools-yahoo-finance) (3.21.3)\n",
      "Requirement already satisfied: packaging>=17.0 in /home/nitish/anaconda3/envs/RAG/lib/python3.11/site-packages (from marshmallow<4.0.0,>=3.18.0->dataclasses-json->llama-index-core<0.11.0,>=0.10.0->llama-index-tools-yahoo-finance) (24.1)\n",
      "Requirement already satisfied: annotated-types>=0.4.0 in /home/nitish/anaconda3/envs/RAG/lib/python3.11/site-packages (from pydantic<3,>=1.9.0->openai>=1.1.0->llama-index-core<0.11.0,>=0.10.0->llama-index-tools-yahoo-finance) (0.7.0)\n",
      "Requirement already satisfied: pydantic-core==2.20.1 in /home/nitish/anaconda3/envs/RAG/lib/python3.11/site-packages (from pydantic<3,>=1.9.0->openai>=1.1.0->llama-index-core<0.11.0,>=0.10.0->llama-index-tools-yahoo-finance) (2.20.1)\n",
      "Using cached llama_index_tools_yahoo_finance-0.1.1-py3-none-any.whl (2.7 kB)\n",
      "Using cached yfinance-0.2.41-py2.py3-none-any.whl (73 kB)\n",
      "Downloading frozendict-2.4.4-py311-none-any.whl (16 kB)\n",
      "Using cached html5lib-1.1-py2.py3-none-any.whl (112 kB)\n",
      "Using cached multitasking-0.0.11-py3-none-any.whl (8.5 kB)\n",
      "Installing collected packages: peewee, multitasking, html5lib, frozendict, yfinance, llama-index-tools-yahoo-finance\n",
      "Successfully installed frozendict-2.4.4 html5lib-1.1 llama-index-tools-yahoo-finance-0.1.1 multitasking-0.0.11 peewee-3.17.6 yfinance-0.2.41\n"
     ]
    }
   ],
   "source": [
    "!pip install llama-index-tools-yahoo-finance"
   ]
  },
  {
   "cell_type": "code",
   "execution_count": 12,
   "id": "d0164b26-45cc-42b2-ba82-3b4499e647dc",
   "metadata": {},
   "outputs": [],
   "source": [
    "from llama_index.tools.yahoo_finance import YahooFinanceToolSpec"
   ]
  },
  {
   "cell_type": "code",
   "execution_count": 13,
   "id": "f4b380b3-5477-4443-b3eb-59bf76ba3bb7",
   "metadata": {},
   "outputs": [],
   "source": [
    "finance_tools=YahooFinanceToolSpec().to_tool_list()"
   ]
  },
  {
   "cell_type": "code",
   "execution_count": 18,
   "id": "f420ab7f-a348-464e-a577-9d07d97b1c70",
   "metadata": {},
   "outputs": [],
   "source": [
    "finance_tools.extend([add_tool,multiply_tool])"
   ]
  },
  {
   "cell_type": "code",
   "execution_count": 19,
   "id": "50c5f718-8182-4b61-9b66-7c99bd35b87c",
   "metadata": {},
   "outputs": [
    {
     "name": "stdout",
     "output_type": "stream",
     "text": [
      "> Running step 7c2babfa-2be9-4ab5-9f8c-9bcc9d024bec. Step input: What is the current price of NVDA ?\n"
     ]
    },
    {
     "ename": "AttributeError",
     "evalue": "'function' object has no attribute 'metadata'",
     "output_type": "error",
     "traceback": [
      "\u001b[0;31m---------------------------------------------------------------------------\u001b[0m",
      "\u001b[0;31mAttributeError\u001b[0m                            Traceback (most recent call last)",
      "Cell \u001b[0;32mIn[19], line 3\u001b[0m\n\u001b[1;32m      1\u001b[0m agent\u001b[38;5;241m=\u001b[39mReActAgent\u001b[38;5;241m.\u001b[39mfrom_tools(finance_tools,verbose\u001b[38;5;241m=\u001b[39m\u001b[38;5;28;01mTrue\u001b[39;00m)\n\u001b[0;32m----> 3\u001b[0m response\u001b[38;5;241m=\u001b[39magent\u001b[38;5;241m.\u001b[39mchat(\u001b[38;5;124m'\u001b[39m\u001b[38;5;124mWhat is the current price of NVDA ?\u001b[39m\u001b[38;5;124m'\u001b[39m)\n\u001b[1;32m      5\u001b[0m \u001b[38;5;28mprint\u001b[39m(response)\n",
      "File \u001b[0;32m~/anaconda3/envs/RAG/lib/python3.11/site-packages/llama_index/core/instrumentation/dispatcher.py:260\u001b[0m, in \u001b[0;36mDispatcher.span.<locals>.wrapper\u001b[0;34m(func, instance, args, kwargs)\u001b[0m\n\u001b[1;32m    252\u001b[0m \u001b[38;5;28mself\u001b[39m\u001b[38;5;241m.\u001b[39mspan_enter(\n\u001b[1;32m    253\u001b[0m     id_\u001b[38;5;241m=\u001b[39mid_,\n\u001b[1;32m    254\u001b[0m     bound_args\u001b[38;5;241m=\u001b[39mbound_args,\n\u001b[0;32m   (...)\u001b[0m\n\u001b[1;32m    257\u001b[0m     tags\u001b[38;5;241m=\u001b[39mtags,\n\u001b[1;32m    258\u001b[0m )\n\u001b[1;32m    259\u001b[0m \u001b[38;5;28;01mtry\u001b[39;00m:\n\u001b[0;32m--> 260\u001b[0m     result \u001b[38;5;241m=\u001b[39m func(\u001b[38;5;241m*\u001b[39margs, \u001b[38;5;241m*\u001b[39m\u001b[38;5;241m*\u001b[39mkwargs)\n\u001b[1;32m    261\u001b[0m \u001b[38;5;28;01mexcept\u001b[39;00m \u001b[38;5;167;01mBaseException\u001b[39;00m \u001b[38;5;28;01mas\u001b[39;00m e:\n\u001b[1;32m    262\u001b[0m     \u001b[38;5;28mself\u001b[39m\u001b[38;5;241m.\u001b[39mevent(SpanDropEvent(span_id\u001b[38;5;241m=\u001b[39mid_, err_str\u001b[38;5;241m=\u001b[39m\u001b[38;5;28mstr\u001b[39m(e)))\n",
      "File \u001b[0;32m~/anaconda3/envs/RAG/lib/python3.11/site-packages/llama_index/core/callbacks/utils.py:41\u001b[0m, in \u001b[0;36mtrace_method.<locals>.decorator.<locals>.wrapper\u001b[0;34m(self, *args, **kwargs)\u001b[0m\n\u001b[1;32m     39\u001b[0m callback_manager \u001b[38;5;241m=\u001b[39m cast(CallbackManager, callback_manager)\n\u001b[1;32m     40\u001b[0m \u001b[38;5;28;01mwith\u001b[39;00m callback_manager\u001b[38;5;241m.\u001b[39mas_trace(trace_id):\n\u001b[0;32m---> 41\u001b[0m     \u001b[38;5;28;01mreturn\u001b[39;00m func(\u001b[38;5;28mself\u001b[39m, \u001b[38;5;241m*\u001b[39margs, \u001b[38;5;241m*\u001b[39m\u001b[38;5;241m*\u001b[39mkwargs)\n",
      "File \u001b[0;32m~/anaconda3/envs/RAG/lib/python3.11/site-packages/llama_index/core/agent/runner/base.py:646\u001b[0m, in \u001b[0;36mAgentRunner.chat\u001b[0;34m(self, message, chat_history, tool_choice)\u001b[0m\n\u001b[1;32m    641\u001b[0m     tool_choice \u001b[38;5;241m=\u001b[39m \u001b[38;5;28mself\u001b[39m\u001b[38;5;241m.\u001b[39mdefault_tool_choice\n\u001b[1;32m    642\u001b[0m \u001b[38;5;28;01mwith\u001b[39;00m \u001b[38;5;28mself\u001b[39m\u001b[38;5;241m.\u001b[39mcallback_manager\u001b[38;5;241m.\u001b[39mevent(\n\u001b[1;32m    643\u001b[0m     CBEventType\u001b[38;5;241m.\u001b[39mAGENT_STEP,\n\u001b[1;32m    644\u001b[0m     payload\u001b[38;5;241m=\u001b[39m{EventPayload\u001b[38;5;241m.\u001b[39mMESSAGES: [message]},\n\u001b[1;32m    645\u001b[0m ) \u001b[38;5;28;01mas\u001b[39;00m e:\n\u001b[0;32m--> 646\u001b[0m     chat_response \u001b[38;5;241m=\u001b[39m \u001b[38;5;28mself\u001b[39m\u001b[38;5;241m.\u001b[39m_chat(\n\u001b[1;32m    647\u001b[0m         message\u001b[38;5;241m=\u001b[39mmessage,\n\u001b[1;32m    648\u001b[0m         chat_history\u001b[38;5;241m=\u001b[39mchat_history,\n\u001b[1;32m    649\u001b[0m         tool_choice\u001b[38;5;241m=\u001b[39mtool_choice,\n\u001b[1;32m    650\u001b[0m         mode\u001b[38;5;241m=\u001b[39mChatResponseMode\u001b[38;5;241m.\u001b[39mWAIT,\n\u001b[1;32m    651\u001b[0m     )\n\u001b[1;32m    652\u001b[0m     \u001b[38;5;28;01massert\u001b[39;00m \u001b[38;5;28misinstance\u001b[39m(chat_response, AgentChatResponse)\n\u001b[1;32m    653\u001b[0m     e\u001b[38;5;241m.\u001b[39mon_end(payload\u001b[38;5;241m=\u001b[39m{EventPayload\u001b[38;5;241m.\u001b[39mRESPONSE: chat_response})\n",
      "File \u001b[0;32m~/anaconda3/envs/RAG/lib/python3.11/site-packages/llama_index/core/instrumentation/dispatcher.py:260\u001b[0m, in \u001b[0;36mDispatcher.span.<locals>.wrapper\u001b[0;34m(func, instance, args, kwargs)\u001b[0m\n\u001b[1;32m    252\u001b[0m \u001b[38;5;28mself\u001b[39m\u001b[38;5;241m.\u001b[39mspan_enter(\n\u001b[1;32m    253\u001b[0m     id_\u001b[38;5;241m=\u001b[39mid_,\n\u001b[1;32m    254\u001b[0m     bound_args\u001b[38;5;241m=\u001b[39mbound_args,\n\u001b[0;32m   (...)\u001b[0m\n\u001b[1;32m    257\u001b[0m     tags\u001b[38;5;241m=\u001b[39mtags,\n\u001b[1;32m    258\u001b[0m )\n\u001b[1;32m    259\u001b[0m \u001b[38;5;28;01mtry\u001b[39;00m:\n\u001b[0;32m--> 260\u001b[0m     result \u001b[38;5;241m=\u001b[39m func(\u001b[38;5;241m*\u001b[39margs, \u001b[38;5;241m*\u001b[39m\u001b[38;5;241m*\u001b[39mkwargs)\n\u001b[1;32m    261\u001b[0m \u001b[38;5;28;01mexcept\u001b[39;00m \u001b[38;5;167;01mBaseException\u001b[39;00m \u001b[38;5;28;01mas\u001b[39;00m e:\n\u001b[1;32m    262\u001b[0m     \u001b[38;5;28mself\u001b[39m\u001b[38;5;241m.\u001b[39mevent(SpanDropEvent(span_id\u001b[38;5;241m=\u001b[39mid_, err_str\u001b[38;5;241m=\u001b[39m\u001b[38;5;28mstr\u001b[39m(e)))\n",
      "File \u001b[0;32m~/anaconda3/envs/RAG/lib/python3.11/site-packages/llama_index/core/agent/runner/base.py:578\u001b[0m, in \u001b[0;36mAgentRunner._chat\u001b[0;34m(self, message, chat_history, tool_choice, mode)\u001b[0m\n\u001b[1;32m    575\u001b[0m dispatcher\u001b[38;5;241m.\u001b[39mevent(AgentChatWithStepStartEvent(user_msg\u001b[38;5;241m=\u001b[39mmessage))\n\u001b[1;32m    576\u001b[0m \u001b[38;5;28;01mwhile\u001b[39;00m \u001b[38;5;28;01mTrue\u001b[39;00m:\n\u001b[1;32m    577\u001b[0m     \u001b[38;5;66;03m# pass step queue in as argument, assume step executor is stateless\u001b[39;00m\n\u001b[0;32m--> 578\u001b[0m     cur_step_output \u001b[38;5;241m=\u001b[39m \u001b[38;5;28mself\u001b[39m\u001b[38;5;241m.\u001b[39m_run_step(\n\u001b[1;32m    579\u001b[0m         task\u001b[38;5;241m.\u001b[39mtask_id, mode\u001b[38;5;241m=\u001b[39mmode, tool_choice\u001b[38;5;241m=\u001b[39mtool_choice\n\u001b[1;32m    580\u001b[0m     )\n\u001b[1;32m    582\u001b[0m     \u001b[38;5;28;01mif\u001b[39;00m cur_step_output\u001b[38;5;241m.\u001b[39mis_last:\n\u001b[1;32m    583\u001b[0m         result_output \u001b[38;5;241m=\u001b[39m cur_step_output\n",
      "File \u001b[0;32m~/anaconda3/envs/RAG/lib/python3.11/site-packages/llama_index/core/instrumentation/dispatcher.py:260\u001b[0m, in \u001b[0;36mDispatcher.span.<locals>.wrapper\u001b[0;34m(func, instance, args, kwargs)\u001b[0m\n\u001b[1;32m    252\u001b[0m \u001b[38;5;28mself\u001b[39m\u001b[38;5;241m.\u001b[39mspan_enter(\n\u001b[1;32m    253\u001b[0m     id_\u001b[38;5;241m=\u001b[39mid_,\n\u001b[1;32m    254\u001b[0m     bound_args\u001b[38;5;241m=\u001b[39mbound_args,\n\u001b[0;32m   (...)\u001b[0m\n\u001b[1;32m    257\u001b[0m     tags\u001b[38;5;241m=\u001b[39mtags,\n\u001b[1;32m    258\u001b[0m )\n\u001b[1;32m    259\u001b[0m \u001b[38;5;28;01mtry\u001b[39;00m:\n\u001b[0;32m--> 260\u001b[0m     result \u001b[38;5;241m=\u001b[39m func(\u001b[38;5;241m*\u001b[39margs, \u001b[38;5;241m*\u001b[39m\u001b[38;5;241m*\u001b[39mkwargs)\n\u001b[1;32m    261\u001b[0m \u001b[38;5;28;01mexcept\u001b[39;00m \u001b[38;5;167;01mBaseException\u001b[39;00m \u001b[38;5;28;01mas\u001b[39;00m e:\n\u001b[1;32m    262\u001b[0m     \u001b[38;5;28mself\u001b[39m\u001b[38;5;241m.\u001b[39mevent(SpanDropEvent(span_id\u001b[38;5;241m=\u001b[39mid_, err_str\u001b[38;5;241m=\u001b[39m\u001b[38;5;28mstr\u001b[39m(e)))\n",
      "File \u001b[0;32m~/anaconda3/envs/RAG/lib/python3.11/site-packages/llama_index/core/agent/runner/base.py:412\u001b[0m, in \u001b[0;36mAgentRunner._run_step\u001b[0;34m(self, task_id, step, input, mode, **kwargs)\u001b[0m\n\u001b[1;32m    408\u001b[0m \u001b[38;5;66;03m# TODO: figure out if you can dynamically swap in different step executors\u001b[39;00m\n\u001b[1;32m    409\u001b[0m \u001b[38;5;66;03m# not clear when you would do that by theoretically possible\u001b[39;00m\n\u001b[1;32m    411\u001b[0m \u001b[38;5;28;01mif\u001b[39;00m mode \u001b[38;5;241m==\u001b[39m ChatResponseMode\u001b[38;5;241m.\u001b[39mWAIT:\n\u001b[0;32m--> 412\u001b[0m     cur_step_output \u001b[38;5;241m=\u001b[39m \u001b[38;5;28mself\u001b[39m\u001b[38;5;241m.\u001b[39magent_worker\u001b[38;5;241m.\u001b[39mrun_step(step, task, \u001b[38;5;241m*\u001b[39m\u001b[38;5;241m*\u001b[39mkwargs)\n\u001b[1;32m    413\u001b[0m \u001b[38;5;28;01melif\u001b[39;00m mode \u001b[38;5;241m==\u001b[39m ChatResponseMode\u001b[38;5;241m.\u001b[39mSTREAM:\n\u001b[1;32m    414\u001b[0m     cur_step_output \u001b[38;5;241m=\u001b[39m \u001b[38;5;28mself\u001b[39m\u001b[38;5;241m.\u001b[39magent_worker\u001b[38;5;241m.\u001b[39mstream_step(step, task, \u001b[38;5;241m*\u001b[39m\u001b[38;5;241m*\u001b[39mkwargs)\n",
      "File \u001b[0;32m~/anaconda3/envs/RAG/lib/python3.11/site-packages/llama_index/core/instrumentation/dispatcher.py:260\u001b[0m, in \u001b[0;36mDispatcher.span.<locals>.wrapper\u001b[0;34m(func, instance, args, kwargs)\u001b[0m\n\u001b[1;32m    252\u001b[0m \u001b[38;5;28mself\u001b[39m\u001b[38;5;241m.\u001b[39mspan_enter(\n\u001b[1;32m    253\u001b[0m     id_\u001b[38;5;241m=\u001b[39mid_,\n\u001b[1;32m    254\u001b[0m     bound_args\u001b[38;5;241m=\u001b[39mbound_args,\n\u001b[0;32m   (...)\u001b[0m\n\u001b[1;32m    257\u001b[0m     tags\u001b[38;5;241m=\u001b[39mtags,\n\u001b[1;32m    258\u001b[0m )\n\u001b[1;32m    259\u001b[0m \u001b[38;5;28;01mtry\u001b[39;00m:\n\u001b[0;32m--> 260\u001b[0m     result \u001b[38;5;241m=\u001b[39m func(\u001b[38;5;241m*\u001b[39margs, \u001b[38;5;241m*\u001b[39m\u001b[38;5;241m*\u001b[39mkwargs)\n\u001b[1;32m    261\u001b[0m \u001b[38;5;28;01mexcept\u001b[39;00m \u001b[38;5;167;01mBaseException\u001b[39;00m \u001b[38;5;28;01mas\u001b[39;00m e:\n\u001b[1;32m    262\u001b[0m     \u001b[38;5;28mself\u001b[39m\u001b[38;5;241m.\u001b[39mevent(SpanDropEvent(span_id\u001b[38;5;241m=\u001b[39mid_, err_str\u001b[38;5;241m=\u001b[39m\u001b[38;5;28mstr\u001b[39m(e)))\n",
      "File \u001b[0;32m~/anaconda3/envs/RAG/lib/python3.11/site-packages/llama_index/core/callbacks/utils.py:41\u001b[0m, in \u001b[0;36mtrace_method.<locals>.decorator.<locals>.wrapper\u001b[0;34m(self, *args, **kwargs)\u001b[0m\n\u001b[1;32m     39\u001b[0m callback_manager \u001b[38;5;241m=\u001b[39m cast(CallbackManager, callback_manager)\n\u001b[1;32m     40\u001b[0m \u001b[38;5;28;01mwith\u001b[39;00m callback_manager\u001b[38;5;241m.\u001b[39mas_trace(trace_id):\n\u001b[0;32m---> 41\u001b[0m     \u001b[38;5;28;01mreturn\u001b[39;00m func(\u001b[38;5;28mself\u001b[39m, \u001b[38;5;241m*\u001b[39margs, \u001b[38;5;241m*\u001b[39m\u001b[38;5;241m*\u001b[39mkwargs)\n",
      "File \u001b[0;32m~/anaconda3/envs/RAG/lib/python3.11/site-packages/llama_index/core/agent/react/step.py:781\u001b[0m, in \u001b[0;36mReActAgentWorker.run_step\u001b[0;34m(self, step, task, **kwargs)\u001b[0m\n\u001b[1;32m    778\u001b[0m \u001b[38;5;129m@trace_method\u001b[39m(\u001b[38;5;124m\"\u001b[39m\u001b[38;5;124mrun_step\u001b[39m\u001b[38;5;124m\"\u001b[39m)\n\u001b[1;32m    779\u001b[0m \u001b[38;5;28;01mdef\u001b[39;00m \u001b[38;5;21mrun_step\u001b[39m(\u001b[38;5;28mself\u001b[39m, step: TaskStep, task: Task, \u001b[38;5;241m*\u001b[39m\u001b[38;5;241m*\u001b[39mkwargs: Any) \u001b[38;5;241m-\u001b[39m\u001b[38;5;241m>\u001b[39m TaskStepOutput:\n\u001b[1;32m    780\u001b[0m \u001b[38;5;250m    \u001b[39m\u001b[38;5;124;03m\"\"\"Run step.\"\"\"\u001b[39;00m\n\u001b[0;32m--> 781\u001b[0m     \u001b[38;5;28;01mreturn\u001b[39;00m \u001b[38;5;28mself\u001b[39m\u001b[38;5;241m.\u001b[39m_run_step(step, task)\n",
      "File \u001b[0;32m~/anaconda3/envs/RAG/lib/python3.11/site-packages/llama_index/core/agent/react/step.py:559\u001b[0m, in \u001b[0;36mReActAgentWorker._run_step\u001b[0;34m(self, step, task)\u001b[0m\n\u001b[1;32m    557\u001b[0m \u001b[38;5;66;03m# TODO: see if we want to do step-based inputs\u001b[39;00m\n\u001b[1;32m    558\u001b[0m tools \u001b[38;5;241m=\u001b[39m \u001b[38;5;28mself\u001b[39m\u001b[38;5;241m.\u001b[39mget_tools(task\u001b[38;5;241m.\u001b[39minput)\n\u001b[0;32m--> 559\u001b[0m input_chat \u001b[38;5;241m=\u001b[39m \u001b[38;5;28mself\u001b[39m\u001b[38;5;241m.\u001b[39m_react_chat_formatter\u001b[38;5;241m.\u001b[39mformat(\n\u001b[1;32m    560\u001b[0m     tools,\n\u001b[1;32m    561\u001b[0m     chat_history\u001b[38;5;241m=\u001b[39mtask\u001b[38;5;241m.\u001b[39mmemory\u001b[38;5;241m.\u001b[39mget(\u001b[38;5;28minput\u001b[39m\u001b[38;5;241m=\u001b[39mtask\u001b[38;5;241m.\u001b[39minput)\n\u001b[1;32m    562\u001b[0m     \u001b[38;5;241m+\u001b[39m task\u001b[38;5;241m.\u001b[39mextra_state[\u001b[38;5;124m\"\u001b[39m\u001b[38;5;124mnew_memory\u001b[39m\u001b[38;5;124m\"\u001b[39m]\u001b[38;5;241m.\u001b[39mget_all(),\n\u001b[1;32m    563\u001b[0m     current_reasoning\u001b[38;5;241m=\u001b[39mtask\u001b[38;5;241m.\u001b[39mextra_state[\u001b[38;5;124m\"\u001b[39m\u001b[38;5;124mcurrent_reasoning\u001b[39m\u001b[38;5;124m\"\u001b[39m],\n\u001b[1;32m    564\u001b[0m )\n\u001b[1;32m    566\u001b[0m \u001b[38;5;66;03m# send prompt\u001b[39;00m\n\u001b[1;32m    567\u001b[0m chat_response \u001b[38;5;241m=\u001b[39m \u001b[38;5;28mself\u001b[39m\u001b[38;5;241m.\u001b[39m_llm\u001b[38;5;241m.\u001b[39mchat(input_chat)\n",
      "File \u001b[0;32m~/anaconda3/envs/RAG/lib/python3.11/site-packages/llama_index/core/agent/react/formatter.py:68\u001b[0m, in \u001b[0;36mReActChatFormatter.format\u001b[0;34m(self, tools, chat_history, current_reasoning)\u001b[0m\n\u001b[1;32m     64\u001b[0m \u001b[38;5;250m\u001b[39m\u001b[38;5;124;03m\"\"\"Format chat history into list of ChatMessage.\"\"\"\u001b[39;00m\n\u001b[1;32m     65\u001b[0m current_reasoning \u001b[38;5;241m=\u001b[39m current_reasoning \u001b[38;5;129;01mor\u001b[39;00m []\n\u001b[1;32m     67\u001b[0m format_args \u001b[38;5;241m=\u001b[39m {\n\u001b[0;32m---> 68\u001b[0m     \u001b[38;5;124m\"\u001b[39m\u001b[38;5;124mtool_desc\u001b[39m\u001b[38;5;124m\"\u001b[39m: \u001b[38;5;124m\"\u001b[39m\u001b[38;5;130;01m\\n\u001b[39;00m\u001b[38;5;124m\"\u001b[39m\u001b[38;5;241m.\u001b[39mjoin(get_react_tool_descriptions(tools)),\n\u001b[1;32m     69\u001b[0m     \u001b[38;5;124m\"\u001b[39m\u001b[38;5;124mtool_names\u001b[39m\u001b[38;5;124m\"\u001b[39m: \u001b[38;5;124m\"\u001b[39m\u001b[38;5;124m, \u001b[39m\u001b[38;5;124m\"\u001b[39m\u001b[38;5;241m.\u001b[39mjoin([tool\u001b[38;5;241m.\u001b[39mmetadata\u001b[38;5;241m.\u001b[39mget_name() \u001b[38;5;28;01mfor\u001b[39;00m tool \u001b[38;5;129;01min\u001b[39;00m tools]),\n\u001b[1;32m     70\u001b[0m }\n\u001b[1;32m     71\u001b[0m \u001b[38;5;28;01mif\u001b[39;00m \u001b[38;5;28mself\u001b[39m\u001b[38;5;241m.\u001b[39mcontext:\n\u001b[1;32m     72\u001b[0m     format_args[\u001b[38;5;124m\"\u001b[39m\u001b[38;5;124mcontext\u001b[39m\u001b[38;5;124m\"\u001b[39m] \u001b[38;5;241m=\u001b[39m \u001b[38;5;28mself\u001b[39m\u001b[38;5;241m.\u001b[39mcontext\n",
      "File \u001b[0;32m~/anaconda3/envs/RAG/lib/python3.11/site-packages/llama_index/core/agent/react/formatter.py:27\u001b[0m, in \u001b[0;36mget_react_tool_descriptions\u001b[0;34m(tools)\u001b[0m\n\u001b[1;32m     24\u001b[0m tool_descs \u001b[38;5;241m=\u001b[39m []\n\u001b[1;32m     25\u001b[0m \u001b[38;5;28;01mfor\u001b[39;00m tool \u001b[38;5;129;01min\u001b[39;00m tools:\n\u001b[1;32m     26\u001b[0m     tool_desc \u001b[38;5;241m=\u001b[39m (\n\u001b[0;32m---> 27\u001b[0m         \u001b[38;5;124mf\u001b[39m\u001b[38;5;124m\"\u001b[39m\u001b[38;5;124m> Tool Name: \u001b[39m\u001b[38;5;132;01m{\u001b[39;00mtool\u001b[38;5;241m.\u001b[39mmetadata\u001b[38;5;241m.\u001b[39mname\u001b[38;5;132;01m}\u001b[39;00m\u001b[38;5;130;01m\\n\u001b[39;00m\u001b[38;5;124m\"\u001b[39m\n\u001b[1;32m     28\u001b[0m         \u001b[38;5;124mf\u001b[39m\u001b[38;5;124m\"\u001b[39m\u001b[38;5;124mTool Description: \u001b[39m\u001b[38;5;132;01m{\u001b[39;00mtool\u001b[38;5;241m.\u001b[39mmetadata\u001b[38;5;241m.\u001b[39mdescription\u001b[38;5;132;01m}\u001b[39;00m\u001b[38;5;130;01m\\n\u001b[39;00m\u001b[38;5;124m\"\u001b[39m\n\u001b[1;32m     29\u001b[0m         \u001b[38;5;124mf\u001b[39m\u001b[38;5;124m\"\u001b[39m\u001b[38;5;124mTool Args: \u001b[39m\u001b[38;5;132;01m{\u001b[39;00mtool\u001b[38;5;241m.\u001b[39mmetadata\u001b[38;5;241m.\u001b[39mfn_schema_str\u001b[38;5;132;01m}\u001b[39;00m\u001b[38;5;130;01m\\n\u001b[39;00m\u001b[38;5;124m\"\u001b[39m\n\u001b[1;32m     30\u001b[0m     )\n\u001b[1;32m     31\u001b[0m     tool_descs\u001b[38;5;241m.\u001b[39mappend(tool_desc)\n\u001b[1;32m     32\u001b[0m \u001b[38;5;28;01mreturn\u001b[39;00m tool_descs\n",
      "File \u001b[0;32m~/anaconda3/envs/RAG/lib/python3.11/site-packages/llama_index/core/tools/types.py:192\u001b[0m, in \u001b[0;36mBaseToolAsyncAdapter.metadata\u001b[0;34m(self)\u001b[0m\n\u001b[1;32m    190\u001b[0m \u001b[38;5;129m@property\u001b[39m\n\u001b[1;32m    191\u001b[0m \u001b[38;5;28;01mdef\u001b[39;00m \u001b[38;5;21mmetadata\u001b[39m(\u001b[38;5;28mself\u001b[39m) \u001b[38;5;241m-\u001b[39m\u001b[38;5;241m>\u001b[39m ToolMetadata:\n\u001b[0;32m--> 192\u001b[0m     \u001b[38;5;28;01mreturn\u001b[39;00m \u001b[38;5;28mself\u001b[39m\u001b[38;5;241m.\u001b[39mbase_tool\u001b[38;5;241m.\u001b[39mmetadata\n",
      "\u001b[0;31mAttributeError\u001b[0m: 'function' object has no attribute 'metadata'"
     ]
    }
   ],
   "source": [
    "agent=ReActAgent.from_tools(finance_tools,verbose=True)\n",
    "\n",
    "response=agent.chat('What is the current price of NVDA ?')\n",
    "\n",
    "print(response)"
   ]
  },
  {
   "cell_type": "code",
   "execution_count": null,
   "id": "d2e3cce6-a31b-4542-8bcf-d8fd51bc50df",
   "metadata": {},
   "outputs": [],
   "source": []
  },
  {
   "cell_type": "code",
   "execution_count": null,
   "id": "c1f62785-a9ea-44fd-b9c6-891077038b47",
   "metadata": {},
   "outputs": [],
   "source": []
  }
 ],
 "metadata": {
  "kernelspec": {
   "display_name": "Python 3 (ipykernel)",
   "language": "python",
   "name": "python3"
  },
  "language_info": {
   "codemirror_mode": {
    "name": "ipython",
    "version": 3
   },
   "file_extension": ".py",
   "mimetype": "text/x-python",
   "name": "python",
   "nbconvert_exporter": "python",
   "pygments_lexer": "ipython3",
   "version": "3.11.9"
  },
  "widgets": {
   "application/vnd.jupyter.widget-state+json": {
    "state": {},
    "version_major": 2,
    "version_minor": 0
   }
  }
 },
 "nbformat": 4,
 "nbformat_minor": 5
}
