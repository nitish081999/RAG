{
 "cells": [
  {
   "cell_type": "code",
   "execution_count": 1,
   "id": "d691eee6-e1b3-4787-a5fd-dd6a8ec24498",
   "metadata": {},
   "outputs": [
    {
     "name": "stdout",
     "output_type": "stream",
     "text": [
      "Collecting llama-index\n",
      "  Downloading llama_index-0.10.65-py3-none-any.whl.metadata (11 kB)\n",
      "Collecting llama-index-agent-openai<0.3.0,>=0.1.4 (from llama-index)\n",
      "  Downloading llama_index_agent_openai-0.2.9-py3-none-any.whl.metadata (729 bytes)\n",
      "Collecting llama-index-cli<0.2.0,>=0.1.2 (from llama-index)\n",
      "  Downloading llama_index_cli-0.1.13-py3-none-any.whl.metadata (1.5 kB)\n",
      "Collecting llama-index-core<0.11.0,>=0.10.65 (from llama-index)\n",
      "  Downloading llama_index_core-0.10.65-py3-none-any.whl.metadata (2.4 kB)\n",
      "Collecting llama-index-embeddings-openai<0.2.0,>=0.1.5 (from llama-index)\n",
      "  Downloading llama_index_embeddings_openai-0.1.11-py3-none-any.whl.metadata (655 bytes)\n",
      "Collecting llama-index-indices-managed-llama-cloud>=0.2.0 (from llama-index)\n",
      "  Downloading llama_index_indices_managed_llama_cloud-0.2.7-py3-none-any.whl.metadata (3.8 kB)\n",
      "Collecting llama-index-legacy<0.10.0,>=0.9.48 (from llama-index)\n",
      "  Downloading llama_index_legacy-0.9.48.post1-py3-none-any.whl.metadata (8.5 kB)\n",
      "Collecting llama-index-llms-openai<0.2.0,>=0.1.27 (from llama-index)\n",
      "  Downloading llama_index_llms_openai-0.1.29-py3-none-any.whl.metadata (650 bytes)\n",
      "Collecting llama-index-multi-modal-llms-openai<0.2.0,>=0.1.3 (from llama-index)\n",
      "  Downloading llama_index_multi_modal_llms_openai-0.1.9-py3-none-any.whl.metadata (728 bytes)\n",
      "Collecting llama-index-program-openai<0.2.0,>=0.1.3 (from llama-index)\n",
      "  Downloading llama_index_program_openai-0.1.7-py3-none-any.whl.metadata (760 bytes)\n",
      "Collecting llama-index-question-gen-openai<0.2.0,>=0.1.2 (from llama-index)\n",
      "  Downloading llama_index_question_gen_openai-0.1.3-py3-none-any.whl.metadata (785 bytes)\n",
      "Collecting llama-index-readers-file<0.2.0,>=0.1.4 (from llama-index)\n",
      "  Downloading llama_index_readers_file-0.1.33-py3-none-any.whl.metadata (5.4 kB)\n",
      "Collecting llama-index-readers-llama-parse>=0.1.2 (from llama-index)\n",
      "  Downloading llama_index_readers_llama_parse-0.1.6-py3-none-any.whl.metadata (3.6 kB)\n",
      "Collecting openai>=1.14.0 (from llama-index-agent-openai<0.3.0,>=0.1.4->llama-index)\n",
      "  Downloading openai-1.40.6-py3-none-any.whl.metadata (22 kB)\n",
      "Requirement already satisfied: PyYAML>=6.0.1 in /home/nitish/anaconda3/envs/RAG/lib/python3.11/site-packages (from llama-index-core<0.11.0,>=0.10.65->llama-index) (6.0.1)\n",
      "Requirement already satisfied: SQLAlchemy>=1.4.49 in /home/nitish/anaconda3/envs/RAG/lib/python3.11/site-packages (from SQLAlchemy[asyncio]>=1.4.49->llama-index-core<0.11.0,>=0.10.65->llama-index) (2.0.32)\n",
      "Requirement already satisfied: aiohttp<4.0.0,>=3.8.6 in /home/nitish/anaconda3/envs/RAG/lib/python3.11/site-packages (from llama-index-core<0.11.0,>=0.10.65->llama-index) (3.10.3)\n",
      "Requirement already satisfied: dataclasses-json in /home/nitish/anaconda3/envs/RAG/lib/python3.11/site-packages (from llama-index-core<0.11.0,>=0.10.65->llama-index) (0.6.7)\n",
      "Collecting deprecated>=1.2.9.3 (from llama-index-core<0.11.0,>=0.10.65->llama-index)\n",
      "  Downloading Deprecated-1.2.14-py2.py3-none-any.whl.metadata (5.4 kB)\n",
      "Collecting dirtyjson<2.0.0,>=1.0.8 (from llama-index-core<0.11.0,>=0.10.65->llama-index)\n",
      "  Downloading dirtyjson-1.0.8-py3-none-any.whl.metadata (11 kB)\n",
      "Requirement already satisfied: fsspec>=2023.5.0 in /home/nitish/anaconda3/envs/RAG/lib/python3.11/site-packages (from llama-index-core<0.11.0,>=0.10.65->llama-index) (2024.6.1)\n",
      "Requirement already satisfied: httpx in /home/nitish/anaconda3/envs/RAG/lib/python3.11/site-packages (from llama-index-core<0.11.0,>=0.10.65->llama-index) (0.27.0)\n",
      "Requirement already satisfied: nest-asyncio<2.0.0,>=1.5.8 in /home/nitish/anaconda3/envs/RAG/lib/python3.11/site-packages (from llama-index-core<0.11.0,>=0.10.65->llama-index) (1.6.0)\n",
      "Requirement already satisfied: networkx>=3.0 in /home/nitish/anaconda3/envs/RAG/lib/python3.11/site-packages (from llama-index-core<0.11.0,>=0.10.65->llama-index) (3.3)\n",
      "Requirement already satisfied: nltk>=3.8.2 in /home/nitish/anaconda3/envs/RAG/lib/python3.11/site-packages (from llama-index-core<0.11.0,>=0.10.65->llama-index) (3.8.2)\n",
      "Requirement already satisfied: numpy<2.0.0 in /home/nitish/anaconda3/envs/RAG/lib/python3.11/site-packages (from llama-index-core<0.11.0,>=0.10.65->llama-index) (1.26.4)\n",
      "Collecting pandas (from llama-index-core<0.11.0,>=0.10.65->llama-index)\n",
      "  Downloading pandas-2.2.2-cp311-cp311-manylinux_2_17_x86_64.manylinux2014_x86_64.whl.metadata (19 kB)\n",
      "Requirement already satisfied: pillow>=9.0.0 in /home/nitish/anaconda3/envs/RAG/lib/python3.11/site-packages (from llama-index-core<0.11.0,>=0.10.65->llama-index) (10.4.0)\n",
      "Requirement already satisfied: requests>=2.31.0 in /home/nitish/anaconda3/envs/RAG/lib/python3.11/site-packages (from llama-index-core<0.11.0,>=0.10.65->llama-index) (2.32.3)\n",
      "Requirement already satisfied: tenacity!=8.4.0,<9.0.0,>=8.2.0 in /home/nitish/anaconda3/envs/RAG/lib/python3.11/site-packages (from llama-index-core<0.11.0,>=0.10.65->llama-index) (8.5.0)\n",
      "Collecting tiktoken>=0.3.3 (from llama-index-core<0.11.0,>=0.10.65->llama-index)\n",
      "  Downloading tiktoken-0.7.0-cp311-cp311-manylinux_2_17_x86_64.manylinux2014_x86_64.whl.metadata (6.6 kB)\n",
      "Requirement already satisfied: tqdm<5.0.0,>=4.66.1 in /home/nitish/anaconda3/envs/RAG/lib/python3.11/site-packages (from llama-index-core<0.11.0,>=0.10.65->llama-index) (4.66.5)\n",
      "Requirement already satisfied: typing-extensions>=4.5.0 in /home/nitish/anaconda3/envs/RAG/lib/python3.11/site-packages (from llama-index-core<0.11.0,>=0.10.65->llama-index) (4.11.0)\n",
      "Requirement already satisfied: typing-inspect>=0.8.0 in /home/nitish/anaconda3/envs/RAG/lib/python3.11/site-packages (from llama-index-core<0.11.0,>=0.10.65->llama-index) (0.9.0)\n",
      "Requirement already satisfied: wrapt in /home/nitish/anaconda3/envs/RAG/lib/python3.11/site-packages (from llama-index-core<0.11.0,>=0.10.65->llama-index) (1.16.0)\n",
      "Collecting llama-cloud>=0.0.11 (from llama-index-indices-managed-llama-cloud>=0.2.0->llama-index)\n",
      "  Downloading llama_cloud-0.0.13-py3-none-any.whl.metadata (751 bytes)\n",
      "Requirement already satisfied: beautifulsoup4<5.0.0,>=4.12.3 in /home/nitish/anaconda3/envs/RAG/lib/python3.11/site-packages (from llama-index-readers-file<0.2.0,>=0.1.4->llama-index) (4.12.3)\n",
      "Requirement already satisfied: pypdf<5.0.0,>=4.0.1 in /home/nitish/anaconda3/envs/RAG/lib/python3.11/site-packages (from llama-index-readers-file<0.2.0,>=0.1.4->llama-index) (4.3.1)\n",
      "Collecting striprtf<0.0.27,>=0.0.26 (from llama-index-readers-file<0.2.0,>=0.1.4->llama-index)\n",
      "  Downloading striprtf-0.0.26-py3-none-any.whl.metadata (2.1 kB)\n",
      "Collecting llama-parse>=0.4.0 (from llama-index-readers-llama-parse>=0.1.2->llama-index)\n",
      "  Downloading llama_parse-0.4.9-py3-none-any.whl.metadata (4.4 kB)\n",
      "Requirement already satisfied: aiohappyeyeballs>=2.3.0 in /home/nitish/anaconda3/envs/RAG/lib/python3.11/site-packages (from aiohttp<4.0.0,>=3.8.6->llama-index-core<0.11.0,>=0.10.65->llama-index) (2.3.5)\n",
      "Requirement already satisfied: aiosignal>=1.1.2 in /home/nitish/anaconda3/envs/RAG/lib/python3.11/site-packages (from aiohttp<4.0.0,>=3.8.6->llama-index-core<0.11.0,>=0.10.65->llama-index) (1.3.1)\n",
      "Requirement already satisfied: attrs>=17.3.0 in /home/nitish/anaconda3/envs/RAG/lib/python3.11/site-packages (from aiohttp<4.0.0,>=3.8.6->llama-index-core<0.11.0,>=0.10.65->llama-index) (23.1.0)\n",
      "Requirement already satisfied: frozenlist>=1.1.1 in /home/nitish/anaconda3/envs/RAG/lib/python3.11/site-packages (from aiohttp<4.0.0,>=3.8.6->llama-index-core<0.11.0,>=0.10.65->llama-index) (1.4.1)\n",
      "Requirement already satisfied: multidict<7.0,>=4.5 in /home/nitish/anaconda3/envs/RAG/lib/python3.11/site-packages (from aiohttp<4.0.0,>=3.8.6->llama-index-core<0.11.0,>=0.10.65->llama-index) (6.0.5)\n",
      "Requirement already satisfied: yarl<2.0,>=1.0 in /home/nitish/anaconda3/envs/RAG/lib/python3.11/site-packages (from aiohttp<4.0.0,>=3.8.6->llama-index-core<0.11.0,>=0.10.65->llama-index) (1.9.4)\n",
      "Requirement already satisfied: soupsieve>1.2 in /home/nitish/anaconda3/envs/RAG/lib/python3.11/site-packages (from beautifulsoup4<5.0.0,>=4.12.3->llama-index-readers-file<0.2.0,>=0.1.4->llama-index) (2.5)\n",
      "Requirement already satisfied: pydantic>=1.10 in /home/nitish/anaconda3/envs/RAG/lib/python3.11/site-packages (from llama-cloud>=0.0.11->llama-index-indices-managed-llama-cloud>=0.2.0->llama-index) (2.8.2)\n",
      "Requirement already satisfied: anyio in /home/nitish/anaconda3/envs/RAG/lib/python3.11/site-packages (from httpx->llama-index-core<0.11.0,>=0.10.65->llama-index) (4.2.0)\n",
      "Requirement already satisfied: certifi in /home/nitish/anaconda3/envs/RAG/lib/python3.11/site-packages (from httpx->llama-index-core<0.11.0,>=0.10.65->llama-index) (2024.7.4)\n",
      "Requirement already satisfied: httpcore==1.* in /home/nitish/anaconda3/envs/RAG/lib/python3.11/site-packages (from httpx->llama-index-core<0.11.0,>=0.10.65->llama-index) (1.0.5)\n",
      "Requirement already satisfied: idna in /home/nitish/anaconda3/envs/RAG/lib/python3.11/site-packages (from httpx->llama-index-core<0.11.0,>=0.10.65->llama-index) (3.7)\n",
      "Requirement already satisfied: sniffio in /home/nitish/anaconda3/envs/RAG/lib/python3.11/site-packages (from httpx->llama-index-core<0.11.0,>=0.10.65->llama-index) (1.3.0)\n",
      "Requirement already satisfied: h11<0.15,>=0.13 in /home/nitish/anaconda3/envs/RAG/lib/python3.11/site-packages (from httpcore==1.*->httpx->llama-index-core<0.11.0,>=0.10.65->llama-index) (0.14.0)\n",
      "Requirement already satisfied: click in /home/nitish/anaconda3/envs/RAG/lib/python3.11/site-packages (from nltk>=3.8.2->llama-index-core<0.11.0,>=0.10.65->llama-index) (8.1.7)\n",
      "Requirement already satisfied: joblib in /home/nitish/anaconda3/envs/RAG/lib/python3.11/site-packages (from nltk>=3.8.2->llama-index-core<0.11.0,>=0.10.65->llama-index) (1.4.2)\n",
      "Requirement already satisfied: regex>=2021.8.3 in /home/nitish/anaconda3/envs/RAG/lib/python3.11/site-packages (from nltk>=3.8.2->llama-index-core<0.11.0,>=0.10.65->llama-index) (2024.7.24)\n",
      "Collecting distro<2,>=1.7.0 (from openai>=1.14.0->llama-index-agent-openai<0.3.0,>=0.1.4->llama-index)\n",
      "  Downloading distro-1.9.0-py3-none-any.whl.metadata (6.8 kB)\n",
      "Collecting jiter<1,>=0.4.0 (from openai>=1.14.0->llama-index-agent-openai<0.3.0,>=0.1.4->llama-index)\n",
      "  Downloading jiter-0.5.0-cp311-cp311-manylinux_2_17_x86_64.manylinux2014_x86_64.whl.metadata (3.6 kB)\n",
      "Requirement already satisfied: charset-normalizer<4,>=2 in /home/nitish/anaconda3/envs/RAG/lib/python3.11/site-packages (from requests>=2.31.0->llama-index-core<0.11.0,>=0.10.65->llama-index) (3.3.2)\n",
      "Requirement already satisfied: urllib3<3,>=1.21.1 in /home/nitish/anaconda3/envs/RAG/lib/python3.11/site-packages (from requests>=2.31.0->llama-index-core<0.11.0,>=0.10.65->llama-index) (2.2.2)\n",
      "Requirement already satisfied: greenlet!=0.4.17 in /home/nitish/anaconda3/envs/RAG/lib/python3.11/site-packages (from SQLAlchemy>=1.4.49->SQLAlchemy[asyncio]>=1.4.49->llama-index-core<0.11.0,>=0.10.65->llama-index) (3.0.3)\n",
      "Requirement already satisfied: mypy-extensions>=0.3.0 in /home/nitish/anaconda3/envs/RAG/lib/python3.11/site-packages (from typing-inspect>=0.8.0->llama-index-core<0.11.0,>=0.10.65->llama-index) (1.0.0)\n",
      "Requirement already satisfied: marshmallow<4.0.0,>=3.18.0 in /home/nitish/anaconda3/envs/RAG/lib/python3.11/site-packages (from dataclasses-json->llama-index-core<0.11.0,>=0.10.65->llama-index) (3.21.3)\n",
      "Requirement already satisfied: python-dateutil>=2.8.2 in /home/nitish/anaconda3/envs/RAG/lib/python3.11/site-packages (from pandas->llama-index-core<0.11.0,>=0.10.65->llama-index) (2.9.0.post0)\n",
      "Requirement already satisfied: pytz>=2020.1 in /home/nitish/anaconda3/envs/RAG/lib/python3.11/site-packages (from pandas->llama-index-core<0.11.0,>=0.10.65->llama-index) (2024.1)\n",
      "Collecting tzdata>=2022.7 (from pandas->llama-index-core<0.11.0,>=0.10.65->llama-index)\n",
      "  Downloading tzdata-2024.1-py2.py3-none-any.whl.metadata (1.4 kB)\n",
      "Requirement already satisfied: packaging>=17.0 in /home/nitish/anaconda3/envs/RAG/lib/python3.11/site-packages (from marshmallow<4.0.0,>=3.18.0->dataclasses-json->llama-index-core<0.11.0,>=0.10.65->llama-index) (24.1)\n",
      "Requirement already satisfied: annotated-types>=0.4.0 in /home/nitish/anaconda3/envs/RAG/lib/python3.11/site-packages (from pydantic>=1.10->llama-cloud>=0.0.11->llama-index-indices-managed-llama-cloud>=0.2.0->llama-index) (0.7.0)\n",
      "Requirement already satisfied: pydantic-core==2.20.1 in /home/nitish/anaconda3/envs/RAG/lib/python3.11/site-packages (from pydantic>=1.10->llama-cloud>=0.0.11->llama-index-indices-managed-llama-cloud>=0.2.0->llama-index) (2.20.1)\n",
      "Requirement already satisfied: six>=1.5 in /home/nitish/anaconda3/envs/RAG/lib/python3.11/site-packages (from python-dateutil>=2.8.2->pandas->llama-index-core<0.11.0,>=0.10.65->llama-index) (1.16.0)\n",
      "Downloading llama_index-0.10.65-py3-none-any.whl (6.8 kB)\n",
      "Downloading llama_index_agent_openai-0.2.9-py3-none-any.whl (13 kB)\n",
      "Downloading llama_index_cli-0.1.13-py3-none-any.whl (27 kB)\n",
      "Downloading llama_index_core-0.10.65-py3-none-any.whl (15.5 MB)\n",
      "\u001b[2K   \u001b[38;2;114;156;31m━━━━━━━━━━━━━━━━━━━━━━━━━━━━━━━━━━━━━━━━\u001b[0m \u001b[32m15.5/15.5 MB\u001b[0m \u001b[31m1.7 MB/s\u001b[0m eta \u001b[36m0:00:00\u001b[0m[31m1.6 MB/s\u001b[0m eta \u001b[36m0:00:01\u001b[0mm\n",
      "\u001b[?25hDownloading llama_index_embeddings_openai-0.1.11-py3-none-any.whl (6.3 kB)\n",
      "Downloading llama_index_indices_managed_llama_cloud-0.2.7-py3-none-any.whl (9.5 kB)\n",
      "Downloading llama_index_legacy-0.9.48.post1-py3-none-any.whl (1.2 MB)\n",
      "\u001b[2K   \u001b[38;2;114;156;31m━━━━━━━━━━━━━━━━━━━━━━━━━━━━━━━━━━━━━━━━\u001b[0m \u001b[32m1.2/1.2 MB\u001b[0m \u001b[31m2.5 MB/s\u001b[0m eta \u001b[36m0:00:00\u001b[0m MB/s\u001b[0m eta \u001b[36m0:00:01\u001b[0m\n",
      "\u001b[?25hDownloading llama_index_llms_openai-0.1.29-py3-none-any.whl (11 kB)\n",
      "Downloading llama_index_multi_modal_llms_openai-0.1.9-py3-none-any.whl (5.9 kB)\n",
      "Downloading llama_index_program_openai-0.1.7-py3-none-any.whl (5.3 kB)\n",
      "Downloading llama_index_question_gen_openai-0.1.3-py3-none-any.whl (2.9 kB)\n",
      "Downloading llama_index_readers_file-0.1.33-py3-none-any.whl (38 kB)\n",
      "Downloading llama_index_readers_llama_parse-0.1.6-py3-none-any.whl (2.5 kB)\n",
      "Downloading Deprecated-1.2.14-py2.py3-none-any.whl (9.6 kB)\n",
      "Downloading dirtyjson-1.0.8-py3-none-any.whl (25 kB)\n",
      "Downloading llama_cloud-0.0.13-py3-none-any.whl (169 kB)\n",
      "Downloading llama_parse-0.4.9-py3-none-any.whl (9.4 kB)\n",
      "Downloading openai-1.40.6-py3-none-any.whl (361 kB)\n",
      "Downloading striprtf-0.0.26-py3-none-any.whl (6.9 kB)\n",
      "Downloading tiktoken-0.7.0-cp311-cp311-manylinux_2_17_x86_64.manylinux2014_x86_64.whl (1.1 MB)\n",
      "\u001b[2K   \u001b[38;2;114;156;31m━━━━━━━━━━━━━━━━━━━━━━━━━━━━━━━━━━━━━━━━\u001b[0m \u001b[32m1.1/1.1 MB\u001b[0m \u001b[31m2.2 MB/s\u001b[0m eta \u001b[36m0:00:00\u001b[0m MB/s\u001b[0m eta \u001b[36m0:00:01\u001b[0m\n",
      "\u001b[?25hDownloading pandas-2.2.2-cp311-cp311-manylinux_2_17_x86_64.manylinux2014_x86_64.whl (13.0 MB)\n",
      "\u001b[2K   \u001b[38;2;114;156;31m━━━━━━━━━━━━━━━━━━━━━━━━━━━━━━━━━━━━━━━━\u001b[0m \u001b[32m13.0/13.0 MB\u001b[0m \u001b[31m1.5 MB/s\u001b[0m eta \u001b[36m0:00:00\u001b[0m[36m0:00:01\u001b[0mm eta \u001b[36m0:00:01\u001b[0m\n",
      "\u001b[?25hDownloading distro-1.9.0-py3-none-any.whl (20 kB)\n",
      "Downloading jiter-0.5.0-cp311-cp311-manylinux_2_17_x86_64.manylinux2014_x86_64.whl (319 kB)\n",
      "Downloading tzdata-2024.1-py2.py3-none-any.whl (345 kB)\n",
      "Installing collected packages: striprtf, dirtyjson, tzdata, jiter, distro, deprecated, tiktoken, pandas, openai, llama-cloud, llama-index-legacy, llama-index-core, llama-parse, llama-index-readers-file, llama-index-llms-openai, llama-index-indices-managed-llama-cloud, llama-index-embeddings-openai, llama-index-readers-llama-parse, llama-index-multi-modal-llms-openai, llama-index-cli, llama-index-agent-openai, llama-index-program-openai, llama-index-question-gen-openai, llama-index\n",
      "Successfully installed deprecated-1.2.14 dirtyjson-1.0.8 distro-1.9.0 jiter-0.5.0 llama-cloud-0.0.13 llama-index-0.10.65 llama-index-agent-openai-0.2.9 llama-index-cli-0.1.13 llama-index-core-0.10.65 llama-index-embeddings-openai-0.1.11 llama-index-indices-managed-llama-cloud-0.2.7 llama-index-legacy-0.9.48.post1 llama-index-llms-openai-0.1.29 llama-index-multi-modal-llms-openai-0.1.9 llama-index-program-openai-0.1.7 llama-index-question-gen-openai-0.1.3 llama-index-readers-file-0.1.33 llama-index-readers-llama-parse-0.1.6 llama-parse-0.4.9 openai-1.40.6 pandas-2.2.2 striprtf-0.0.26 tiktoken-0.7.0 tzdata-2024.1\n"
     ]
    }
   ],
   "source": [
    "!pip install llama-index"
   ]
  },
  {
   "cell_type": "code",
   "execution_count": 2,
   "id": "bc8f664e-5cc5-4417-8f80-d5878bc53275",
   "metadata": {},
   "outputs": [
    {
     "name": "stdout",
     "output_type": "stream",
     "text": [
      "Requirement already satisfied: llama-index-core in /home/nitish/anaconda3/envs/RAG/lib/python3.11/site-packages (0.10.65)\n",
      "Requirement already satisfied: llama-index-readers-file in /home/nitish/anaconda3/envs/RAG/lib/python3.11/site-packages (0.1.33)\n",
      "Collecting llama-index-llms-ollama\n",
      "  Downloading llama_index_llms_ollama-0.2.2-py3-none-any.whl.metadata (668 bytes)\n",
      "Collecting llama-index-embeddings-huggingface\n",
      "  Downloading llama_index_embeddings_huggingface-0.2.3-py3-none-any.whl.metadata (769 bytes)\n",
      "Requirement already satisfied: PyYAML>=6.0.1 in /home/nitish/anaconda3/envs/RAG/lib/python3.11/site-packages (from llama-index-core) (6.0.1)\n",
      "Requirement already satisfied: SQLAlchemy>=1.4.49 in /home/nitish/anaconda3/envs/RAG/lib/python3.11/site-packages (from SQLAlchemy[asyncio]>=1.4.49->llama-index-core) (2.0.32)\n",
      "Requirement already satisfied: aiohttp<4.0.0,>=3.8.6 in /home/nitish/anaconda3/envs/RAG/lib/python3.11/site-packages (from llama-index-core) (3.10.3)\n",
      "Requirement already satisfied: dataclasses-json in /home/nitish/anaconda3/envs/RAG/lib/python3.11/site-packages (from llama-index-core) (0.6.7)\n",
      "Requirement already satisfied: deprecated>=1.2.9.3 in /home/nitish/anaconda3/envs/RAG/lib/python3.11/site-packages (from llama-index-core) (1.2.14)\n",
      "Requirement already satisfied: dirtyjson<2.0.0,>=1.0.8 in /home/nitish/anaconda3/envs/RAG/lib/python3.11/site-packages (from llama-index-core) (1.0.8)\n",
      "Requirement already satisfied: fsspec>=2023.5.0 in /home/nitish/anaconda3/envs/RAG/lib/python3.11/site-packages (from llama-index-core) (2024.6.1)\n",
      "Requirement already satisfied: httpx in /home/nitish/anaconda3/envs/RAG/lib/python3.11/site-packages (from llama-index-core) (0.27.0)\n",
      "Requirement already satisfied: nest-asyncio<2.0.0,>=1.5.8 in /home/nitish/anaconda3/envs/RAG/lib/python3.11/site-packages (from llama-index-core) (1.6.0)\n",
      "Requirement already satisfied: networkx>=3.0 in /home/nitish/anaconda3/envs/RAG/lib/python3.11/site-packages (from llama-index-core) (3.3)\n",
      "Requirement already satisfied: nltk>=3.8.2 in /home/nitish/anaconda3/envs/RAG/lib/python3.11/site-packages (from llama-index-core) (3.8.2)\n",
      "Requirement already satisfied: numpy<2.0.0 in /home/nitish/anaconda3/envs/RAG/lib/python3.11/site-packages (from llama-index-core) (1.26.4)\n",
      "Requirement already satisfied: openai>=1.1.0 in /home/nitish/anaconda3/envs/RAG/lib/python3.11/site-packages (from llama-index-core) (1.40.6)\n",
      "Requirement already satisfied: pandas in /home/nitish/anaconda3/envs/RAG/lib/python3.11/site-packages (from llama-index-core) (2.2.2)\n",
      "Requirement already satisfied: pillow>=9.0.0 in /home/nitish/anaconda3/envs/RAG/lib/python3.11/site-packages (from llama-index-core) (10.4.0)\n",
      "Requirement already satisfied: requests>=2.31.0 in /home/nitish/anaconda3/envs/RAG/lib/python3.11/site-packages (from llama-index-core) (2.32.3)\n",
      "Requirement already satisfied: tenacity!=8.4.0,<9.0.0,>=8.2.0 in /home/nitish/anaconda3/envs/RAG/lib/python3.11/site-packages (from llama-index-core) (8.5.0)\n",
      "Requirement already satisfied: tiktoken>=0.3.3 in /home/nitish/anaconda3/envs/RAG/lib/python3.11/site-packages (from llama-index-core) (0.7.0)\n",
      "Requirement already satisfied: tqdm<5.0.0,>=4.66.1 in /home/nitish/anaconda3/envs/RAG/lib/python3.11/site-packages (from llama-index-core) (4.66.5)\n",
      "Requirement already satisfied: typing-extensions>=4.5.0 in /home/nitish/anaconda3/envs/RAG/lib/python3.11/site-packages (from llama-index-core) (4.11.0)\n",
      "Requirement already satisfied: typing-inspect>=0.8.0 in /home/nitish/anaconda3/envs/RAG/lib/python3.11/site-packages (from llama-index-core) (0.9.0)\n",
      "Requirement already satisfied: wrapt in /home/nitish/anaconda3/envs/RAG/lib/python3.11/site-packages (from llama-index-core) (1.16.0)\n",
      "Requirement already satisfied: beautifulsoup4<5.0.0,>=4.12.3 in /home/nitish/anaconda3/envs/RAG/lib/python3.11/site-packages (from llama-index-readers-file) (4.12.3)\n",
      "Requirement already satisfied: pypdf<5.0.0,>=4.0.1 in /home/nitish/anaconda3/envs/RAG/lib/python3.11/site-packages (from llama-index-readers-file) (4.3.1)\n",
      "Requirement already satisfied: striprtf<0.0.27,>=0.0.26 in /home/nitish/anaconda3/envs/RAG/lib/python3.11/site-packages (from llama-index-readers-file) (0.0.26)\n",
      "Collecting ollama>=0.3.0 (from llama-index-llms-ollama)\n",
      "  Downloading ollama-0.3.1-py3-none-any.whl.metadata (3.8 kB)\n",
      "Requirement already satisfied: huggingface-hub>=0.19.0 in /home/nitish/anaconda3/envs/RAG/lib/python3.11/site-packages (from huggingface-hub[inference]>=0.19.0->llama-index-embeddings-huggingface) (0.24.5)\n",
      "Requirement already satisfied: sentence-transformers>=2.6.1 in /home/nitish/anaconda3/envs/RAG/lib/python3.11/site-packages (from llama-index-embeddings-huggingface) (3.0.1)\n",
      "Requirement already satisfied: aiohappyeyeballs>=2.3.0 in /home/nitish/anaconda3/envs/RAG/lib/python3.11/site-packages (from aiohttp<4.0.0,>=3.8.6->llama-index-core) (2.3.5)\n",
      "Requirement already satisfied: aiosignal>=1.1.2 in /home/nitish/anaconda3/envs/RAG/lib/python3.11/site-packages (from aiohttp<4.0.0,>=3.8.6->llama-index-core) (1.3.1)\n",
      "Requirement already satisfied: attrs>=17.3.0 in /home/nitish/anaconda3/envs/RAG/lib/python3.11/site-packages (from aiohttp<4.0.0,>=3.8.6->llama-index-core) (23.1.0)\n",
      "Requirement already satisfied: frozenlist>=1.1.1 in /home/nitish/anaconda3/envs/RAG/lib/python3.11/site-packages (from aiohttp<4.0.0,>=3.8.6->llama-index-core) (1.4.1)\n",
      "Requirement already satisfied: multidict<7.0,>=4.5 in /home/nitish/anaconda3/envs/RAG/lib/python3.11/site-packages (from aiohttp<4.0.0,>=3.8.6->llama-index-core) (6.0.5)\n",
      "Requirement already satisfied: yarl<2.0,>=1.0 in /home/nitish/anaconda3/envs/RAG/lib/python3.11/site-packages (from aiohttp<4.0.0,>=3.8.6->llama-index-core) (1.9.4)\n",
      "Requirement already satisfied: soupsieve>1.2 in /home/nitish/anaconda3/envs/RAG/lib/python3.11/site-packages (from beautifulsoup4<5.0.0,>=4.12.3->llama-index-readers-file) (2.5)\n",
      "Requirement already satisfied: filelock in /home/nitish/anaconda3/envs/RAG/lib/python3.11/site-packages (from huggingface-hub>=0.19.0->huggingface-hub[inference]>=0.19.0->llama-index-embeddings-huggingface) (3.15.4)\n",
      "Requirement already satisfied: packaging>=20.9 in /home/nitish/anaconda3/envs/RAG/lib/python3.11/site-packages (from huggingface-hub>=0.19.0->huggingface-hub[inference]>=0.19.0->llama-index-embeddings-huggingface) (24.1)\n",
      "Collecting minijinja>=1.0 (from huggingface-hub[inference]>=0.19.0->llama-index-embeddings-huggingface)\n",
      "  Downloading minijinja-2.0.1-cp38-abi3-manylinux_2_17_x86_64.manylinux2014_x86_64.whl.metadata (8.8 kB)\n",
      "Requirement already satisfied: click in /home/nitish/anaconda3/envs/RAG/lib/python3.11/site-packages (from nltk>=3.8.2->llama-index-core) (8.1.7)\n",
      "Requirement already satisfied: joblib in /home/nitish/anaconda3/envs/RAG/lib/python3.11/site-packages (from nltk>=3.8.2->llama-index-core) (1.4.2)\n",
      "Requirement already satisfied: regex>=2021.8.3 in /home/nitish/anaconda3/envs/RAG/lib/python3.11/site-packages (from nltk>=3.8.2->llama-index-core) (2024.7.24)\n",
      "Requirement already satisfied: anyio in /home/nitish/anaconda3/envs/RAG/lib/python3.11/site-packages (from httpx->llama-index-core) (4.2.0)\n",
      "Requirement already satisfied: certifi in /home/nitish/anaconda3/envs/RAG/lib/python3.11/site-packages (from httpx->llama-index-core) (2024.7.4)\n",
      "Requirement already satisfied: httpcore==1.* in /home/nitish/anaconda3/envs/RAG/lib/python3.11/site-packages (from httpx->llama-index-core) (1.0.5)\n",
      "Requirement already satisfied: idna in /home/nitish/anaconda3/envs/RAG/lib/python3.11/site-packages (from httpx->llama-index-core) (3.7)\n",
      "Requirement already satisfied: sniffio in /home/nitish/anaconda3/envs/RAG/lib/python3.11/site-packages (from httpx->llama-index-core) (1.3.0)\n",
      "Requirement already satisfied: h11<0.15,>=0.13 in /home/nitish/anaconda3/envs/RAG/lib/python3.11/site-packages (from httpcore==1.*->httpx->llama-index-core) (0.14.0)\n",
      "Requirement already satisfied: distro<2,>=1.7.0 in /home/nitish/anaconda3/envs/RAG/lib/python3.11/site-packages (from openai>=1.1.0->llama-index-core) (1.9.0)\n",
      "Requirement already satisfied: jiter<1,>=0.4.0 in /home/nitish/anaconda3/envs/RAG/lib/python3.11/site-packages (from openai>=1.1.0->llama-index-core) (0.5.0)\n",
      "Requirement already satisfied: pydantic<3,>=1.9.0 in /home/nitish/anaconda3/envs/RAG/lib/python3.11/site-packages (from openai>=1.1.0->llama-index-core) (2.8.2)\n",
      "Requirement already satisfied: charset-normalizer<4,>=2 in /home/nitish/anaconda3/envs/RAG/lib/python3.11/site-packages (from requests>=2.31.0->llama-index-core) (3.3.2)\n",
      "Requirement already satisfied: urllib3<3,>=1.21.1 in /home/nitish/anaconda3/envs/RAG/lib/python3.11/site-packages (from requests>=2.31.0->llama-index-core) (2.2.2)\n",
      "Requirement already satisfied: transformers<5.0.0,>=4.34.0 in /home/nitish/anaconda3/envs/RAG/lib/python3.11/site-packages (from sentence-transformers>=2.6.1->llama-index-embeddings-huggingface) (4.44.0)\n",
      "Requirement already satisfied: torch>=1.11.0 in /home/nitish/anaconda3/envs/RAG/lib/python3.11/site-packages (from sentence-transformers>=2.6.1->llama-index-embeddings-huggingface) (2.4.0)\n",
      "Requirement already satisfied: scikit-learn in /home/nitish/anaconda3/envs/RAG/lib/python3.11/site-packages (from sentence-transformers>=2.6.1->llama-index-embeddings-huggingface) (1.5.1)\n",
      "Requirement already satisfied: scipy in /home/nitish/anaconda3/envs/RAG/lib/python3.11/site-packages (from sentence-transformers>=2.6.1->llama-index-embeddings-huggingface) (1.14.0)\n",
      "Requirement already satisfied: greenlet!=0.4.17 in /home/nitish/anaconda3/envs/RAG/lib/python3.11/site-packages (from SQLAlchemy>=1.4.49->SQLAlchemy[asyncio]>=1.4.49->llama-index-core) (3.0.3)\n",
      "Requirement already satisfied: mypy-extensions>=0.3.0 in /home/nitish/anaconda3/envs/RAG/lib/python3.11/site-packages (from typing-inspect>=0.8.0->llama-index-core) (1.0.0)\n",
      "Requirement already satisfied: marshmallow<4.0.0,>=3.18.0 in /home/nitish/anaconda3/envs/RAG/lib/python3.11/site-packages (from dataclasses-json->llama-index-core) (3.21.3)\n",
      "Requirement already satisfied: python-dateutil>=2.8.2 in /home/nitish/anaconda3/envs/RAG/lib/python3.11/site-packages (from pandas->llama-index-core) (2.9.0.post0)\n",
      "Requirement already satisfied: pytz>=2020.1 in /home/nitish/anaconda3/envs/RAG/lib/python3.11/site-packages (from pandas->llama-index-core) (2024.1)\n",
      "Requirement already satisfied: tzdata>=2022.7 in /home/nitish/anaconda3/envs/RAG/lib/python3.11/site-packages (from pandas->llama-index-core) (2024.1)\n",
      "Requirement already satisfied: annotated-types>=0.4.0 in /home/nitish/anaconda3/envs/RAG/lib/python3.11/site-packages (from pydantic<3,>=1.9.0->openai>=1.1.0->llama-index-core) (0.7.0)\n",
      "Requirement already satisfied: pydantic-core==2.20.1 in /home/nitish/anaconda3/envs/RAG/lib/python3.11/site-packages (from pydantic<3,>=1.9.0->openai>=1.1.0->llama-index-core) (2.20.1)\n",
      "Requirement already satisfied: six>=1.5 in /home/nitish/anaconda3/envs/RAG/lib/python3.11/site-packages (from python-dateutil>=2.8.2->pandas->llama-index-core) (1.16.0)\n",
      "Requirement already satisfied: sympy in /home/nitish/anaconda3/envs/RAG/lib/python3.11/site-packages (from torch>=1.11.0->sentence-transformers>=2.6.1->llama-index-embeddings-huggingface) (1.13.2)\n",
      "Requirement already satisfied: jinja2 in /home/nitish/anaconda3/envs/RAG/lib/python3.11/site-packages (from torch>=1.11.0->sentence-transformers>=2.6.1->llama-index-embeddings-huggingface) (3.1.4)\n",
      "Requirement already satisfied: nvidia-cuda-nvrtc-cu12==12.1.105 in /home/nitish/anaconda3/envs/RAG/lib/python3.11/site-packages (from torch>=1.11.0->sentence-transformers>=2.6.1->llama-index-embeddings-huggingface) (12.1.105)\n",
      "Requirement already satisfied: nvidia-cuda-runtime-cu12==12.1.105 in /home/nitish/anaconda3/envs/RAG/lib/python3.11/site-packages (from torch>=1.11.0->sentence-transformers>=2.6.1->llama-index-embeddings-huggingface) (12.1.105)\n",
      "Requirement already satisfied: nvidia-cuda-cupti-cu12==12.1.105 in /home/nitish/anaconda3/envs/RAG/lib/python3.11/site-packages (from torch>=1.11.0->sentence-transformers>=2.6.1->llama-index-embeddings-huggingface) (12.1.105)\n",
      "Requirement already satisfied: nvidia-cudnn-cu12==9.1.0.70 in /home/nitish/anaconda3/envs/RAG/lib/python3.11/site-packages (from torch>=1.11.0->sentence-transformers>=2.6.1->llama-index-embeddings-huggingface) (9.1.0.70)\n",
      "Requirement already satisfied: nvidia-cublas-cu12==12.1.3.1 in /home/nitish/anaconda3/envs/RAG/lib/python3.11/site-packages (from torch>=1.11.0->sentence-transformers>=2.6.1->llama-index-embeddings-huggingface) (12.1.3.1)\n",
      "Requirement already satisfied: nvidia-cufft-cu12==11.0.2.54 in /home/nitish/anaconda3/envs/RAG/lib/python3.11/site-packages (from torch>=1.11.0->sentence-transformers>=2.6.1->llama-index-embeddings-huggingface) (11.0.2.54)\n",
      "Requirement already satisfied: nvidia-curand-cu12==10.3.2.106 in /home/nitish/anaconda3/envs/RAG/lib/python3.11/site-packages (from torch>=1.11.0->sentence-transformers>=2.6.1->llama-index-embeddings-huggingface) (10.3.2.106)\n",
      "Requirement already satisfied: nvidia-cusolver-cu12==11.4.5.107 in /home/nitish/anaconda3/envs/RAG/lib/python3.11/site-packages (from torch>=1.11.0->sentence-transformers>=2.6.1->llama-index-embeddings-huggingface) (11.4.5.107)\n",
      "Requirement already satisfied: nvidia-cusparse-cu12==12.1.0.106 in /home/nitish/anaconda3/envs/RAG/lib/python3.11/site-packages (from torch>=1.11.0->sentence-transformers>=2.6.1->llama-index-embeddings-huggingface) (12.1.0.106)\n",
      "Requirement already satisfied: nvidia-nccl-cu12==2.20.5 in /home/nitish/anaconda3/envs/RAG/lib/python3.11/site-packages (from torch>=1.11.0->sentence-transformers>=2.6.1->llama-index-embeddings-huggingface) (2.20.5)\n",
      "Requirement already satisfied: nvidia-nvtx-cu12==12.1.105 in /home/nitish/anaconda3/envs/RAG/lib/python3.11/site-packages (from torch>=1.11.0->sentence-transformers>=2.6.1->llama-index-embeddings-huggingface) (12.1.105)\n",
      "Requirement already satisfied: triton==3.0.0 in /home/nitish/anaconda3/envs/RAG/lib/python3.11/site-packages (from torch>=1.11.0->sentence-transformers>=2.6.1->llama-index-embeddings-huggingface) (3.0.0)\n",
      "Requirement already satisfied: nvidia-nvjitlink-cu12 in /home/nitish/anaconda3/envs/RAG/lib/python3.11/site-packages (from nvidia-cusolver-cu12==11.4.5.107->torch>=1.11.0->sentence-transformers>=2.6.1->llama-index-embeddings-huggingface) (12.6.20)\n",
      "Requirement already satisfied: safetensors>=0.4.1 in /home/nitish/anaconda3/envs/RAG/lib/python3.11/site-packages (from transformers<5.0.0,>=4.34.0->sentence-transformers>=2.6.1->llama-index-embeddings-huggingface) (0.4.4)\n",
      "Requirement already satisfied: tokenizers<0.20,>=0.19 in /home/nitish/anaconda3/envs/RAG/lib/python3.11/site-packages (from transformers<5.0.0,>=4.34.0->sentence-transformers>=2.6.1->llama-index-embeddings-huggingface) (0.19.1)\n",
      "Requirement already satisfied: threadpoolctl>=3.1.0 in /home/nitish/anaconda3/envs/RAG/lib/python3.11/site-packages (from scikit-learn->sentence-transformers>=2.6.1->llama-index-embeddings-huggingface) (3.5.0)\n",
      "Requirement already satisfied: MarkupSafe>=2.0 in /home/nitish/anaconda3/envs/RAG/lib/python3.11/site-packages (from jinja2->torch>=1.11.0->sentence-transformers>=2.6.1->llama-index-embeddings-huggingface) (2.1.3)\n",
      "Requirement already satisfied: mpmath<1.4,>=1.1.0 in /home/nitish/anaconda3/envs/RAG/lib/python3.11/site-packages (from sympy->torch>=1.11.0->sentence-transformers>=2.6.1->llama-index-embeddings-huggingface) (1.3.0)\n",
      "Downloading llama_index_llms_ollama-0.2.2-py3-none-any.whl (4.4 kB)\n",
      "Downloading llama_index_embeddings_huggingface-0.2.3-py3-none-any.whl (8.6 kB)\n",
      "Downloading ollama-0.3.1-py3-none-any.whl (10 kB)\n",
      "Downloading minijinja-2.0.1-cp38-abi3-manylinux_2_17_x86_64.manylinux2014_x86_64.whl (853 kB)\n",
      "\u001b[2K   \u001b[38;2;114;156;31m━━━━━━━━━━━━━━━━━━━━━━━━━━━━━━━━━━━━━━━━\u001b[0m \u001b[32m853.2/853.2 kB\u001b[0m \u001b[31m2.2 MB/s\u001b[0m eta \u001b[36m0:00:00\u001b[0m[31m2.5 MB/s\u001b[0m eta \u001b[36m0:00:01\u001b[0m\n",
      "\u001b[?25hInstalling collected packages: minijinja, ollama, llama-index-llms-ollama, llama-index-embeddings-huggingface\n",
      "Successfully installed llama-index-embeddings-huggingface-0.2.3 llama-index-llms-ollama-0.2.2 minijinja-2.0.1 ollama-0.3.1\n"
     ]
    }
   ],
   "source": [
    "!pip install llama-index-core llama-index-readers-file llama-index-llms-ollama llama-index-embeddings-huggingface"
   ]
  },
  {
   "cell_type": "code",
   "execution_count": 82,
   "id": "51891828-804e-4f1e-8515-7a9036324919",
   "metadata": {},
   "outputs": [
    {
     "data": {
      "text/plain": [
       "True"
      ]
     },
     "execution_count": 82,
     "metadata": {},
     "output_type": "execute_result"
    }
   ],
   "source": [
    "from dotenv import load_dotenv\n",
    "import os\n",
    "load_dotenv()"
   ]
  },
  {
   "cell_type": "code",
   "execution_count": 83,
   "id": "ae85969c-4011-40b1-9cde-8ba159b7840d",
   "metadata": {},
   "outputs": [],
   "source": [
    "openai_api_key=os.getenv('OPENAI_API_KEY')"
   ]
  },
  {
   "cell_type": "code",
   "execution_count": 84,
   "id": "8c13c89e-90c6-40ca-9385-45ce3bb436f1",
   "metadata": {},
   "outputs": [],
   "source": [
    "from llama_index.llms.openai import OpenAI"
   ]
  },
  {
   "cell_type": "code",
   "execution_count": 51,
   "id": "54602f96-79a2-4562-a4d9-5552fb80f3d2",
   "metadata": {},
   "outputs": [
    {
     "name": "stdout",
     "output_type": "stream",
     "text": [
      "a computer scientist, entrepreneur, and venture capitalist. He is best known for co-founding the startup accelerator Y Combinator and for his work on Lisp, a programming language. Graham has also written several influential essays on startups, entrepreneurship, and technology.\n"
     ]
    }
   ],
   "source": [
    "response = OpenAI().complete(\"Paul Graham is \")\n",
    "print(response)"
   ]
  },
  {
   "cell_type": "code",
   "execution_count": 85,
   "id": "c565ef18-de97-401b-9726-e729297dd884",
   "metadata": {},
   "outputs": [],
   "source": [
    "from llama_index.llms.openai import OpenAI\n",
    "from llama_index.core import Settings\n",
    "from llama_index.core import VectorStoreIndex, SimpleDirectoryReader\n",
    "\n",
    "Settings.llm = OpenAI(temperature=0.2, model=\"gpt-3.5-turbo\")"
   ]
  },
  {
   "cell_type": "markdown",
   "id": "e0d326f2-e33e-4908-bad2-357a09e438f7",
   "metadata": {},
   "source": [
    "# Using a local LLM"
   ]
  },
  {
   "cell_type": "code",
   "execution_count": 86,
   "id": "338e8d49-a314-42b0-869e-281afc09c5ca",
   "metadata": {},
   "outputs": [],
   "source": [
    "# from llama_index.llms.ollama import Ollama\n",
    "# from llama_index.core import Settings\n",
    "\n",
    "# Settings.llm = Ollama(model=\"llama2\", request_timeout=60.0)"
   ]
  },
  {
   "cell_type": "markdown",
   "id": "055ba9e9-e7d6-45ef-8c42-808ac35d10e3",
   "metadata": {},
   "source": [
    "# Loading Data (Ingestion)"
   ]
  },
  {
   "cell_type": "markdown",
   "id": "943b4257-6813-4bf8-a32c-3367da188f8b",
   "metadata": {},
   "source": [
    "This ingestion pipeline typically consists of three main stages:\n",
    "\n",
    "Load the data\n",
    "\n",
    "\n",
    "Transform the data\n",
    "\n",
    "\n",
    "Index and store the data"
   ]
  },
  {
   "cell_type": "markdown",
   "id": "0a192bd2-69ab-4e89-beb3-0751c958fb6d",
   "metadata": {},
   "source": [
    "## Loaders"
   ]
  },
  {
   "cell_type": "markdown",
   "id": "ebcd14e4-edfe-4b0b-8c79-b9fd98139209",
   "metadata": {},
   "source": [
    "### 1. Loading using SimpleDirectoryReader"
   ]
  },
  {
   "cell_type": "markdown",
   "id": "b6a7a22f-da51-4225-8c5f-af24a6eb1f9c",
   "metadata": {},
   "source": [
    "The easiest reader to use is our SimpleDirectoryReader, which creates documents out of every file in a given directory. It is built in to LlamaIndex and can read a variety of formats including Markdown, PDFs, Word documents, PowerPoint decks, images, audio and video."
   ]
  },
  {
   "cell_type": "code",
   "execution_count": 87,
   "id": "f0b1ab01-13d3-4729-b7cc-0edc8f34a454",
   "metadata": {},
   "outputs": [],
   "source": [
    "from llama_index.core import SimpleDirectoryReader\n",
    "\n",
    "documents = SimpleDirectoryReader(\"./data\").load_data()"
   ]
  },
  {
   "cell_type": "markdown",
   "id": "4bef4840-1609-4f9c-b48f-a501a56fd81c",
   "metadata": {},
   "source": [
    "### 2.Using Readers from LlamaHub"
   ]
  },
  {
   "cell_type": "code",
   "execution_count": 22,
   "id": "8df8b929-4b7e-488e-b6b4-54bed716ba4a",
   "metadata": {},
   "outputs": [
    {
     "name": "stdout",
     "output_type": "stream",
     "text": [
      "Collecting llama-index-readers-database\n",
      "  Downloading llama_index_readers_database-0.1.4-py3-none-any.whl.metadata (1.9 kB)\n",
      "Requirement already satisfied: llama-index-core<0.11.0,>=0.10.1 in /home/nitish/anaconda3/envs/RAG/lib/python3.11/site-packages (from llama-index-readers-database) (0.10.65)\n",
      "Requirement already satisfied: PyYAML>=6.0.1 in /home/nitish/anaconda3/envs/RAG/lib/python3.11/site-packages (from llama-index-core<0.11.0,>=0.10.1->llama-index-readers-database) (6.0.1)\n",
      "Requirement already satisfied: SQLAlchemy>=1.4.49 in /home/nitish/anaconda3/envs/RAG/lib/python3.11/site-packages (from SQLAlchemy[asyncio]>=1.4.49->llama-index-core<0.11.0,>=0.10.1->llama-index-readers-database) (2.0.32)\n",
      "Requirement already satisfied: aiohttp<4.0.0,>=3.8.6 in /home/nitish/anaconda3/envs/RAG/lib/python3.11/site-packages (from llama-index-core<0.11.0,>=0.10.1->llama-index-readers-database) (3.10.3)\n",
      "Requirement already satisfied: dataclasses-json in /home/nitish/anaconda3/envs/RAG/lib/python3.11/site-packages (from llama-index-core<0.11.0,>=0.10.1->llama-index-readers-database) (0.6.7)\n",
      "Requirement already satisfied: deprecated>=1.2.9.3 in /home/nitish/anaconda3/envs/RAG/lib/python3.11/site-packages (from llama-index-core<0.11.0,>=0.10.1->llama-index-readers-database) (1.2.14)\n",
      "Requirement already satisfied: dirtyjson<2.0.0,>=1.0.8 in /home/nitish/anaconda3/envs/RAG/lib/python3.11/site-packages (from llama-index-core<0.11.0,>=0.10.1->llama-index-readers-database) (1.0.8)\n",
      "Requirement already satisfied: fsspec>=2023.5.0 in /home/nitish/anaconda3/envs/RAG/lib/python3.11/site-packages (from llama-index-core<0.11.0,>=0.10.1->llama-index-readers-database) (2024.6.1)\n",
      "Requirement already satisfied: httpx in /home/nitish/anaconda3/envs/RAG/lib/python3.11/site-packages (from llama-index-core<0.11.0,>=0.10.1->llama-index-readers-database) (0.27.0)\n",
      "Requirement already satisfied: nest-asyncio<2.0.0,>=1.5.8 in /home/nitish/anaconda3/envs/RAG/lib/python3.11/site-packages (from llama-index-core<0.11.0,>=0.10.1->llama-index-readers-database) (1.6.0)\n",
      "Requirement already satisfied: networkx>=3.0 in /home/nitish/anaconda3/envs/RAG/lib/python3.11/site-packages (from llama-index-core<0.11.0,>=0.10.1->llama-index-readers-database) (3.3)\n",
      "Requirement already satisfied: nltk>=3.8.2 in /home/nitish/anaconda3/envs/RAG/lib/python3.11/site-packages (from llama-index-core<0.11.0,>=0.10.1->llama-index-readers-database) (3.8.2)\n",
      "Requirement already satisfied: numpy<2.0.0 in /home/nitish/anaconda3/envs/RAG/lib/python3.11/site-packages (from llama-index-core<0.11.0,>=0.10.1->llama-index-readers-database) (1.26.4)\n",
      "Requirement already satisfied: openai>=1.1.0 in /home/nitish/anaconda3/envs/RAG/lib/python3.11/site-packages (from llama-index-core<0.11.0,>=0.10.1->llama-index-readers-database) (1.40.6)\n",
      "Requirement already satisfied: pandas in /home/nitish/anaconda3/envs/RAG/lib/python3.11/site-packages (from llama-index-core<0.11.0,>=0.10.1->llama-index-readers-database) (2.2.2)\n",
      "Requirement already satisfied: pillow>=9.0.0 in /home/nitish/anaconda3/envs/RAG/lib/python3.11/site-packages (from llama-index-core<0.11.0,>=0.10.1->llama-index-readers-database) (10.4.0)\n",
      "Requirement already satisfied: requests>=2.31.0 in /home/nitish/anaconda3/envs/RAG/lib/python3.11/site-packages (from llama-index-core<0.11.0,>=0.10.1->llama-index-readers-database) (2.32.3)\n",
      "Requirement already satisfied: tenacity!=8.4.0,<9.0.0,>=8.2.0 in /home/nitish/anaconda3/envs/RAG/lib/python3.11/site-packages (from llama-index-core<0.11.0,>=0.10.1->llama-index-readers-database) (8.5.0)\n",
      "Requirement already satisfied: tiktoken>=0.3.3 in /home/nitish/anaconda3/envs/RAG/lib/python3.11/site-packages (from llama-index-core<0.11.0,>=0.10.1->llama-index-readers-database) (0.7.0)\n",
      "Requirement already satisfied: tqdm<5.0.0,>=4.66.1 in /home/nitish/anaconda3/envs/RAG/lib/python3.11/site-packages (from llama-index-core<0.11.0,>=0.10.1->llama-index-readers-database) (4.66.5)\n",
      "Requirement already satisfied: typing-extensions>=4.5.0 in /home/nitish/anaconda3/envs/RAG/lib/python3.11/site-packages (from llama-index-core<0.11.0,>=0.10.1->llama-index-readers-database) (4.11.0)\n",
      "Requirement already satisfied: typing-inspect>=0.8.0 in /home/nitish/anaconda3/envs/RAG/lib/python3.11/site-packages (from llama-index-core<0.11.0,>=0.10.1->llama-index-readers-database) (0.9.0)\n",
      "Requirement already satisfied: wrapt in /home/nitish/anaconda3/envs/RAG/lib/python3.11/site-packages (from llama-index-core<0.11.0,>=0.10.1->llama-index-readers-database) (1.16.0)\n",
      "Requirement already satisfied: aiohappyeyeballs>=2.3.0 in /home/nitish/anaconda3/envs/RAG/lib/python3.11/site-packages (from aiohttp<4.0.0,>=3.8.6->llama-index-core<0.11.0,>=0.10.1->llama-index-readers-database) (2.3.5)\n",
      "Requirement already satisfied: aiosignal>=1.1.2 in /home/nitish/anaconda3/envs/RAG/lib/python3.11/site-packages (from aiohttp<4.0.0,>=3.8.6->llama-index-core<0.11.0,>=0.10.1->llama-index-readers-database) (1.3.1)\n",
      "Requirement already satisfied: attrs>=17.3.0 in /home/nitish/anaconda3/envs/RAG/lib/python3.11/site-packages (from aiohttp<4.0.0,>=3.8.6->llama-index-core<0.11.0,>=0.10.1->llama-index-readers-database) (23.1.0)\n",
      "Requirement already satisfied: frozenlist>=1.1.1 in /home/nitish/anaconda3/envs/RAG/lib/python3.11/site-packages (from aiohttp<4.0.0,>=3.8.6->llama-index-core<0.11.0,>=0.10.1->llama-index-readers-database) (1.4.1)\n",
      "Requirement already satisfied: multidict<7.0,>=4.5 in /home/nitish/anaconda3/envs/RAG/lib/python3.11/site-packages (from aiohttp<4.0.0,>=3.8.6->llama-index-core<0.11.0,>=0.10.1->llama-index-readers-database) (6.0.5)\n",
      "Requirement already satisfied: yarl<2.0,>=1.0 in /home/nitish/anaconda3/envs/RAG/lib/python3.11/site-packages (from aiohttp<4.0.0,>=3.8.6->llama-index-core<0.11.0,>=0.10.1->llama-index-readers-database) (1.9.4)\n",
      "Requirement already satisfied: click in /home/nitish/anaconda3/envs/RAG/lib/python3.11/site-packages (from nltk>=3.8.2->llama-index-core<0.11.0,>=0.10.1->llama-index-readers-database) (8.1.7)\n",
      "Requirement already satisfied: joblib in /home/nitish/anaconda3/envs/RAG/lib/python3.11/site-packages (from nltk>=3.8.2->llama-index-core<0.11.0,>=0.10.1->llama-index-readers-database) (1.4.2)\n",
      "Requirement already satisfied: regex>=2021.8.3 in /home/nitish/anaconda3/envs/RAG/lib/python3.11/site-packages (from nltk>=3.8.2->llama-index-core<0.11.0,>=0.10.1->llama-index-readers-database) (2024.7.24)\n",
      "Requirement already satisfied: anyio<5,>=3.5.0 in /home/nitish/anaconda3/envs/RAG/lib/python3.11/site-packages (from openai>=1.1.0->llama-index-core<0.11.0,>=0.10.1->llama-index-readers-database) (4.2.0)\n",
      "Requirement already satisfied: distro<2,>=1.7.0 in /home/nitish/anaconda3/envs/RAG/lib/python3.11/site-packages (from openai>=1.1.0->llama-index-core<0.11.0,>=0.10.1->llama-index-readers-database) (1.9.0)\n",
      "Requirement already satisfied: jiter<1,>=0.4.0 in /home/nitish/anaconda3/envs/RAG/lib/python3.11/site-packages (from openai>=1.1.0->llama-index-core<0.11.0,>=0.10.1->llama-index-readers-database) (0.5.0)\n",
      "Requirement already satisfied: pydantic<3,>=1.9.0 in /home/nitish/anaconda3/envs/RAG/lib/python3.11/site-packages (from openai>=1.1.0->llama-index-core<0.11.0,>=0.10.1->llama-index-readers-database) (2.8.2)\n",
      "Requirement already satisfied: sniffio in /home/nitish/anaconda3/envs/RAG/lib/python3.11/site-packages (from openai>=1.1.0->llama-index-core<0.11.0,>=0.10.1->llama-index-readers-database) (1.3.0)\n",
      "Requirement already satisfied: certifi in /home/nitish/anaconda3/envs/RAG/lib/python3.11/site-packages (from httpx->llama-index-core<0.11.0,>=0.10.1->llama-index-readers-database) (2024.7.4)\n",
      "Requirement already satisfied: httpcore==1.* in /home/nitish/anaconda3/envs/RAG/lib/python3.11/site-packages (from httpx->llama-index-core<0.11.0,>=0.10.1->llama-index-readers-database) (1.0.5)\n",
      "Requirement already satisfied: idna in /home/nitish/anaconda3/envs/RAG/lib/python3.11/site-packages (from httpx->llama-index-core<0.11.0,>=0.10.1->llama-index-readers-database) (3.7)\n",
      "Requirement already satisfied: h11<0.15,>=0.13 in /home/nitish/anaconda3/envs/RAG/lib/python3.11/site-packages (from httpcore==1.*->httpx->llama-index-core<0.11.0,>=0.10.1->llama-index-readers-database) (0.14.0)\n",
      "Requirement already satisfied: charset-normalizer<4,>=2 in /home/nitish/anaconda3/envs/RAG/lib/python3.11/site-packages (from requests>=2.31.0->llama-index-core<0.11.0,>=0.10.1->llama-index-readers-database) (3.3.2)\n",
      "Requirement already satisfied: urllib3<3,>=1.21.1 in /home/nitish/anaconda3/envs/RAG/lib/python3.11/site-packages (from requests>=2.31.0->llama-index-core<0.11.0,>=0.10.1->llama-index-readers-database) (2.2.2)\n",
      "Requirement already satisfied: greenlet!=0.4.17 in /home/nitish/anaconda3/envs/RAG/lib/python3.11/site-packages (from SQLAlchemy>=1.4.49->SQLAlchemy[asyncio]>=1.4.49->llama-index-core<0.11.0,>=0.10.1->llama-index-readers-database) (3.0.3)\n",
      "Requirement already satisfied: mypy-extensions>=0.3.0 in /home/nitish/anaconda3/envs/RAG/lib/python3.11/site-packages (from typing-inspect>=0.8.0->llama-index-core<0.11.0,>=0.10.1->llama-index-readers-database) (1.0.0)\n",
      "Requirement already satisfied: marshmallow<4.0.0,>=3.18.0 in /home/nitish/anaconda3/envs/RAG/lib/python3.11/site-packages (from dataclasses-json->llama-index-core<0.11.0,>=0.10.1->llama-index-readers-database) (3.21.3)\n",
      "Requirement already satisfied: python-dateutil>=2.8.2 in /home/nitish/anaconda3/envs/RAG/lib/python3.11/site-packages (from pandas->llama-index-core<0.11.0,>=0.10.1->llama-index-readers-database) (2.9.0.post0)\n",
      "Requirement already satisfied: pytz>=2020.1 in /home/nitish/anaconda3/envs/RAG/lib/python3.11/site-packages (from pandas->llama-index-core<0.11.0,>=0.10.1->llama-index-readers-database) (2024.1)\n",
      "Requirement already satisfied: tzdata>=2022.7 in /home/nitish/anaconda3/envs/RAG/lib/python3.11/site-packages (from pandas->llama-index-core<0.11.0,>=0.10.1->llama-index-readers-database) (2024.1)\n",
      "Requirement already satisfied: packaging>=17.0 in /home/nitish/anaconda3/envs/RAG/lib/python3.11/site-packages (from marshmallow<4.0.0,>=3.18.0->dataclasses-json->llama-index-core<0.11.0,>=0.10.1->llama-index-readers-database) (24.1)\n",
      "Requirement already satisfied: annotated-types>=0.4.0 in /home/nitish/anaconda3/envs/RAG/lib/python3.11/site-packages (from pydantic<3,>=1.9.0->openai>=1.1.0->llama-index-core<0.11.0,>=0.10.1->llama-index-readers-database) (0.7.0)\n",
      "Requirement already satisfied: pydantic-core==2.20.1 in /home/nitish/anaconda3/envs/RAG/lib/python3.11/site-packages (from pydantic<3,>=1.9.0->openai>=1.1.0->llama-index-core<0.11.0,>=0.10.1->llama-index-readers-database) (2.20.1)\n",
      "Requirement already satisfied: six>=1.5 in /home/nitish/anaconda3/envs/RAG/lib/python3.11/site-packages (from python-dateutil>=2.8.2->pandas->llama-index-core<0.11.0,>=0.10.1->llama-index-readers-database) (1.16.0)\n",
      "Downloading llama_index_readers_database-0.1.4-py3-none-any.whl (3.2 kB)\n",
      "Installing collected packages: llama-index-readers-database\n",
      "Successfully installed llama-index-readers-database-0.1.4\n"
     ]
    }
   ],
   "source": [
    "!pip install llama-index-readers-database"
   ]
  },
  {
   "cell_type": "code",
   "execution_count": 54,
   "id": "2347afaa-b764-4f32-b791-9b0aca7da8ab",
   "metadata": {},
   "outputs": [],
   "source": [
    "# from llama_index.core import download_loader\n",
    "\n",
    "# from llama_index.readers.database import DatabaseReader\n",
    "\n",
    "# reader = DatabaseReader(\n",
    "#     scheme=os.getenv(\"DB_SCHEME\"),\n",
    "#     host=os.getenv(\"DB_HOST\"),\n",
    "#     port=os.getenv(\"DB_PORT\"),\n",
    "#     user=os.getenv(\"DB_USER\"),\n",
    "#     password=os.getenv(\"DB_PASS\"),\n",
    "#     dbname=os.getenv(\"DB_NAME\"),\n",
    "# )\n",
    "\n",
    "# query = \"SELECT * FROM users\"\n",
    "# documents = reader.load_data(query=query)"
   ]
  },
  {
   "cell_type": "markdown",
   "id": "18bbdcb7-864c-4049-8a6f-7e7b57bff637",
   "metadata": {},
   "source": [
    "### 3.Creating Documents directly"
   ]
  },
  {
   "cell_type": "code",
   "execution_count": 88,
   "id": "2d6a7c78-cdeb-49c6-80b8-562b2d7ad3bd",
   "metadata": {},
   "outputs": [],
   "source": [
    "from llama_index.core import Document\n",
    "\n",
    "doc = Document(text=\"./data/state_of_the_union.txt\")"
   ]
  },
  {
   "cell_type": "markdown",
   "id": "8e86a2df-dd9e-4b01-bdb9-6c63171687e0",
   "metadata": {},
   "source": [
    "## Transformations"
   ]
  },
  {
   "cell_type": "markdown",
   "id": "8f39fedf-515e-467b-bb68-e2f12930cbab",
   "metadata": {},
   "source": [
    "### 1.High-Level Transformation API"
   ]
  },
  {
   "cell_type": "markdown",
   "id": "9b17c0c7-4f9a-43fc-9789-3d1ca5fbc191",
   "metadata": {},
   "source": [
    "Indexes have a .from_documents() method which accepts an array of Document objects and will correctly parse and chunk them up. However, sometimes you will want greater control over how your documents are split up."
   ]
  },
  {
   "cell_type": "code",
   "execution_count": 89,
   "id": "835669ba-9aae-4c78-bbfd-26542b74b9a0",
   "metadata": {},
   "outputs": [
    {
     "data": {
      "text/plain": [
       "<llama_index.core.query_engine.retriever_query_engine.RetrieverQueryEngine at 0x7654e2a10b10>"
      ]
     },
     "execution_count": 89,
     "metadata": {},
     "output_type": "execute_result"
    }
   ],
   "source": [
    "from llama_index.core import VectorStoreIndex\n",
    "\n",
    "vector_index = VectorStoreIndex.from_documents([doc])\n",
    "vector_index.as_query_engine()"
   ]
  },
  {
   "cell_type": "markdown",
   "id": "1d2c9865-b39e-43bf-9e37-d553ccb92330",
   "metadata": {},
   "source": [
    "If you want to customize core components, like the text splitter, through this abstraction you can pass in a custom transformations list or apply to the global Settings:\n",
    "\n",
    "\n"
   ]
  },
  {
   "cell_type": "code",
   "execution_count": 90,
   "id": "59d371e3-f105-4a60-a499-d2469bb4b773",
   "metadata": {},
   "outputs": [],
   "source": [
    "from llama_index.core.node_parser import SentenceSplitter\n",
    "\n",
    "text_splitter = SentenceSplitter(chunk_size=512, chunk_overlap=10)\n",
    "\n",
    "# global\n",
    "from llama_index.core import Settings\n",
    "\n",
    "Settings.text_splitter = text_splitter\n",
    "\n",
    "# per-index\n",
    "index = VectorStoreIndex.from_documents(\n",
    "    documents, transformations=[text_splitter]\n",
    ")"
   ]
  },
  {
   "cell_type": "markdown",
   "id": "ea72cc62-9347-40ea-9732-96b5524021c0",
   "metadata": {},
   "source": [
    "### 2.Lower-Level Transformation API"
   ]
  },
  {
   "cell_type": "markdown",
   "id": "3808cb06-0706-4363-9877-89509691d7fe",
   "metadata": {},
   "source": [
    "key step to process your documents is to split them into \"chunks\"/Node objects. The key idea is to process your data into bite-sized pieces that can be retrieved / fed to the LLM.\n",
    "\n",
    "LlamaIndex has support for a wide range of text splitters, ranging from paragraph/sentence/token based splitters to file-based splitters like HTML, JSON."
   ]
  },
  {
   "cell_type": "code",
   "execution_count": 91,
   "id": "087a42e9-1b93-45fa-9f90-eaec2b0f9972",
   "metadata": {},
   "outputs": [],
   "source": [
    "from llama_index.core import SimpleDirectoryReader\n",
    "from llama_index.core.ingestion import IngestionPipeline\n",
    "from llama_index.core.node_parser import TokenTextSplitter\n",
    "\n",
    "documents = SimpleDirectoryReader(\"./data\").load_data()\n",
    "\n",
    "pipeline = IngestionPipeline(transformations=[TokenTextSplitter()])\n",
    "\n",
    "nodes = pipeline.run(documents=documents)"
   ]
  },
  {
   "cell_type": "code",
   "execution_count": 92,
   "id": "07834755-42eb-4d30-bfbb-78181ade3149",
   "metadata": {},
   "outputs": [],
   "source": [
    "from llama_index.embeddings.openai import OpenAIEmbedding\n",
    "\n",
    "# global\n",
    "Settings.embed_model = OpenAIEmbedding()\n",
    "\n",
    "# per-index\n",
    "index = VectorStoreIndex.from_documents(documents, embed_model=OpenAIEmbedding())"
   ]
  },
  {
   "cell_type": "code",
   "execution_count": 44,
   "id": "796437ac-ce53-407b-8c44-44224e9ab66b",
   "metadata": {},
   "outputs": [],
   "source": [
    "# To save cost we can use huggingface embeddings also\n",
    "# !pip install llama-index-embeddings-huggingface"
   ]
  },
  {
   "cell_type": "code",
   "execution_count": 43,
   "id": "8ab2db0c-689f-4e71-952c-9db834484832",
   "metadata": {},
   "outputs": [],
   "source": [
    "# from llama_index.embeddings.huggingface import HuggingFaceEmbedding\n",
    "# from llama_index.core import Settings\n",
    "\n",
    "# Settings.embed_model = HuggingFaceEmbedding(\n",
    "#     model_name=\"BAAI/bge-small-en-v1.5\"\n",
    "# )"
   ]
  },
  {
   "cell_type": "markdown",
   "id": "413ee17e-c69b-4f74-af00-d2c4c18d6572",
   "metadata": {},
   "source": [
    "# Getting Started"
   ]
  },
  {
   "cell_type": "code",
   "execution_count": 93,
   "id": "47b8ff8c-b7ef-4de5-acfe-b0690638bc51",
   "metadata": {},
   "outputs": [],
   "source": [
    "from llama_index.core import VectorStoreIndex, SimpleDirectoryReader\n",
    "from llama_index.embeddings.openai import OpenAIEmbedding\n",
    "from llama_index.core import Settings\n",
    "\n",
    "# global default\n",
    "Settings.embed_model = OpenAIEmbedding()\n",
    "\n",
    "documents = SimpleDirectoryReader(\"./data\").load_data()\n",
    "\n",
    "index = VectorStoreIndex.from_documents(documents,embed_model=OpenAIEmbedding())"
   ]
  },
  {
   "cell_type": "code",
   "execution_count": 94,
   "id": "b097b201-ee39-4d96-941d-f10cc8aae1b9",
   "metadata": {},
   "outputs": [],
   "source": [
    "query_engine = index.as_query_engine()\n",
    "\n",
    "response = query_engine.query(\"What is attention ?\")"
   ]
  },
  {
   "cell_type": "code",
   "execution_count": 95,
   "id": "1690d609-71e0-41f5-8822-b2facb14a983",
   "metadata": {},
   "outputs": [
    {
     "data": {
      "text/plain": [
       "'Attention is a mechanism used in sequence transduction models that allows the model to focus on specific parts of the input sequence when generating the output sequence. It helps the model to weigh the importance of different input elements during the decoding process.'"
      ]
     },
     "execution_count": 95,
     "metadata": {},
     "output_type": "execute_result"
    }
   ],
   "source": [
    "response.response"
   ]
  },
  {
   "cell_type": "markdown",
   "id": "4241ac37-e9ca-424b-b29b-ebbc561963f7",
   "metadata": {},
   "source": [
    "# Storing"
   ]
  },
  {
   "cell_type": "markdown",
   "id": "60e65b7a-69ff-4943-bd2b-b061f6e073eb",
   "metadata": {},
   "source": [
    "Once you have data loaded and indexed, you will probably want to store it to avoid the time and cost of re-indexing it. By default, your indexed data is stored only in memory."
   ]
  },
  {
   "cell_type": "markdown",
   "id": "bd675a2f-1ba7-4fff-9391-656ad7e33617",
   "metadata": {},
   "source": [
    "## Persisting to disk"
   ]
  },
  {
   "cell_type": "code",
   "execution_count": 96,
   "id": "f10ef32e-ce39-4695-a83d-6f3ef3645af0",
   "metadata": {},
   "outputs": [],
   "source": [
    "index.storage_context.persist(persist_dir=\"./database\")"
   ]
  },
  {
   "cell_type": "markdown",
   "id": "a4fb8f0d-cb15-4bf8-80be-bb15b66e9590",
   "metadata": {},
   "source": [
    "The simplest way to store your indexed data is to use the built-in .persist() method of every Index, which writes all the data to disk at the location specified. This works for any type of index."
   ]
  },
  {
   "cell_type": "code",
   "execution_count": 97,
   "id": "484024ff-5e8c-4d47-9110-8958b1b6f3b3",
   "metadata": {},
   "outputs": [],
   "source": [
    "from llama_index.core import StorageContext, load_index_from_storage\n",
    "\n",
    "# rebuild storage context\n",
    "storage_context = StorageContext.from_defaults(persist_dir=\"./database\")\n",
    "\n",
    "# load index\n",
    "index = load_index_from_storage(storage_context)"
   ]
  },
  {
   "cell_type": "markdown",
   "id": "02d05a57-ef91-4fca-8529-a26409d8dfaf",
   "metadata": {},
   "source": [
    "**Important:** if you had initialized your index with a custom transformations, embed_model, etc., you will need to pass in the same options during load_index_from_storage, or have it set as the global settings.\n",
    "\n"
   ]
  },
  {
   "cell_type": "markdown",
   "id": "a9fca8e2-9cc0-4dcc-b9c6-f2be5abb0aa5",
   "metadata": {},
   "source": [
    "## Using Vector Stores"
   ]
  },
  {
   "cell_type": "markdown",
   "id": "d7c78a8a-830b-4c5f-b034-692a85669d7d",
   "metadata": {},
   "source": [
    "In indexing, one of the most common types of Index is the VectorStoreIndex. The API calls to create the embeddings in a VectorStoreIndex can be expensive in terms of time and money, so you will want to store them to avoid having to constantly re-index things.\n",
    "\n",
    "LlamaIndex supports a huge number of vector stores which vary in architecture, complexity and cost. In this example we'll be using Chroma, an open-source vector store."
   ]
  },
  {
   "cell_type": "code",
   "execution_count": 74,
   "id": "389de7ca-bc98-4b5e-b4eb-0051d77de775",
   "metadata": {},
   "outputs": [
    {
     "name": "stdout",
     "output_type": "stream",
     "text": [
      "Requirement already satisfied: chromadb in /home/nitish/anaconda3/envs/RAG/lib/python3.11/site-packages (0.5.5)\n",
      "Requirement already satisfied: build>=1.0.3 in /home/nitish/anaconda3/envs/RAG/lib/python3.11/site-packages (from chromadb) (1.2.1)\n",
      "Requirement already satisfied: pydantic>=1.9 in /home/nitish/anaconda3/envs/RAG/lib/python3.11/site-packages (from chromadb) (2.8.2)\n",
      "Requirement already satisfied: chroma-hnswlib==0.7.6 in /home/nitish/anaconda3/envs/RAG/lib/python3.11/site-packages (from chromadb) (0.7.6)\n",
      "Requirement already satisfied: fastapi>=0.95.2 in /home/nitish/anaconda3/envs/RAG/lib/python3.11/site-packages (from chromadb) (0.112.0)\n",
      "Requirement already satisfied: uvicorn>=0.18.3 in /home/nitish/anaconda3/envs/RAG/lib/python3.11/site-packages (from uvicorn[standard]>=0.18.3->chromadb) (0.30.6)\n",
      "Requirement already satisfied: numpy<2.0.0,>=1.22.5 in /home/nitish/anaconda3/envs/RAG/lib/python3.11/site-packages (from chromadb) (1.26.4)\n",
      "Requirement already satisfied: posthog>=2.4.0 in /home/nitish/anaconda3/envs/RAG/lib/python3.11/site-packages (from chromadb) (3.5.0)\n",
      "Requirement already satisfied: typing-extensions>=4.5.0 in /home/nitish/anaconda3/envs/RAG/lib/python3.11/site-packages (from chromadb) (4.11.0)\n",
      "Requirement already satisfied: onnxruntime>=1.14.1 in /home/nitish/anaconda3/envs/RAG/lib/python3.11/site-packages (from chromadb) (1.18.1)\n",
      "Requirement already satisfied: opentelemetry-api>=1.2.0 in /home/nitish/anaconda3/envs/RAG/lib/python3.11/site-packages (from chromadb) (1.26.0)\n",
      "Requirement already satisfied: opentelemetry-exporter-otlp-proto-grpc>=1.2.0 in /home/nitish/anaconda3/envs/RAG/lib/python3.11/site-packages (from chromadb) (1.26.0)\n",
      "Requirement already satisfied: opentelemetry-instrumentation-fastapi>=0.41b0 in /home/nitish/anaconda3/envs/RAG/lib/python3.11/site-packages (from chromadb) (0.47b0)\n",
      "Requirement already satisfied: opentelemetry-sdk>=1.2.0 in /home/nitish/anaconda3/envs/RAG/lib/python3.11/site-packages (from chromadb) (1.26.0)\n",
      "Requirement already satisfied: tokenizers>=0.13.2 in /home/nitish/anaconda3/envs/RAG/lib/python3.11/site-packages (from chromadb) (0.19.1)\n",
      "Requirement already satisfied: pypika>=0.48.9 in /home/nitish/anaconda3/envs/RAG/lib/python3.11/site-packages (from chromadb) (0.48.9)\n",
      "Requirement already satisfied: tqdm>=4.65.0 in /home/nitish/anaconda3/envs/RAG/lib/python3.11/site-packages (from chromadb) (4.66.5)\n",
      "Requirement already satisfied: overrides>=7.3.1 in /home/nitish/anaconda3/envs/RAG/lib/python3.11/site-packages (from chromadb) (7.4.0)\n",
      "Requirement already satisfied: importlib-resources in /home/nitish/anaconda3/envs/RAG/lib/python3.11/site-packages (from chromadb) (6.4.0)\n",
      "Requirement already satisfied: grpcio>=1.58.0 in /home/nitish/anaconda3/envs/RAG/lib/python3.11/site-packages (from chromadb) (1.65.4)\n",
      "Requirement already satisfied: bcrypt>=4.0.1 in /home/nitish/anaconda3/envs/RAG/lib/python3.11/site-packages (from chromadb) (4.2.0)\n",
      "Requirement already satisfied: typer>=0.9.0 in /home/nitish/anaconda3/envs/RAG/lib/python3.11/site-packages (from chromadb) (0.12.3)\n",
      "Requirement already satisfied: kubernetes>=28.1.0 in /home/nitish/anaconda3/envs/RAG/lib/python3.11/site-packages (from chromadb) (30.1.0)\n",
      "Requirement already satisfied: tenacity>=8.2.3 in /home/nitish/anaconda3/envs/RAG/lib/python3.11/site-packages (from chromadb) (8.5.0)\n",
      "Requirement already satisfied: PyYAML>=6.0.0 in /home/nitish/anaconda3/envs/RAG/lib/python3.11/site-packages (from chromadb) (6.0.1)\n",
      "Requirement already satisfied: mmh3>=4.0.1 in /home/nitish/anaconda3/envs/RAG/lib/python3.11/site-packages (from chromadb) (4.1.0)\n",
      "Requirement already satisfied: orjson>=3.9.12 in /home/nitish/anaconda3/envs/RAG/lib/python3.11/site-packages (from chromadb) (3.10.7)\n",
      "Requirement already satisfied: httpx>=0.27.0 in /home/nitish/anaconda3/envs/RAG/lib/python3.11/site-packages (from chromadb) (0.27.0)\n",
      "Requirement already satisfied: packaging>=19.1 in /home/nitish/anaconda3/envs/RAG/lib/python3.11/site-packages (from build>=1.0.3->chromadb) (24.1)\n",
      "Requirement already satisfied: pyproject_hooks in /home/nitish/anaconda3/envs/RAG/lib/python3.11/site-packages (from build>=1.0.3->chromadb) (1.1.0)\n",
      "Requirement already satisfied: starlette<0.38.0,>=0.37.2 in /home/nitish/anaconda3/envs/RAG/lib/python3.11/site-packages (from fastapi>=0.95.2->chromadb) (0.37.2)\n",
      "Requirement already satisfied: anyio in /home/nitish/anaconda3/envs/RAG/lib/python3.11/site-packages (from httpx>=0.27.0->chromadb) (4.2.0)\n",
      "Requirement already satisfied: certifi in /home/nitish/anaconda3/envs/RAG/lib/python3.11/site-packages (from httpx>=0.27.0->chromadb) (2024.7.4)\n",
      "Requirement already satisfied: httpcore==1.* in /home/nitish/anaconda3/envs/RAG/lib/python3.11/site-packages (from httpx>=0.27.0->chromadb) (1.0.5)\n",
      "Requirement already satisfied: idna in /home/nitish/anaconda3/envs/RAG/lib/python3.11/site-packages (from httpx>=0.27.0->chromadb) (3.7)\n",
      "Requirement already satisfied: sniffio in /home/nitish/anaconda3/envs/RAG/lib/python3.11/site-packages (from httpx>=0.27.0->chromadb) (1.3.0)\n",
      "Requirement already satisfied: h11<0.15,>=0.13 in /home/nitish/anaconda3/envs/RAG/lib/python3.11/site-packages (from httpcore==1.*->httpx>=0.27.0->chromadb) (0.14.0)\n",
      "Requirement already satisfied: six>=1.9.0 in /home/nitish/anaconda3/envs/RAG/lib/python3.11/site-packages (from kubernetes>=28.1.0->chromadb) (1.16.0)\n",
      "Requirement already satisfied: python-dateutil>=2.5.3 in /home/nitish/anaconda3/envs/RAG/lib/python3.11/site-packages (from kubernetes>=28.1.0->chromadb) (2.9.0.post0)\n",
      "Requirement already satisfied: google-auth>=1.0.1 in /home/nitish/anaconda3/envs/RAG/lib/python3.11/site-packages (from kubernetes>=28.1.0->chromadb) (2.33.0)\n",
      "Requirement already satisfied: websocket-client!=0.40.0,!=0.41.*,!=0.42.*,>=0.32.0 in /home/nitish/anaconda3/envs/RAG/lib/python3.11/site-packages (from kubernetes>=28.1.0->chromadb) (1.8.0)\n",
      "Requirement already satisfied: requests in /home/nitish/anaconda3/envs/RAG/lib/python3.11/site-packages (from kubernetes>=28.1.0->chromadb) (2.32.3)\n",
      "Requirement already satisfied: requests-oauthlib in /home/nitish/anaconda3/envs/RAG/lib/python3.11/site-packages (from kubernetes>=28.1.0->chromadb) (2.0.0)\n",
      "Requirement already satisfied: oauthlib>=3.2.2 in /home/nitish/anaconda3/envs/RAG/lib/python3.11/site-packages (from kubernetes>=28.1.0->chromadb) (3.2.2)\n",
      "Requirement already satisfied: urllib3>=1.24.2 in /home/nitish/anaconda3/envs/RAG/lib/python3.11/site-packages (from kubernetes>=28.1.0->chromadb) (2.2.2)\n",
      "Requirement already satisfied: coloredlogs in /home/nitish/anaconda3/envs/RAG/lib/python3.11/site-packages (from onnxruntime>=1.14.1->chromadb) (15.0.1)\n",
      "Requirement already satisfied: flatbuffers in /home/nitish/anaconda3/envs/RAG/lib/python3.11/site-packages (from onnxruntime>=1.14.1->chromadb) (24.3.25)\n",
      "Requirement already satisfied: protobuf in /home/nitish/anaconda3/envs/RAG/lib/python3.11/site-packages (from onnxruntime>=1.14.1->chromadb) (4.25.4)\n",
      "Requirement already satisfied: sympy in /home/nitish/anaconda3/envs/RAG/lib/python3.11/site-packages (from onnxruntime>=1.14.1->chromadb) (1.13.2)\n",
      "Requirement already satisfied: deprecated>=1.2.6 in /home/nitish/anaconda3/envs/RAG/lib/python3.11/site-packages (from opentelemetry-api>=1.2.0->chromadb) (1.2.14)\n",
      "Requirement already satisfied: importlib-metadata<=8.0.0,>=6.0 in /home/nitish/anaconda3/envs/RAG/lib/python3.11/site-packages (from opentelemetry-api>=1.2.0->chromadb) (8.0.0)\n",
      "Requirement already satisfied: googleapis-common-protos~=1.52 in /home/nitish/anaconda3/envs/RAG/lib/python3.11/site-packages (from opentelemetry-exporter-otlp-proto-grpc>=1.2.0->chromadb) (1.63.2)\n",
      "Requirement already satisfied: opentelemetry-exporter-otlp-proto-common==1.26.0 in /home/nitish/anaconda3/envs/RAG/lib/python3.11/site-packages (from opentelemetry-exporter-otlp-proto-grpc>=1.2.0->chromadb) (1.26.0)\n",
      "Requirement already satisfied: opentelemetry-proto==1.26.0 in /home/nitish/anaconda3/envs/RAG/lib/python3.11/site-packages (from opentelemetry-exporter-otlp-proto-grpc>=1.2.0->chromadb) (1.26.0)\n",
      "Requirement already satisfied: opentelemetry-instrumentation-asgi==0.47b0 in /home/nitish/anaconda3/envs/RAG/lib/python3.11/site-packages (from opentelemetry-instrumentation-fastapi>=0.41b0->chromadb) (0.47b0)\n",
      "Requirement already satisfied: opentelemetry-instrumentation==0.47b0 in /home/nitish/anaconda3/envs/RAG/lib/python3.11/site-packages (from opentelemetry-instrumentation-fastapi>=0.41b0->chromadb) (0.47b0)\n",
      "Requirement already satisfied: opentelemetry-semantic-conventions==0.47b0 in /home/nitish/anaconda3/envs/RAG/lib/python3.11/site-packages (from opentelemetry-instrumentation-fastapi>=0.41b0->chromadb) (0.47b0)\n",
      "Requirement already satisfied: opentelemetry-util-http==0.47b0 in /home/nitish/anaconda3/envs/RAG/lib/python3.11/site-packages (from opentelemetry-instrumentation-fastapi>=0.41b0->chromadb) (0.47b0)\n",
      "Requirement already satisfied: setuptools>=16.0 in /home/nitish/anaconda3/envs/RAG/lib/python3.11/site-packages (from opentelemetry-instrumentation==0.47b0->opentelemetry-instrumentation-fastapi>=0.41b0->chromadb) (72.1.0)\n",
      "Requirement already satisfied: wrapt<2.0.0,>=1.0.0 in /home/nitish/anaconda3/envs/RAG/lib/python3.11/site-packages (from opentelemetry-instrumentation==0.47b0->opentelemetry-instrumentation-fastapi>=0.41b0->chromadb) (1.16.0)\n",
      "Requirement already satisfied: asgiref~=3.0 in /home/nitish/anaconda3/envs/RAG/lib/python3.11/site-packages (from opentelemetry-instrumentation-asgi==0.47b0->opentelemetry-instrumentation-fastapi>=0.41b0->chromadb) (3.8.1)\n",
      "Requirement already satisfied: monotonic>=1.5 in /home/nitish/anaconda3/envs/RAG/lib/python3.11/site-packages (from posthog>=2.4.0->chromadb) (1.6)\n",
      "Requirement already satisfied: backoff>=1.10.0 in /home/nitish/anaconda3/envs/RAG/lib/python3.11/site-packages (from posthog>=2.4.0->chromadb) (2.2.1)\n",
      "Requirement already satisfied: annotated-types>=0.4.0 in /home/nitish/anaconda3/envs/RAG/lib/python3.11/site-packages (from pydantic>=1.9->chromadb) (0.7.0)\n",
      "Requirement already satisfied: pydantic-core==2.20.1 in /home/nitish/anaconda3/envs/RAG/lib/python3.11/site-packages (from pydantic>=1.9->chromadb) (2.20.1)\n",
      "Requirement already satisfied: huggingface-hub<1.0,>=0.16.4 in /home/nitish/anaconda3/envs/RAG/lib/python3.11/site-packages (from tokenizers>=0.13.2->chromadb) (0.24.5)\n",
      "Requirement already satisfied: click>=8.0.0 in /home/nitish/anaconda3/envs/RAG/lib/python3.11/site-packages (from typer>=0.9.0->chromadb) (8.1.7)\n",
      "Requirement already satisfied: shellingham>=1.3.0 in /home/nitish/anaconda3/envs/RAG/lib/python3.11/site-packages (from typer>=0.9.0->chromadb) (1.5.4)\n",
      "Requirement already satisfied: rich>=10.11.0 in /home/nitish/anaconda3/envs/RAG/lib/python3.11/site-packages (from typer>=0.9.0->chromadb) (13.7.1)\n",
      "Requirement already satisfied: httptools>=0.5.0 in /home/nitish/anaconda3/envs/RAG/lib/python3.11/site-packages (from uvicorn[standard]>=0.18.3->chromadb) (0.6.1)\n",
      "Requirement already satisfied: python-dotenv>=0.13 in /home/nitish/anaconda3/envs/RAG/lib/python3.11/site-packages (from uvicorn[standard]>=0.18.3->chromadb) (1.0.1)\n",
      "Requirement already satisfied: uvloop!=0.15.0,!=0.15.1,>=0.14.0 in /home/nitish/anaconda3/envs/RAG/lib/python3.11/site-packages (from uvicorn[standard]>=0.18.3->chromadb) (0.19.0)\n",
      "Requirement already satisfied: watchfiles>=0.13 in /home/nitish/anaconda3/envs/RAG/lib/python3.11/site-packages (from uvicorn[standard]>=0.18.3->chromadb) (0.23.0)\n",
      "Requirement already satisfied: websockets>=10.4 in /home/nitish/anaconda3/envs/RAG/lib/python3.11/site-packages (from uvicorn[standard]>=0.18.3->chromadb) (12.0)\n",
      "Requirement already satisfied: cachetools<6.0,>=2.0.0 in /home/nitish/anaconda3/envs/RAG/lib/python3.11/site-packages (from google-auth>=1.0.1->kubernetes>=28.1.0->chromadb) (5.4.0)\n",
      "Requirement already satisfied: pyasn1-modules>=0.2.1 in /home/nitish/anaconda3/envs/RAG/lib/python3.11/site-packages (from google-auth>=1.0.1->kubernetes>=28.1.0->chromadb) (0.4.0)\n",
      "Requirement already satisfied: rsa<5,>=3.1.4 in /home/nitish/anaconda3/envs/RAG/lib/python3.11/site-packages (from google-auth>=1.0.1->kubernetes>=28.1.0->chromadb) (4.9)\n",
      "Requirement already satisfied: filelock in /home/nitish/anaconda3/envs/RAG/lib/python3.11/site-packages (from huggingface-hub<1.0,>=0.16.4->tokenizers>=0.13.2->chromadb) (3.15.4)\n",
      "Requirement already satisfied: fsspec>=2023.5.0 in /home/nitish/anaconda3/envs/RAG/lib/python3.11/site-packages (from huggingface-hub<1.0,>=0.16.4->tokenizers>=0.13.2->chromadb) (2024.6.1)\n",
      "Requirement already satisfied: zipp>=0.5 in /home/nitish/anaconda3/envs/RAG/lib/python3.11/site-packages (from importlib-metadata<=8.0.0,>=6.0->opentelemetry-api>=1.2.0->chromadb) (3.20.0)\n",
      "Requirement already satisfied: charset-normalizer<4,>=2 in /home/nitish/anaconda3/envs/RAG/lib/python3.11/site-packages (from requests->kubernetes>=28.1.0->chromadb) (3.3.2)\n",
      "Requirement already satisfied: markdown-it-py>=2.2.0 in /home/nitish/anaconda3/envs/RAG/lib/python3.11/site-packages (from rich>=10.11.0->typer>=0.9.0->chromadb) (3.0.0)\n",
      "Requirement already satisfied: pygments<3.0.0,>=2.13.0 in /home/nitish/anaconda3/envs/RAG/lib/python3.11/site-packages (from rich>=10.11.0->typer>=0.9.0->chromadb) (2.15.1)\n",
      "Requirement already satisfied: humanfriendly>=9.1 in /home/nitish/anaconda3/envs/RAG/lib/python3.11/site-packages (from coloredlogs->onnxruntime>=1.14.1->chromadb) (10.0)\n",
      "Requirement already satisfied: mpmath<1.4,>=1.1.0 in /home/nitish/anaconda3/envs/RAG/lib/python3.11/site-packages (from sympy->onnxruntime>=1.14.1->chromadb) (1.3.0)\n",
      "Requirement already satisfied: mdurl~=0.1 in /home/nitish/anaconda3/envs/RAG/lib/python3.11/site-packages (from markdown-it-py>=2.2.0->rich>=10.11.0->typer>=0.9.0->chromadb) (0.1.2)\n",
      "Requirement already satisfied: pyasn1<0.7.0,>=0.4.6 in /home/nitish/anaconda3/envs/RAG/lib/python3.11/site-packages (from pyasn1-modules>=0.2.1->google-auth>=1.0.1->kubernetes>=28.1.0->chromadb) (0.6.0)\n"
     ]
    }
   ],
   "source": [
    "!pip install chromadb"
   ]
  },
  {
   "cell_type": "code",
   "execution_count": 76,
   "id": "e471e2a1-0f4f-4524-9f95-8049c8366dce",
   "metadata": {},
   "outputs": [
    {
     "name": "stdout",
     "output_type": "stream",
     "text": [
      "Collecting llama-index-vector-stores-chroma\n",
      "  Downloading llama_index_vector_stores_chroma-0.1.10-py3-none-any.whl.metadata (705 bytes)\n",
      "Requirement already satisfied: chromadb<0.6.0,>=0.4.0 in /home/nitish/anaconda3/envs/RAG/lib/python3.11/site-packages (from llama-index-vector-stores-chroma) (0.5.5)\n",
      "Requirement already satisfied: llama-index-core<0.11.0,>=0.10.1 in /home/nitish/anaconda3/envs/RAG/lib/python3.11/site-packages (from llama-index-vector-stores-chroma) (0.10.65)\n",
      "Requirement already satisfied: build>=1.0.3 in /home/nitish/anaconda3/envs/RAG/lib/python3.11/site-packages (from chromadb<0.6.0,>=0.4.0->llama-index-vector-stores-chroma) (1.2.1)\n",
      "Requirement already satisfied: pydantic>=1.9 in /home/nitish/anaconda3/envs/RAG/lib/python3.11/site-packages (from chromadb<0.6.0,>=0.4.0->llama-index-vector-stores-chroma) (2.8.2)\n",
      "Requirement already satisfied: chroma-hnswlib==0.7.6 in /home/nitish/anaconda3/envs/RAG/lib/python3.11/site-packages (from chromadb<0.6.0,>=0.4.0->llama-index-vector-stores-chroma) (0.7.6)\n",
      "Requirement already satisfied: fastapi>=0.95.2 in /home/nitish/anaconda3/envs/RAG/lib/python3.11/site-packages (from chromadb<0.6.0,>=0.4.0->llama-index-vector-stores-chroma) (0.112.0)\n",
      "Requirement already satisfied: uvicorn>=0.18.3 in /home/nitish/anaconda3/envs/RAG/lib/python3.11/site-packages (from uvicorn[standard]>=0.18.3->chromadb<0.6.0,>=0.4.0->llama-index-vector-stores-chroma) (0.30.6)\n",
      "Requirement already satisfied: numpy<2.0.0,>=1.22.5 in /home/nitish/anaconda3/envs/RAG/lib/python3.11/site-packages (from chromadb<0.6.0,>=0.4.0->llama-index-vector-stores-chroma) (1.26.4)\n",
      "Requirement already satisfied: posthog>=2.4.0 in /home/nitish/anaconda3/envs/RAG/lib/python3.11/site-packages (from chromadb<0.6.0,>=0.4.0->llama-index-vector-stores-chroma) (3.5.0)\n",
      "Requirement already satisfied: typing-extensions>=4.5.0 in /home/nitish/anaconda3/envs/RAG/lib/python3.11/site-packages (from chromadb<0.6.0,>=0.4.0->llama-index-vector-stores-chroma) (4.11.0)\n",
      "Requirement already satisfied: onnxruntime>=1.14.1 in /home/nitish/anaconda3/envs/RAG/lib/python3.11/site-packages (from chromadb<0.6.0,>=0.4.0->llama-index-vector-stores-chroma) (1.18.1)\n",
      "Requirement already satisfied: opentelemetry-api>=1.2.0 in /home/nitish/anaconda3/envs/RAG/lib/python3.11/site-packages (from chromadb<0.6.0,>=0.4.0->llama-index-vector-stores-chroma) (1.26.0)\n",
      "Requirement already satisfied: opentelemetry-exporter-otlp-proto-grpc>=1.2.0 in /home/nitish/anaconda3/envs/RAG/lib/python3.11/site-packages (from chromadb<0.6.0,>=0.4.0->llama-index-vector-stores-chroma) (1.26.0)\n",
      "Requirement already satisfied: opentelemetry-instrumentation-fastapi>=0.41b0 in /home/nitish/anaconda3/envs/RAG/lib/python3.11/site-packages (from chromadb<0.6.0,>=0.4.0->llama-index-vector-stores-chroma) (0.47b0)\n",
      "Requirement already satisfied: opentelemetry-sdk>=1.2.0 in /home/nitish/anaconda3/envs/RAG/lib/python3.11/site-packages (from chromadb<0.6.0,>=0.4.0->llama-index-vector-stores-chroma) (1.26.0)\n",
      "Requirement already satisfied: tokenizers>=0.13.2 in /home/nitish/anaconda3/envs/RAG/lib/python3.11/site-packages (from chromadb<0.6.0,>=0.4.0->llama-index-vector-stores-chroma) (0.19.1)\n",
      "Requirement already satisfied: pypika>=0.48.9 in /home/nitish/anaconda3/envs/RAG/lib/python3.11/site-packages (from chromadb<0.6.0,>=0.4.0->llama-index-vector-stores-chroma) (0.48.9)\n",
      "Requirement already satisfied: tqdm>=4.65.0 in /home/nitish/anaconda3/envs/RAG/lib/python3.11/site-packages (from chromadb<0.6.0,>=0.4.0->llama-index-vector-stores-chroma) (4.66.5)\n",
      "Requirement already satisfied: overrides>=7.3.1 in /home/nitish/anaconda3/envs/RAG/lib/python3.11/site-packages (from chromadb<0.6.0,>=0.4.0->llama-index-vector-stores-chroma) (7.4.0)\n",
      "Requirement already satisfied: importlib-resources in /home/nitish/anaconda3/envs/RAG/lib/python3.11/site-packages (from chromadb<0.6.0,>=0.4.0->llama-index-vector-stores-chroma) (6.4.0)\n",
      "Requirement already satisfied: grpcio>=1.58.0 in /home/nitish/anaconda3/envs/RAG/lib/python3.11/site-packages (from chromadb<0.6.0,>=0.4.0->llama-index-vector-stores-chroma) (1.65.4)\n",
      "Requirement already satisfied: bcrypt>=4.0.1 in /home/nitish/anaconda3/envs/RAG/lib/python3.11/site-packages (from chromadb<0.6.0,>=0.4.0->llama-index-vector-stores-chroma) (4.2.0)\n",
      "Requirement already satisfied: typer>=0.9.0 in /home/nitish/anaconda3/envs/RAG/lib/python3.11/site-packages (from chromadb<0.6.0,>=0.4.0->llama-index-vector-stores-chroma) (0.12.3)\n",
      "Requirement already satisfied: kubernetes>=28.1.0 in /home/nitish/anaconda3/envs/RAG/lib/python3.11/site-packages (from chromadb<0.6.0,>=0.4.0->llama-index-vector-stores-chroma) (30.1.0)\n",
      "Requirement already satisfied: tenacity>=8.2.3 in /home/nitish/anaconda3/envs/RAG/lib/python3.11/site-packages (from chromadb<0.6.0,>=0.4.0->llama-index-vector-stores-chroma) (8.5.0)\n",
      "Requirement already satisfied: PyYAML>=6.0.0 in /home/nitish/anaconda3/envs/RAG/lib/python3.11/site-packages (from chromadb<0.6.0,>=0.4.0->llama-index-vector-stores-chroma) (6.0.1)\n",
      "Requirement already satisfied: mmh3>=4.0.1 in /home/nitish/anaconda3/envs/RAG/lib/python3.11/site-packages (from chromadb<0.6.0,>=0.4.0->llama-index-vector-stores-chroma) (4.1.0)\n",
      "Requirement already satisfied: orjson>=3.9.12 in /home/nitish/anaconda3/envs/RAG/lib/python3.11/site-packages (from chromadb<0.6.0,>=0.4.0->llama-index-vector-stores-chroma) (3.10.7)\n",
      "Requirement already satisfied: httpx>=0.27.0 in /home/nitish/anaconda3/envs/RAG/lib/python3.11/site-packages (from chromadb<0.6.0,>=0.4.0->llama-index-vector-stores-chroma) (0.27.0)\n",
      "Requirement already satisfied: SQLAlchemy>=1.4.49 in /home/nitish/anaconda3/envs/RAG/lib/python3.11/site-packages (from SQLAlchemy[asyncio]>=1.4.49->llama-index-core<0.11.0,>=0.10.1->llama-index-vector-stores-chroma) (2.0.32)\n",
      "Requirement already satisfied: aiohttp<4.0.0,>=3.8.6 in /home/nitish/anaconda3/envs/RAG/lib/python3.11/site-packages (from llama-index-core<0.11.0,>=0.10.1->llama-index-vector-stores-chroma) (3.10.3)\n",
      "Requirement already satisfied: dataclasses-json in /home/nitish/anaconda3/envs/RAG/lib/python3.11/site-packages (from llama-index-core<0.11.0,>=0.10.1->llama-index-vector-stores-chroma) (0.6.7)\n",
      "Requirement already satisfied: deprecated>=1.2.9.3 in /home/nitish/anaconda3/envs/RAG/lib/python3.11/site-packages (from llama-index-core<0.11.0,>=0.10.1->llama-index-vector-stores-chroma) (1.2.14)\n",
      "Requirement already satisfied: dirtyjson<2.0.0,>=1.0.8 in /home/nitish/anaconda3/envs/RAG/lib/python3.11/site-packages (from llama-index-core<0.11.0,>=0.10.1->llama-index-vector-stores-chroma) (1.0.8)\n",
      "Requirement already satisfied: fsspec>=2023.5.0 in /home/nitish/anaconda3/envs/RAG/lib/python3.11/site-packages (from llama-index-core<0.11.0,>=0.10.1->llama-index-vector-stores-chroma) (2024.6.1)\n",
      "Requirement already satisfied: nest-asyncio<2.0.0,>=1.5.8 in /home/nitish/anaconda3/envs/RAG/lib/python3.11/site-packages (from llama-index-core<0.11.0,>=0.10.1->llama-index-vector-stores-chroma) (1.6.0)\n",
      "Requirement already satisfied: networkx>=3.0 in /home/nitish/anaconda3/envs/RAG/lib/python3.11/site-packages (from llama-index-core<0.11.0,>=0.10.1->llama-index-vector-stores-chroma) (3.3)\n",
      "Requirement already satisfied: nltk>=3.8.2 in /home/nitish/anaconda3/envs/RAG/lib/python3.11/site-packages (from llama-index-core<0.11.0,>=0.10.1->llama-index-vector-stores-chroma) (3.8.2)\n",
      "Requirement already satisfied: openai>=1.1.0 in /home/nitish/anaconda3/envs/RAG/lib/python3.11/site-packages (from llama-index-core<0.11.0,>=0.10.1->llama-index-vector-stores-chroma) (1.40.6)\n",
      "Requirement already satisfied: pandas in /home/nitish/anaconda3/envs/RAG/lib/python3.11/site-packages (from llama-index-core<0.11.0,>=0.10.1->llama-index-vector-stores-chroma) (2.2.2)\n",
      "Requirement already satisfied: pillow>=9.0.0 in /home/nitish/anaconda3/envs/RAG/lib/python3.11/site-packages (from llama-index-core<0.11.0,>=0.10.1->llama-index-vector-stores-chroma) (10.4.0)\n",
      "Requirement already satisfied: requests>=2.31.0 in /home/nitish/anaconda3/envs/RAG/lib/python3.11/site-packages (from llama-index-core<0.11.0,>=0.10.1->llama-index-vector-stores-chroma) (2.32.3)\n",
      "Requirement already satisfied: tiktoken>=0.3.3 in /home/nitish/anaconda3/envs/RAG/lib/python3.11/site-packages (from llama-index-core<0.11.0,>=0.10.1->llama-index-vector-stores-chroma) (0.7.0)\n",
      "Requirement already satisfied: typing-inspect>=0.8.0 in /home/nitish/anaconda3/envs/RAG/lib/python3.11/site-packages (from llama-index-core<0.11.0,>=0.10.1->llama-index-vector-stores-chroma) (0.9.0)\n",
      "Requirement already satisfied: wrapt in /home/nitish/anaconda3/envs/RAG/lib/python3.11/site-packages (from llama-index-core<0.11.0,>=0.10.1->llama-index-vector-stores-chroma) (1.16.0)\n",
      "Requirement already satisfied: aiohappyeyeballs>=2.3.0 in /home/nitish/anaconda3/envs/RAG/lib/python3.11/site-packages (from aiohttp<4.0.0,>=3.8.6->llama-index-core<0.11.0,>=0.10.1->llama-index-vector-stores-chroma) (2.3.5)\n",
      "Requirement already satisfied: aiosignal>=1.1.2 in /home/nitish/anaconda3/envs/RAG/lib/python3.11/site-packages (from aiohttp<4.0.0,>=3.8.6->llama-index-core<0.11.0,>=0.10.1->llama-index-vector-stores-chroma) (1.3.1)\n",
      "Requirement already satisfied: attrs>=17.3.0 in /home/nitish/anaconda3/envs/RAG/lib/python3.11/site-packages (from aiohttp<4.0.0,>=3.8.6->llama-index-core<0.11.0,>=0.10.1->llama-index-vector-stores-chroma) (23.1.0)\n",
      "Requirement already satisfied: frozenlist>=1.1.1 in /home/nitish/anaconda3/envs/RAG/lib/python3.11/site-packages (from aiohttp<4.0.0,>=3.8.6->llama-index-core<0.11.0,>=0.10.1->llama-index-vector-stores-chroma) (1.4.1)\n",
      "Requirement already satisfied: multidict<7.0,>=4.5 in /home/nitish/anaconda3/envs/RAG/lib/python3.11/site-packages (from aiohttp<4.0.0,>=3.8.6->llama-index-core<0.11.0,>=0.10.1->llama-index-vector-stores-chroma) (6.0.5)\n",
      "Requirement already satisfied: yarl<2.0,>=1.0 in /home/nitish/anaconda3/envs/RAG/lib/python3.11/site-packages (from aiohttp<4.0.0,>=3.8.6->llama-index-core<0.11.0,>=0.10.1->llama-index-vector-stores-chroma) (1.9.4)\n",
      "Requirement already satisfied: packaging>=19.1 in /home/nitish/anaconda3/envs/RAG/lib/python3.11/site-packages (from build>=1.0.3->chromadb<0.6.0,>=0.4.0->llama-index-vector-stores-chroma) (24.1)\n",
      "Requirement already satisfied: pyproject_hooks in /home/nitish/anaconda3/envs/RAG/lib/python3.11/site-packages (from build>=1.0.3->chromadb<0.6.0,>=0.4.0->llama-index-vector-stores-chroma) (1.1.0)\n",
      "Requirement already satisfied: starlette<0.38.0,>=0.37.2 in /home/nitish/anaconda3/envs/RAG/lib/python3.11/site-packages (from fastapi>=0.95.2->chromadb<0.6.0,>=0.4.0->llama-index-vector-stores-chroma) (0.37.2)\n",
      "Requirement already satisfied: anyio in /home/nitish/anaconda3/envs/RAG/lib/python3.11/site-packages (from httpx>=0.27.0->chromadb<0.6.0,>=0.4.0->llama-index-vector-stores-chroma) (4.2.0)\n",
      "Requirement already satisfied: certifi in /home/nitish/anaconda3/envs/RAG/lib/python3.11/site-packages (from httpx>=0.27.0->chromadb<0.6.0,>=0.4.0->llama-index-vector-stores-chroma) (2024.7.4)\n",
      "Requirement already satisfied: httpcore==1.* in /home/nitish/anaconda3/envs/RAG/lib/python3.11/site-packages (from httpx>=0.27.0->chromadb<0.6.0,>=0.4.0->llama-index-vector-stores-chroma) (1.0.5)\n",
      "Requirement already satisfied: idna in /home/nitish/anaconda3/envs/RAG/lib/python3.11/site-packages (from httpx>=0.27.0->chromadb<0.6.0,>=0.4.0->llama-index-vector-stores-chroma) (3.7)\n",
      "Requirement already satisfied: sniffio in /home/nitish/anaconda3/envs/RAG/lib/python3.11/site-packages (from httpx>=0.27.0->chromadb<0.6.0,>=0.4.0->llama-index-vector-stores-chroma) (1.3.0)\n",
      "Requirement already satisfied: h11<0.15,>=0.13 in /home/nitish/anaconda3/envs/RAG/lib/python3.11/site-packages (from httpcore==1.*->httpx>=0.27.0->chromadb<0.6.0,>=0.4.0->llama-index-vector-stores-chroma) (0.14.0)\n",
      "Requirement already satisfied: six>=1.9.0 in /home/nitish/anaconda3/envs/RAG/lib/python3.11/site-packages (from kubernetes>=28.1.0->chromadb<0.6.0,>=0.4.0->llama-index-vector-stores-chroma) (1.16.0)\n",
      "Requirement already satisfied: python-dateutil>=2.5.3 in /home/nitish/anaconda3/envs/RAG/lib/python3.11/site-packages (from kubernetes>=28.1.0->chromadb<0.6.0,>=0.4.0->llama-index-vector-stores-chroma) (2.9.0.post0)\n",
      "Requirement already satisfied: google-auth>=1.0.1 in /home/nitish/anaconda3/envs/RAG/lib/python3.11/site-packages (from kubernetes>=28.1.0->chromadb<0.6.0,>=0.4.0->llama-index-vector-stores-chroma) (2.33.0)\n",
      "Requirement already satisfied: websocket-client!=0.40.0,!=0.41.*,!=0.42.*,>=0.32.0 in /home/nitish/anaconda3/envs/RAG/lib/python3.11/site-packages (from kubernetes>=28.1.0->chromadb<0.6.0,>=0.4.0->llama-index-vector-stores-chroma) (1.8.0)\n",
      "Requirement already satisfied: requests-oauthlib in /home/nitish/anaconda3/envs/RAG/lib/python3.11/site-packages (from kubernetes>=28.1.0->chromadb<0.6.0,>=0.4.0->llama-index-vector-stores-chroma) (2.0.0)\n",
      "Requirement already satisfied: oauthlib>=3.2.2 in /home/nitish/anaconda3/envs/RAG/lib/python3.11/site-packages (from kubernetes>=28.1.0->chromadb<0.6.0,>=0.4.0->llama-index-vector-stores-chroma) (3.2.2)\n",
      "Requirement already satisfied: urllib3>=1.24.2 in /home/nitish/anaconda3/envs/RAG/lib/python3.11/site-packages (from kubernetes>=28.1.0->chromadb<0.6.0,>=0.4.0->llama-index-vector-stores-chroma) (2.2.2)\n",
      "Requirement already satisfied: click in /home/nitish/anaconda3/envs/RAG/lib/python3.11/site-packages (from nltk>=3.8.2->llama-index-core<0.11.0,>=0.10.1->llama-index-vector-stores-chroma) (8.1.7)\n",
      "Requirement already satisfied: joblib in /home/nitish/anaconda3/envs/RAG/lib/python3.11/site-packages (from nltk>=3.8.2->llama-index-core<0.11.0,>=0.10.1->llama-index-vector-stores-chroma) (1.4.2)\n",
      "Requirement already satisfied: regex>=2021.8.3 in /home/nitish/anaconda3/envs/RAG/lib/python3.11/site-packages (from nltk>=3.8.2->llama-index-core<0.11.0,>=0.10.1->llama-index-vector-stores-chroma) (2024.7.24)\n",
      "Requirement already satisfied: coloredlogs in /home/nitish/anaconda3/envs/RAG/lib/python3.11/site-packages (from onnxruntime>=1.14.1->chromadb<0.6.0,>=0.4.0->llama-index-vector-stores-chroma) (15.0.1)\n",
      "Requirement already satisfied: flatbuffers in /home/nitish/anaconda3/envs/RAG/lib/python3.11/site-packages (from onnxruntime>=1.14.1->chromadb<0.6.0,>=0.4.0->llama-index-vector-stores-chroma) (24.3.25)\n",
      "Requirement already satisfied: protobuf in /home/nitish/anaconda3/envs/RAG/lib/python3.11/site-packages (from onnxruntime>=1.14.1->chromadb<0.6.0,>=0.4.0->llama-index-vector-stores-chroma) (4.25.4)\n",
      "Requirement already satisfied: sympy in /home/nitish/anaconda3/envs/RAG/lib/python3.11/site-packages (from onnxruntime>=1.14.1->chromadb<0.6.0,>=0.4.0->llama-index-vector-stores-chroma) (1.13.2)\n",
      "Requirement already satisfied: distro<2,>=1.7.0 in /home/nitish/anaconda3/envs/RAG/lib/python3.11/site-packages (from openai>=1.1.0->llama-index-core<0.11.0,>=0.10.1->llama-index-vector-stores-chroma) (1.9.0)\n",
      "Requirement already satisfied: jiter<1,>=0.4.0 in /home/nitish/anaconda3/envs/RAG/lib/python3.11/site-packages (from openai>=1.1.0->llama-index-core<0.11.0,>=0.10.1->llama-index-vector-stores-chroma) (0.5.0)\n",
      "Requirement already satisfied: importlib-metadata<=8.0.0,>=6.0 in /home/nitish/anaconda3/envs/RAG/lib/python3.11/site-packages (from opentelemetry-api>=1.2.0->chromadb<0.6.0,>=0.4.0->llama-index-vector-stores-chroma) (8.0.0)\n",
      "Requirement already satisfied: googleapis-common-protos~=1.52 in /home/nitish/anaconda3/envs/RAG/lib/python3.11/site-packages (from opentelemetry-exporter-otlp-proto-grpc>=1.2.0->chromadb<0.6.0,>=0.4.0->llama-index-vector-stores-chroma) (1.63.2)\n",
      "Requirement already satisfied: opentelemetry-exporter-otlp-proto-common==1.26.0 in /home/nitish/anaconda3/envs/RAG/lib/python3.11/site-packages (from opentelemetry-exporter-otlp-proto-grpc>=1.2.0->chromadb<0.6.0,>=0.4.0->llama-index-vector-stores-chroma) (1.26.0)\n",
      "Requirement already satisfied: opentelemetry-proto==1.26.0 in /home/nitish/anaconda3/envs/RAG/lib/python3.11/site-packages (from opentelemetry-exporter-otlp-proto-grpc>=1.2.0->chromadb<0.6.0,>=0.4.0->llama-index-vector-stores-chroma) (1.26.0)\n",
      "Requirement already satisfied: opentelemetry-instrumentation-asgi==0.47b0 in /home/nitish/anaconda3/envs/RAG/lib/python3.11/site-packages (from opentelemetry-instrumentation-fastapi>=0.41b0->chromadb<0.6.0,>=0.4.0->llama-index-vector-stores-chroma) (0.47b0)\n",
      "Requirement already satisfied: opentelemetry-instrumentation==0.47b0 in /home/nitish/anaconda3/envs/RAG/lib/python3.11/site-packages (from opentelemetry-instrumentation-fastapi>=0.41b0->chromadb<0.6.0,>=0.4.0->llama-index-vector-stores-chroma) (0.47b0)\n",
      "Requirement already satisfied: opentelemetry-semantic-conventions==0.47b0 in /home/nitish/anaconda3/envs/RAG/lib/python3.11/site-packages (from opentelemetry-instrumentation-fastapi>=0.41b0->chromadb<0.6.0,>=0.4.0->llama-index-vector-stores-chroma) (0.47b0)\n",
      "Requirement already satisfied: opentelemetry-util-http==0.47b0 in /home/nitish/anaconda3/envs/RAG/lib/python3.11/site-packages (from opentelemetry-instrumentation-fastapi>=0.41b0->chromadb<0.6.0,>=0.4.0->llama-index-vector-stores-chroma) (0.47b0)\n",
      "Requirement already satisfied: setuptools>=16.0 in /home/nitish/anaconda3/envs/RAG/lib/python3.11/site-packages (from opentelemetry-instrumentation==0.47b0->opentelemetry-instrumentation-fastapi>=0.41b0->chromadb<0.6.0,>=0.4.0->llama-index-vector-stores-chroma) (72.1.0)\n",
      "Requirement already satisfied: asgiref~=3.0 in /home/nitish/anaconda3/envs/RAG/lib/python3.11/site-packages (from opentelemetry-instrumentation-asgi==0.47b0->opentelemetry-instrumentation-fastapi>=0.41b0->chromadb<0.6.0,>=0.4.0->llama-index-vector-stores-chroma) (3.8.1)\n",
      "Requirement already satisfied: monotonic>=1.5 in /home/nitish/anaconda3/envs/RAG/lib/python3.11/site-packages (from posthog>=2.4.0->chromadb<0.6.0,>=0.4.0->llama-index-vector-stores-chroma) (1.6)\n",
      "Requirement already satisfied: backoff>=1.10.0 in /home/nitish/anaconda3/envs/RAG/lib/python3.11/site-packages (from posthog>=2.4.0->chromadb<0.6.0,>=0.4.0->llama-index-vector-stores-chroma) (2.2.1)\n",
      "Requirement already satisfied: annotated-types>=0.4.0 in /home/nitish/anaconda3/envs/RAG/lib/python3.11/site-packages (from pydantic>=1.9->chromadb<0.6.0,>=0.4.0->llama-index-vector-stores-chroma) (0.7.0)\n",
      "Requirement already satisfied: pydantic-core==2.20.1 in /home/nitish/anaconda3/envs/RAG/lib/python3.11/site-packages (from pydantic>=1.9->chromadb<0.6.0,>=0.4.0->llama-index-vector-stores-chroma) (2.20.1)\n",
      "Requirement already satisfied: charset-normalizer<4,>=2 in /home/nitish/anaconda3/envs/RAG/lib/python3.11/site-packages (from requests>=2.31.0->llama-index-core<0.11.0,>=0.10.1->llama-index-vector-stores-chroma) (3.3.2)\n",
      "Requirement already satisfied: greenlet!=0.4.17 in /home/nitish/anaconda3/envs/RAG/lib/python3.11/site-packages (from SQLAlchemy>=1.4.49->SQLAlchemy[asyncio]>=1.4.49->llama-index-core<0.11.0,>=0.10.1->llama-index-vector-stores-chroma) (3.0.3)\n",
      "Requirement already satisfied: huggingface-hub<1.0,>=0.16.4 in /home/nitish/anaconda3/envs/RAG/lib/python3.11/site-packages (from tokenizers>=0.13.2->chromadb<0.6.0,>=0.4.0->llama-index-vector-stores-chroma) (0.24.5)\n",
      "Requirement already satisfied: shellingham>=1.3.0 in /home/nitish/anaconda3/envs/RAG/lib/python3.11/site-packages (from typer>=0.9.0->chromadb<0.6.0,>=0.4.0->llama-index-vector-stores-chroma) (1.5.4)\n",
      "Requirement already satisfied: rich>=10.11.0 in /home/nitish/anaconda3/envs/RAG/lib/python3.11/site-packages (from typer>=0.9.0->chromadb<0.6.0,>=0.4.0->llama-index-vector-stores-chroma) (13.7.1)\n",
      "Requirement already satisfied: mypy-extensions>=0.3.0 in /home/nitish/anaconda3/envs/RAG/lib/python3.11/site-packages (from typing-inspect>=0.8.0->llama-index-core<0.11.0,>=0.10.1->llama-index-vector-stores-chroma) (1.0.0)\n",
      "Requirement already satisfied: httptools>=0.5.0 in /home/nitish/anaconda3/envs/RAG/lib/python3.11/site-packages (from uvicorn[standard]>=0.18.3->chromadb<0.6.0,>=0.4.0->llama-index-vector-stores-chroma) (0.6.1)\n",
      "Requirement already satisfied: python-dotenv>=0.13 in /home/nitish/anaconda3/envs/RAG/lib/python3.11/site-packages (from uvicorn[standard]>=0.18.3->chromadb<0.6.0,>=0.4.0->llama-index-vector-stores-chroma) (1.0.1)\n",
      "Requirement already satisfied: uvloop!=0.15.0,!=0.15.1,>=0.14.0 in /home/nitish/anaconda3/envs/RAG/lib/python3.11/site-packages (from uvicorn[standard]>=0.18.3->chromadb<0.6.0,>=0.4.0->llama-index-vector-stores-chroma) (0.19.0)\n",
      "Requirement already satisfied: watchfiles>=0.13 in /home/nitish/anaconda3/envs/RAG/lib/python3.11/site-packages (from uvicorn[standard]>=0.18.3->chromadb<0.6.0,>=0.4.0->llama-index-vector-stores-chroma) (0.23.0)\n",
      "Requirement already satisfied: websockets>=10.4 in /home/nitish/anaconda3/envs/RAG/lib/python3.11/site-packages (from uvicorn[standard]>=0.18.3->chromadb<0.6.0,>=0.4.0->llama-index-vector-stores-chroma) (12.0)\n",
      "Requirement already satisfied: marshmallow<4.0.0,>=3.18.0 in /home/nitish/anaconda3/envs/RAG/lib/python3.11/site-packages (from dataclasses-json->llama-index-core<0.11.0,>=0.10.1->llama-index-vector-stores-chroma) (3.21.3)\n",
      "Requirement already satisfied: pytz>=2020.1 in /home/nitish/anaconda3/envs/RAG/lib/python3.11/site-packages (from pandas->llama-index-core<0.11.0,>=0.10.1->llama-index-vector-stores-chroma) (2024.1)\n",
      "Requirement already satisfied: tzdata>=2022.7 in /home/nitish/anaconda3/envs/RAG/lib/python3.11/site-packages (from pandas->llama-index-core<0.11.0,>=0.10.1->llama-index-vector-stores-chroma) (2024.1)\n",
      "Requirement already satisfied: cachetools<6.0,>=2.0.0 in /home/nitish/anaconda3/envs/RAG/lib/python3.11/site-packages (from google-auth>=1.0.1->kubernetes>=28.1.0->chromadb<0.6.0,>=0.4.0->llama-index-vector-stores-chroma) (5.4.0)\n",
      "Requirement already satisfied: pyasn1-modules>=0.2.1 in /home/nitish/anaconda3/envs/RAG/lib/python3.11/site-packages (from google-auth>=1.0.1->kubernetes>=28.1.0->chromadb<0.6.0,>=0.4.0->llama-index-vector-stores-chroma) (0.4.0)\n",
      "Requirement already satisfied: rsa<5,>=3.1.4 in /home/nitish/anaconda3/envs/RAG/lib/python3.11/site-packages (from google-auth>=1.0.1->kubernetes>=28.1.0->chromadb<0.6.0,>=0.4.0->llama-index-vector-stores-chroma) (4.9)\n",
      "Requirement already satisfied: filelock in /home/nitish/anaconda3/envs/RAG/lib/python3.11/site-packages (from huggingface-hub<1.0,>=0.16.4->tokenizers>=0.13.2->chromadb<0.6.0,>=0.4.0->llama-index-vector-stores-chroma) (3.15.4)\n",
      "Requirement already satisfied: zipp>=0.5 in /home/nitish/anaconda3/envs/RAG/lib/python3.11/site-packages (from importlib-metadata<=8.0.0,>=6.0->opentelemetry-api>=1.2.0->chromadb<0.6.0,>=0.4.0->llama-index-vector-stores-chroma) (3.20.0)\n",
      "Requirement already satisfied: markdown-it-py>=2.2.0 in /home/nitish/anaconda3/envs/RAG/lib/python3.11/site-packages (from rich>=10.11.0->typer>=0.9.0->chromadb<0.6.0,>=0.4.0->llama-index-vector-stores-chroma) (3.0.0)\n",
      "Requirement already satisfied: pygments<3.0.0,>=2.13.0 in /home/nitish/anaconda3/envs/RAG/lib/python3.11/site-packages (from rich>=10.11.0->typer>=0.9.0->chromadb<0.6.0,>=0.4.0->llama-index-vector-stores-chroma) (2.15.1)\n",
      "Requirement already satisfied: humanfriendly>=9.1 in /home/nitish/anaconda3/envs/RAG/lib/python3.11/site-packages (from coloredlogs->onnxruntime>=1.14.1->chromadb<0.6.0,>=0.4.0->llama-index-vector-stores-chroma) (10.0)\n",
      "Requirement already satisfied: mpmath<1.4,>=1.1.0 in /home/nitish/anaconda3/envs/RAG/lib/python3.11/site-packages (from sympy->onnxruntime>=1.14.1->chromadb<0.6.0,>=0.4.0->llama-index-vector-stores-chroma) (1.3.0)\n",
      "Requirement already satisfied: mdurl~=0.1 in /home/nitish/anaconda3/envs/RAG/lib/python3.11/site-packages (from markdown-it-py>=2.2.0->rich>=10.11.0->typer>=0.9.0->chromadb<0.6.0,>=0.4.0->llama-index-vector-stores-chroma) (0.1.2)\n",
      "Requirement already satisfied: pyasn1<0.7.0,>=0.4.6 in /home/nitish/anaconda3/envs/RAG/lib/python3.11/site-packages (from pyasn1-modules>=0.2.1->google-auth>=1.0.1->kubernetes>=28.1.0->chromadb<0.6.0,>=0.4.0->llama-index-vector-stores-chroma) (0.6.0)\n",
      "Downloading llama_index_vector_stores_chroma-0.1.10-py3-none-any.whl (5.0 kB)\n",
      "Installing collected packages: llama-index-vector-stores-chroma\n",
      "Successfully installed llama-index-vector-stores-chroma-0.1.10\n"
     ]
    }
   ],
   "source": [
    "!pip install llama-index-vector-stores-chroma"
   ]
  },
  {
   "cell_type": "code",
   "execution_count": 98,
   "id": "844179c6-4186-4de0-b4d6-bd5344e50b16",
   "metadata": {},
   "outputs": [],
   "source": [
    "import chromadb\n",
    "from llama_index.core import VectorStoreIndex\n",
    "from llama_index.vector_stores.chroma import ChromaVectorStore\n",
    "from llama_index.core import StorageContext"
   ]
  },
  {
   "cell_type": "code",
   "execution_count": 107,
   "id": "e8390ae5-35d0-4f34-8147-13b647e7032d",
   "metadata": {},
   "outputs": [
    {
     "name": "stdout",
     "output_type": "stream",
     "text": [
      "The meaning of attention refers to the mechanism in a model that allows it to focus on specific parts of the input data during processing. This mechanism helps the model to weigh the importance of different elements in the input when making predictions or generating outputs.\n"
     ]
    }
   ],
   "source": [
    "# load some documents\n",
    "documents = SimpleDirectoryReader(\"./data\").load_data()\n",
    "\n",
    "# initialize client, setting path to save data\n",
    "db = chromadb.PersistentClient(path=\"./chroma_db\")\n",
    "\n",
    "# create collection\n",
    "chroma_collection = db.get_or_create_collection(\"quickstart\")\n",
    "\n",
    "# assign chroma as the vector_store to the context\n",
    "vector_store = ChromaVectorStore(chroma_collection=chroma_collection)\n",
    "storage_context = StorageContext.from_defaults(vector_store=vector_store)\n",
    "\n",
    "# create your index\n",
    "index = VectorStoreIndex.from_documents(\n",
    "    documents, storage_context=storage_context\n",
    ")\n",
    "\n",
    "# create a query engine and query\n",
    "query_engine = index.as_query_engine()\n",
    "response = query_engine.query(\"What is the meaning of attention?\")\n",
    "print(response)"
   ]
  },
  {
   "cell_type": "markdown",
   "id": "21f9d712-d01d-485e-bea2-780a718c75b5",
   "metadata": {},
   "source": [
    "# Querying"
   ]
  },
  {
   "cell_type": "code",
   "execution_count": null,
   "id": "c000289a-dfa6-4bc4-888d-3da41a94621f",
   "metadata": {},
   "outputs": [],
   "source": [
    "from llama_index.core import VectorStoreIndex, get_response_synthesizer\n",
    "from llama_index.core.retrievers import VectorIndexRetriever\n",
    "from llama_index.core.query_engine import RetrieverQueryEngine\n",
    "from llama_index.core.postprocessor import SimilarityPostprocessor\n",
    "\n",
    "# build index\n",
    "index = VectorStoreIndex.from_documents(documents)\n",
    "\n",
    "# configure retriever\n",
    "retriever = VectorIndexRetriever(\n",
    "    index=index,\n",
    "    similarity_top_k=10,\n",
    ")\n",
    "\n",
    "# configure response synthesizer\n",
    "response_synthesizer = get_response_synthesizer()\n",
    "\n",
    "# assemble query engine\n",
    "query_engine = RetrieverQueryEngine(\n",
    "    retriever=retriever,\n",
    "    response_synthesizer=response_synthesizer,\n",
    "    node_postprocessors=[SimilarityPostprocessor(similarity_cutoff=0.7)],\n",
    ")\n",
    "\n",
    "# query\n",
    "response = query_engine.query(\"What did the author do growing up?\")\n",
    "print(response)"
   ]
  },
  {
   "cell_type": "markdown",
   "id": "1fb58584-79d5-4ab7-8dea-96d041412a5d",
   "metadata": {},
   "source": [
    "In this example, we customize our retriever to use a different number for top_k and add a post-processing step that requires that the retrieved nodes reach a minimum similarity score to be included. This would give you a lot of data when you have relevant results but potentially no data if you have nothing relevant.\n"
   ]
  },
  {
   "cell_type": "code",
   "execution_count": null,
   "id": "e35eb1b4-c4a8-48e9-9192-6abc63a48a88",
   "metadata": {},
   "outputs": [],
   "source": []
  }
 ],
 "metadata": {
  "kernelspec": {
   "display_name": "Python 3 (ipykernel)",
   "language": "python",
   "name": "python3"
  },
  "language_info": {
   "codemirror_mode": {
    "name": "ipython",
    "version": 3
   },
   "file_extension": ".py",
   "mimetype": "text/x-python",
   "name": "python",
   "nbconvert_exporter": "python",
   "pygments_lexer": "ipython3",
   "version": "3.11.9"
  }
 },
 "nbformat": 4,
 "nbformat_minor": 5
}
